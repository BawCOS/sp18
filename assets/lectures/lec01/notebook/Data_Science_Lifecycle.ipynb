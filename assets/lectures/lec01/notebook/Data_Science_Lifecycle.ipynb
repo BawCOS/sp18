{
 "cells": [
  {
   "cell_type": "markdown",
   "metadata": {},
   "source": [
    "# Python Software in DS100\n",
    "\n",
    "We will be using Python and Jupyter Notebooks for most of the class.  You should take some time to learn how to use Jupyter and some of the keyboard shortcuts."
   ]
  },
  {
   "cell_type": "markdown",
   "metadata": {},
   "source": [
    "## Software Packages\n",
    "\n",
    "We will be using a wide range of different Python software packages.  To install and manage these packages we will be using the Conda environment manager.  The following is a list of packages we will routinely use in lectures and homeworks:"
   ]
  },
  {
   "cell_type": "markdown",
   "metadata": {},
   "source": [
    "### Linear Algebra"
   ]
  },
  {
   "cell_type": "code",
   "execution_count": null,
   "metadata": {
    "collapsed": true
   },
   "outputs": [],
   "source": [
    "import numpy as np"
   ]
  },
  {
   "cell_type": "markdown",
   "metadata": {},
   "source": [
    "### Data manipulation"
   ]
  },
  {
   "cell_type": "code",
   "execution_count": null,
   "metadata": {
    "collapsed": true
   },
   "outputs": [],
   "source": [
    "import pandas as pd"
   ]
  },
  {
   "cell_type": "markdown",
   "metadata": {},
   "source": [
    "### Visualization"
   ]
  },
  {
   "cell_type": "code",
   "execution_count": null,
   "metadata": {
    "collapsed": true
   },
   "outputs": [],
   "source": [
    "import matplotlib.pyplot as plt\n",
    "import seaborn as sns\n",
    "%matplotlib inline"
   ]
  },
  {
   "cell_type": "markdown",
   "metadata": {},
   "source": [
    "## Interactivity"
   ]
  },
  {
   "cell_type": "code",
   "execution_count": null,
   "metadata": {
    "collapsed": true
   },
   "outputs": [],
   "source": [
    "import ipywidgets as widgets\n",
    "from ipywidgets import interact"
   ]
  },
  {
   "cell_type": "markdown",
   "metadata": {},
   "source": [
    "Occasionally we will also use interactive visualization libraries like Plotly:"
   ]
  },
  {
   "cell_type": "code",
   "execution_count": null,
   "metadata": {},
   "outputs": [],
   "source": [
    "## Plotly plotting support\n",
    "import plotly.offline as py\n",
    "py.init_notebook_mode()\n",
    "import plotly.graph_objs as go\n",
    "import plotly.figure_factory as ff\n",
    "import cufflinks as cf\n",
    "cf.set_config_file(offline=True, world_readable=True, theme='ggplot')"
   ]
  },
  {
   "cell_type": "markdown",
   "metadata": {},
   "source": [
    "# The Data Science Lifecycle\n",
    "\n",
    "<img src=\"lifecycle.png\" width=\"400px\"/>\n",
    "\n",
    "In this lecture we provide a sample of the various topics covered in DS100. In particular we will discuss key aspects of the **data science lifecycle:**\n",
    "\n",
    "1. **Question/Problem Formulation:** \n",
    "    1. What do we want to know or what problems are we trying to solve?  \n",
    "    1. What are our hypotheses? \n",
    "    1. What are our metrics of success? <br/><br/>\n",
    "1. **Data Acquisition and Cleaning:** \n",
    "    1. What data do we have and what data do we need?  \n",
    "    1. How will we collect more data?\n",
    "    1. Is our data representative?\n",
    "    1. How do we organize the data for analysis?  <br/><br/>\n",
    "1. **Exploratory Data Analysis:** \n",
    "    1. How is our data organized and what does it contain?\n",
    "    1. What are the biases, anomalies, or other issues with the data?  \n",
    "    1. How do we transform the data to enable effective analysis? <br/><br/>\n",
    "1. **Prediction and Inference:** \n",
    "    1. What does the data say about the world?  \n",
    "    1. Does it answer our questions or accurately solve the problem?  \n",
    "    1. How robust are our conclusions and can we trust the predictions? <br/><br/>\n",
    "\n",
    "\n"
   ]
  },
  {
   "cell_type": "markdown",
   "metadata": {},
   "source": [
    "# Starting with a Question: **Who are you (the students of DS100)?**\n",
    "\n",
    "This is a pretty vague question but let's start with the goal of learning something about the students in the class.\n"
   ]
  },
  {
   "cell_type": "markdown",
   "metadata": {},
   "source": [
    "## Data Acquisition and Cleaning \n",
    "\n",
    "**In DS100 we will study various methods to collect data.**\n",
    "\n",
    "To answer this question, I downloaded the course roster and extracted everyones names. "
   ]
  },
  {
   "cell_type": "code",
   "execution_count": null,
   "metadata": {},
   "outputs": [],
   "source": [
    "students = pd.read_csv(\"roster.csv\")\n",
    "students.head()"
   ]
  },
  {
   "cell_type": "markdown",
   "metadata": {
    "solution2": "hidden",
    "solution2_first": true
   },
   "source": [
    "**What are some of the issues that we will need to address in this data?**"
   ]
  },
  {
   "cell_type": "markdown",
   "metadata": {
    "solution2": "hidden"
   },
   "source": [
    "**Answer:**\n",
    "1. What is the meaning of *Role*\n",
    "1. Some names appear capitalized. "
   ]
  },
  {
   "cell_type": "markdown",
   "metadata": {},
   "source": [
    "In the above sample we notice that some of the names are capitalized and some are not.  This will be an issue in our later analysis so let's convert all names to lower case."
   ]
  },
  {
   "cell_type": "code",
   "execution_count": null,
   "metadata": {},
   "outputs": [],
   "source": [
    "students['Name'] = students['Name'].str.lower()\n",
    "students.head()"
   ]
  },
  {
   "cell_type": "markdown",
   "metadata": {},
   "source": [
    "---\n",
    "<br/><br/><br/>\n",
    "\n",
    "## Exploratory Data Analysis\n",
    "\n",
    "**In DS100 we will study exploratory data analysis and practice analyzing new datasets.**\n"
   ]
  },
  {
   "cell_type": "markdown",
   "metadata": {
    "solution2": "shown",
    "solution2_first": true
   },
   "source": [
    "### How many records do we have:\n",
    "A good starting point is understanding the size of the data. "
   ]
  },
  {
   "cell_type": "markdown",
   "metadata": {
    "solution2": "shown"
   },
   "source": [
    "#### Solution"
   ]
  },
  {
   "cell_type": "code",
   "execution_count": null,
   "metadata": {
    "solution2": "shown"
   },
   "outputs": [],
   "source": [
    "print(\"There are\", len(students), \"students on the roster.\")"
   ]
  },
  {
   "cell_type": "markdown",
   "metadata": {
    "solution2": "hidden",
    "solution2_first": true
   },
   "source": [
    "<br/><br/>\n",
    "**Is this big data? (would you call this a \"big class\")**"
   ]
  },
  {
   "cell_type": "markdown",
   "metadata": {
    "solution2": "hidden"
   },
   "source": [
    "**Answer**\n",
    "\n",
    "This would not normally constitute big data ... however this is a common data size for a lot of data analysis tasks.\n",
    "\n",
    "Is this a big class? YES!"
   ]
  },
  {
   "cell_type": "markdown",
   "metadata": {},
   "source": [
    "### Is my data representative of the population I want to study?"
   ]
  },
  {
   "cell_type": "markdown",
   "metadata": {
    "solution2": "hidden",
    "solution2_first": true
   },
   "source": [
    "\n",
    "<br/><br/>\n",
    "**Should we be worried about the sample size? Is this even a sample?**"
   ]
  },
  {
   "cell_type": "markdown",
   "metadata": {
    "solution2": "hidden"
   },
   "source": [
    "**Answer:**\n",
    "\n",
    "This is (or at least was) a complete **census** of the class containing all the official students.  We will learn more about data collection and sampling in the next lecture."
   ]
  },
  {
   "cell_type": "markdown",
   "metadata": {
    "solution2": "shown",
    "solution2_first": true
   },
   "source": [
    "<br/><br/>\n",
    "### Understanding the structure of data\n",
    "\n",
    "It is important that we understand the meaning of each field and how the data is organized."
   ]
  },
  {
   "cell_type": "code",
   "execution_count": null,
   "metadata": {},
   "outputs": [],
   "source": [
    "students.head()"
   ]
  },
  {
   "cell_type": "markdown",
   "metadata": {},
   "source": [
    "**What is the meaning of the **Role** field?**"
   ]
  },
  {
   "cell_type": "markdown",
   "metadata": {
    "solution2": "shown"
   },
   "source": [
    "**Solution** \n",
    "Understanding the meaning of field can often be achieved by looking at the types of data it contains (in particular the counts of its unique values)."
   ]
  },
  {
   "cell_type": "code",
   "execution_count": null,
   "metadata": {
    "solution2": "shown"
   },
   "outputs": [],
   "source": [
    "students['Role'].value_counts().to_frame()"
   ]
  },
  {
   "cell_type": "markdown",
   "metadata": {},
   "source": [
    "### Summarizing the Data\n",
    "\n",
    "We will often want to numerically or visually summarize the data.  **How can we summarize the name field?**"
   ]
  },
  {
   "cell_type": "markdown",
   "metadata": {
    "solution2": "shown"
   },
   "source": [
    "**In DS100 we will deal with many different kinds of data (not just numbers) and we will study techniques to diverse types of data.**\n",
    "\n",
    "A good starting point might be to examine the lengths of the strings."
   ]
  },
  {
   "cell_type": "code",
   "execution_count": null,
   "metadata": {
    "scrolled": false,
    "solution2": "shown"
   },
   "outputs": [],
   "source": [
    "sns.distplot(students['Name'].str.len(), rug=True, axlabel=\"Number of Characters\")"
   ]
  },
  {
   "cell_type": "markdown",
   "metadata": {
    "solution2": "shown"
   },
   "source": [
    "The above density plot combines histograms with kernel density estimators and a rug plot to convey information about the distribution of name lengths.  \n",
    "\n",
    "**In DS100 we will learn a lot about how to visualize data.**"
   ]
  },
  {
   "cell_type": "markdown",
   "metadata": {
    "solution2": "hidden",
    "solution2_first": true
   },
   "source": [
    "<br/><br/>\n",
    "\n",
    "**Does the above plot seem reasonable?  Why might we want to check the lengths of strings.**"
   ]
  },
  {
   "cell_type": "markdown",
   "metadata": {
    "solution2": "hidden"
   },
   "source": [
    "**Answer**\n",
    "Yes the above plot seems reasonable for name lengths.  We might be concerned if there were 0 or even 1 letter names as these might represent abbreviations or missing entries. "
   ]
  },
  {
   "cell_type": "markdown",
   "metadata": {
    "solution2": "shown",
    "solution2_first": true
   },
   "source": [
    "<br/><br/><br/><br/> \n",
    "\n",
    "---\n",
    "\n",
    "# What does a name tell us about a person?\n",
    "\n",
    "We normally don't get to pick our names but they can say a lot about us. "
   ]
  },
  {
   "cell_type": "markdown",
   "metadata": {
    "solution2": "hidden",
    "solution2_first": true
   },
   "source": [
    "**Question: What information might a name reveal about a person?**"
   ]
  },
  {
   "cell_type": "markdown",
   "metadata": {
    "solution2": "hidden"
   },
   "source": [
    "Here are some examples we will explore in this lecture:\n",
    "1. Gender\n",
    "1. Age\n",
    "\n"
   ]
  },
  {
   "cell_type": "markdown",
   "metadata": {},
   "source": [
    "---\n",
    "\n",
    "<br/><br/><br/>\n",
    "\n",
    "# Obtaining More Data\n",
    "\n",
    "To study what a name tells about a person we will download data from the United States Social Security office containing the number of registered names broken down by **year**, **sex**, and **name**.  This is often called the baby names data as social security numbers are typically given at birth.\n",
    "\n",
    "Note: In the following we download the data programmatically to ensure that the process is reproducible."
   ]
  },
  {
   "cell_type": "code",
   "execution_count": null,
   "metadata": {
    "collapsed": true
   },
   "outputs": [],
   "source": [
    "import urllib.request\n",
    "import os.path\n",
    "\n",
    "data_url = \"https://www.ssa.gov/oact/babynames/names.zip\"\n",
    "local_filename = \"babynames.zip\"\n",
    "if not os.path.exists(local_filename): # if the data exists don't download again\n",
    "    with urllib.request.urlopen(data_url) as resp, open(local_filename, 'wb') as f:\n",
    "        f.write(resp.read())"
   ]
  },
  {
   "cell_type": "markdown",
   "metadata": {},
   "source": [
    "The data is organized into separate files in the format `yobYYYY.txt` with each file containing the `name`, `sex`, and `count` of babies registered in that year."
   ]
  },
  {
   "cell_type": "markdown",
   "metadata": {},
   "source": [
    "## Loading the Data\n",
    "\n",
    "Note: In the following we load the data directly into python without decompressing the zipfile.\n",
    "\n",
    "**In DS100 we will think a bit more about how we can be efficient in our data analysis to support processing large datasets.**"
   ]
  },
  {
   "cell_type": "code",
   "execution_count": null,
   "metadata": {
    "collapsed": true
   },
   "outputs": [],
   "source": [
    "import zipfile\n",
    "babynames = [] \n",
    "with zipfile.ZipFile(local_filename, \"r\") as zf:\n",
    "    data_files = [f for f in zf.filelist if f.filename[-3:] == \"txt\"]\n",
    "    def extract_year_from_filename(fn):\n",
    "        return int(fn[3:7])\n",
    "    for f in data_files:\n",
    "        year = extract_year_from_filename(f.filename)\n",
    "        with zf.open(f) as fp:\n",
    "            df = pd.read_csv(fp, names=[\"Name\", \"Sex\", \"Count\"])\n",
    "            df[\"Year\"] = year\n",
    "            babynames.append(df)\n",
    "babynames = pd.concat(babynames)\n"
   ]
  },
  {
   "cell_type": "markdown",
   "metadata": {},
   "source": [
    "---\n",
    "<br/><br/><br/>\n",
    "\n",
    "## Understanding the Setting\n",
    "\n",
    "**In DS100 you will have to learn about different data sources on your own.**\n",
    "\n",
    "<img src=\"baby_names_desc.png\" width=\"600px\" />\n",
    "\n",
    "Reading from [SSN Office description](https://www.ssa.gov/oact/babynames/background.html): \n",
    "\n",
    "    All names are from Social Security card applications for births that occurred in the United States after 1879. Note  that many people born before 1937 never applied for a Social Security card, so their names are not included in our data. For others who did apply, our records may not show the place of birth, and again their names are not included in our data.\n",
    "\n",
    "    All data are from a 100% sample of our records on Social Security card applications as of March 2017."
   ]
  },
  {
   "cell_type": "markdown",
   "metadata": {},
   "source": [
    "---\n",
    "<br/><br/><br/>\n",
    "\n",
    "## Data Cleaning "
   ]
  },
  {
   "cell_type": "markdown",
   "metadata": {},
   "source": [
    "Examining the data:"
   ]
  },
  {
   "cell_type": "code",
   "execution_count": null,
   "metadata": {},
   "outputs": [],
   "source": [
    "babynames.head()"
   ]
  },
  {
   "cell_type": "markdown",
   "metadata": {},
   "source": [
    "In our earlier analysis we converted names to lower case.  We will do the same again here:"
   ]
  },
  {
   "cell_type": "code",
   "execution_count": null,
   "metadata": {},
   "outputs": [],
   "source": [
    "babynames['Name'] = babynames['Name'].str.lower()\n",
    "babynames.head()"
   ]
  },
  {
   "cell_type": "markdown",
   "metadata": {},
   "source": [
    "---\n",
    "<br/><br/><br/>\n",
    "\n",
    "## Exploratory Data Analysis"
   ]
  },
  {
   "cell_type": "markdown",
   "metadata": {},
   "source": [
    "How many people does this data represent?"
   ]
  },
  {
   "cell_type": "code",
   "execution_count": null,
   "metadata": {},
   "outputs": [],
   "source": [
    "format(babynames['Count'].sum(), ',d') "
   ]
  },
  {
   "cell_type": "code",
   "execution_count": null,
   "metadata": {},
   "outputs": [],
   "source": [
    "len(babynames)"
   ]
  },
  {
   "cell_type": "markdown",
   "metadata": {
    "solution2": "shown",
    "solution2_first": true
   },
   "source": [
    "**Is this number low or high?**"
   ]
  },
  {
   "cell_type": "markdown",
   "metadata": {
    "solution2": "shown"
   },
   "source": [
    "**Answer**\n",
    "\n",
    "It seems low. However the social security website states: \n",
    "\n",
    "    All names are from Social Security card applications for births that occurred in the United States after 1879. **Note that many people born before 1937 never applied for a Social Security card, so their names are not included in our data.** For others who did apply, our records may not show the place of birth, and again their names are not included in our data. All data are from a 100% sample of our records on Social Security card applications as of the end of February 2016."
   ]
  },
  {
   "cell_type": "markdown",
   "metadata": {},
   "source": [
    "---\n",
    "<br/><br/><br/>\n",
    "\n",
    "### Temporal Patterns Conditioned on Gender\n",
    "\n",
    "**In DS100 we still study how to visualize and analyze relationships in data.**\n",
    "\n",
    "In this example we construct a **pivot table** which aggregates the number of babies registered for each year by `Sex`."
   ]
  },
  {
   "cell_type": "code",
   "execution_count": null,
   "metadata": {},
   "outputs": [],
   "source": [
    "pivot_year_name_count = pd.pivot_table(babynames, \n",
    "        index=['Year'], # the row index\n",
    "        columns=['Sex'], # the column values\n",
    "        values='Count', # the field(s) to processed in each group\n",
    "        aggfunc=np.sum,\n",
    "    )\n",
    "\n",
    "pivot_year_name_count.head()"
   ]
  },
  {
   "cell_type": "markdown",
   "metadata": {},
   "source": [
    "We can visualize these descriptive statistics:"
   ]
  },
  {
   "cell_type": "code",
   "execution_count": null,
   "metadata": {},
   "outputs": [],
   "source": [
    "pink_blue = [\"#E188DB\", \"#334FFF\"]\n",
    "with sns.color_palette(sns.color_palette(pink_blue)):\n",
    "    pivot_year_name_count.plot(marker=\".\")\n",
    "    plt.title(\"Registered Names vs Year Stratified by Sex\")\n",
    "    plt.ylabel('Names Registered that Year')"
   ]
  },
  {
   "cell_type": "markdown",
   "metadata": {},
   "source": [
    "**In DS100 we will learn to use many different plotting technologies.**"
   ]
  },
  {
   "cell_type": "code",
   "execution_count": null,
   "metadata": {},
   "outputs": [],
   "source": [
    "pivot_year_name_count.iplot(\n",
    "    mode=\"lines+markers\", size=8, colors=pink_blue,\n",
    "    xTitle=\"Year\", yTitle='Names Registered that Year',\n",
    "    filename=\"Registered SSN Names\")"
   ]
  },
  {
   "cell_type": "code",
   "execution_count": null,
   "metadata": {},
   "outputs": [],
   "source": [
    "pivot_year_name_nunique = pd.pivot_table(babynames, \n",
    "        index=['Year'], \n",
    "        columns=['Sex'], \n",
    "        values='Name', \n",
    "        aggfunc=lambda x: len(np.unique(x)),\n",
    "    )\n",
    "\n",
    "pivot_year_name_nunique.iplot(\n",
    "    mode=\"lines+markers\", size=8, colors=pink_blue,\n",
    "    xTitle=\"Year\", yTitle='Number of Unique Names',\n",
    "    filename=\"Unique SSN Names\")"
   ]
  },
  {
   "cell_type": "markdown",
   "metadata": {
    "solution2": "shown"
   },
   "source": [
    "**Some observations:**\n",
    "1. Registration data seems limited in the early 1900s.  Because many people did not register before 1937.  \n",
    "1. You can see the [baby boomers](https://www.wikiwand.com/en/Baby_boomers).\n",
    "1. Females have greater diversity of names."
   ]
  },
  {
   "cell_type": "markdown",
   "metadata": {},
   "source": [
    "<br/><br/><br/>\n",
    "\n",
    "# Estimating the Sex of a Baby Given it's Name\n",
    "\n",
    "We can use the baby names dataset to compute the total number of babies with each name broken down by Sex."
   ]
  },
  {
   "cell_type": "code",
   "execution_count": null,
   "metadata": {},
   "outputs": [],
   "source": [
    "sex_counts = pd.pivot_table(babynames, index='Name', columns='Sex', values='Count',\n",
    "                            aggfunc='sum', fill_value=0., margins=True)\n",
    "sex_counts.head()"
   ]
  },
  {
   "cell_type": "markdown",
   "metadata": {},
   "source": [
    "For each name we would like to estimate the **probability** that the baby is `Female`. \n",
    "\n",
    "$$ \\Large\n",
    "\\hat{\\textbf{P}\\hspace{0pt}}(\\texttt{Female} \\,\\,\\, | \\,\\,\\, \\texttt{Name} ) = \\frac{\\textbf{Count}(\\texttt{Female and Name})}{\\textbf{Count}(\\texttt{Name})}\n",
    "$$"
   ]
  },
  {
   "cell_type": "markdown",
   "metadata": {},
   "source": [
    "We can calculate this estimator from the data:"
   ]
  },
  {
   "cell_type": "code",
   "execution_count": null,
   "metadata": {},
   "outputs": [],
   "source": [
    "prob_female = sex_counts['F'] / sex_counts['All'] \n",
    "prob_female.head()"
   ]
  },
  {
   "cell_type": "markdown",
   "metadata": {},
   "source": [
    "** Testing the function: **"
   ]
  },
  {
   "cell_type": "code",
   "execution_count": null,
   "metadata": {},
   "outputs": [],
   "source": [
    "prob_female[\"joey\"]"
   ]
  },
  {
   "cell_type": "code",
   "execution_count": null,
   "metadata": {},
   "outputs": [],
   "source": [
    "prob_female[\"fernando\"]"
   ]
  },
  {
   "cell_type": "code",
   "execution_count": null,
   "metadata": {},
   "outputs": [],
   "source": [
    "prob_female[\"nhi\"]"
   ]
  },
  {
   "cell_type": "code",
   "execution_count": null,
   "metadata": {},
   "outputs": [],
   "source": [
    "prob_female[\"sona\"]"
   ]
  },
  {
   "cell_type": "markdown",
   "metadata": {},
   "source": [
    "We can define a function to return the most likely `Sex` for a name."
   ]
  },
  {
   "cell_type": "code",
   "execution_count": null,
   "metadata": {
    "collapsed": true
   },
   "outputs": [],
   "source": [
    "def sex_from_name(name):\n",
    "    lower_name = name.lower()\n",
    "    if lower_name in prob_female.index:\n",
    "        return 'F' if prob_female[lower_name] > 0.5 else 'M'\n",
    "    else:\n",
    "        return \"Unknown\""
   ]
  },
  {
   "cell_type": "code",
   "execution_count": null,
   "metadata": {},
   "outputs": [],
   "source": [
    "sex_from_name(\"Joey\")"
   ]
  },
  {
   "cell_type": "markdown",
   "metadata": {},
   "source": [
    "## Estimating the faction of Females in DS100"
   ]
  },
  {
   "cell_type": "markdown",
   "metadata": {},
   "source": [
    "\n",
    "### Can we use the Baby Names data?"
   ]
  },
  {
   "cell_type": "markdown",
   "metadata": {},
   "source": [
    "What fraction of the student names are in the baby names database:"
   ]
  },
  {
   "cell_type": "code",
   "execution_count": null,
   "metadata": {},
   "outputs": [],
   "source": [
    "names = pd.Index(students[\"Name\"]).intersection(prob_female.index)\n",
    "print(\"Fraction of names in the babynames data:\" , len(names) / len(students))"
   ]
  },
  {
   "cell_type": "markdown",
   "metadata": {},
   "source": [
    "## Applying the `sex_from_name` function to all students"
   ]
  },
  {
   "cell_type": "markdown",
   "metadata": {},
   "source": [
    "We can apply the `sex_from_name` function to all students in the class to estimate the number of male and female students."
   ]
  },
  {
   "cell_type": "code",
   "execution_count": null,
   "metadata": {},
   "outputs": [],
   "source": [
    "count_by_sex = students['Name'].apply(sex_from_name).value_counts().to_frame()\n",
    "count_by_sex"
   ]
  },
  {
   "cell_type": "markdown",
   "metadata": {},
   "source": [
    "Using the above we can estimate the fraction of female students in the class"
   ]
  },
  {
   "cell_type": "code",
   "execution_count": null,
   "metadata": {},
   "outputs": [],
   "source": [
    "count_by_sex.loc['F'] / (count_by_sex.loc['M'] + count_by_sex.loc['F'])"
   ]
  },
  {
   "cell_type": "markdown",
   "metadata": {},
   "source": [
    "1. **How do we feel about this estimate?** \n",
    "1. **Do we trust it?**"
   ]
  },
  {
   "cell_type": "markdown",
   "metadata": {},
   "source": [
    "## Using simulation to estimate uncertainty"
   ]
  },
  {
   "cell_type": "markdown",
   "metadata": {},
   "source": [
    "Below we build a primitive estimate of the uncertainty in our model by simulating the `Sex` of each student according to the baby names dataset."
   ]
  },
  {
   "cell_type": "code",
   "execution_count": null,
   "metadata": {},
   "outputs": [],
   "source": [
    "def simulate_class(students):\n",
    "    p = prob_female.loc[students['Name']].dropna()\n",
    "    is_female = np.random.rand(len(p)) < p\n",
    "    return np.mean(is_female)\n",
    "\n",
    "propritions = np.array([simulate_class(students) for n in range(1000)])"
   ]
  },
  {
   "cell_type": "code",
   "execution_count": null,
   "metadata": {},
   "outputs": [],
   "source": [
    "sns.distplot(propritions, rug=True, axlabel=\"Number of Characters\")"
   ]
  },
  {
   "cell_type": "markdown",
   "metadata": {},
   "source": [
    "---\n",
    "<br/><br/><br/>\n",
    "\n",
    "# Bonus Material: Does you name reveal your age?\n",
    "\n",
    "In the following cell we define a variable for your name. Feel free to download the notebook and follow along."
   ]
  },
  {
   "cell_type": "code",
   "execution_count": null,
   "metadata": {
    "collapsed": true
   },
   "outputs": [],
   "source": [
    "my_name = \"joey\" # all lowercase"
   ]
  },
  {
   "cell_type": "markdown",
   "metadata": {},
   "source": [
    "Compute the proportion of the name each year"
   ]
  },
  {
   "cell_type": "code",
   "execution_count": null,
   "metadata": {
    "collapsed": true
   },
   "outputs": [],
   "source": [
    "name_year_pivot = babynames.pivot_table( \n",
    "        index=['Year'], columns=['Name'], values='Count', aggfunc=np.sum)\n",
    "prob_year_given_name = name_year_pivot.div(name_year_pivot.sum()).fillna(0)"
   ]
  },
  {
   "cell_type": "code",
   "execution_count": null,
   "metadata": {},
   "outputs": [],
   "source": [
    "prob_year_given_name[[my_name, \"fernando\", \"joyce\"]].iplot(\n",
    "    mode=\"lines+markers\", size=8, xTitle=\"Year\", yTitle='Poportion',\n",
    "    filename=\"Name Popularity\")"
   ]
  },
  {
   "cell_type": "markdown",
   "metadata": {},
   "source": [
    "---\n",
    "<br/><br/><br/>\n",
    "\n",
    "## Trying more Contemporary Names"
   ]
  },
  {
   "cell_type": "code",
   "execution_count": null,
   "metadata": {},
   "outputs": [],
   "source": [
    "prob_year_given_name[[my_name, \"keisha\", \"kanye\"]].iplot(\n",
    "    mode=\"lines+markers\", size=8, xTitle=\"Year\", yTitle='Poportion',\n",
    "    filename=\"Name Popularity2\")"
   ]
  },
  {
   "cell_type": "markdown",
   "metadata": {},
   "source": [
    "---\n",
    "<br/><br/><br/>\n",
    "\n",
    "# Question: How old is the class?"
   ]
  },
  {
   "cell_type": "markdown",
   "metadata": {
    "solution2": "hidden",
    "solution2_first": true
   },
   "source": [
    "Ideally, we would run a census collecting the age of each student.  What are limitations of this approach?"
   ]
  },
  {
   "cell_type": "markdown",
   "metadata": {
    "solution2": "hidden"
   },
   "source": [
    "1. It is time consuming/costly to collect this data.\n",
    "1. Students may refuse to answer.\n",
    "1. Students may not answer truthfully."
   ]
  },
  {
   "cell_type": "markdown",
   "metadata": {},
   "source": [
    "---\n",
    "<br/><br/><br/>\n",
    "\n",
    "## Can we use the Baby Names data?"
   ]
  },
  {
   "cell_type": "markdown",
   "metadata": {},
   "source": [
    "What fraction of the student names are in the baby names database:"
   ]
  },
  {
   "cell_type": "code",
   "execution_count": null,
   "metadata": {},
   "outputs": [],
   "source": [
    "names = pd.Index(students[\"Name\"]).intersection(prob_year_given_name.columns)\n",
    "print(\"Fraction of names in the babynames data:\" , len(names) / len(students))"
   ]
  },
  {
   "cell_type": "markdown",
   "metadata": {},
   "source": [
    "<br/><br/><br/>\n",
    "\n",
    "## Simulation\n",
    "\n",
    "In Data8 we relied on simulation:"
   ]
  },
  {
   "cell_type": "code",
   "execution_count": null,
   "metadata": {
    "collapsed": true
   },
   "outputs": [],
   "source": [
    "def simulate_age_given_name(name):\n",
    "    years = prob_year_given_name.index.values\n",
    "    return np.random.choice(years, size=1, p = prob_year_given_name.loc[:, name])[0]"
   ]
  },
  {
   "cell_type": "code",
   "execution_count": null,
   "metadata": {},
   "outputs": [],
   "source": [
    "simulate_age_given_name(\"joey\")"
   ]
  },
  {
   "cell_type": "code",
   "execution_count": null,
   "metadata": {
    "collapsed": true
   },
   "outputs": [],
   "source": [
    "def simulate_class_avg(num_classes, names):\n",
    "    return np.array([np.mean([simulate_age_given_name(n) for n in names]) for c in range(num_classes)])"
   ]
  },
  {
   "cell_type": "code",
   "execution_count": null,
   "metadata": {},
   "outputs": [],
   "source": [
    "simulate_class_avg(1, names)"
   ]
  },
  {
   "cell_type": "markdown",
   "metadata": {},
   "source": [
    "<br/><br/><br/>\n",
    "\n",
    "### Simulating the Average Age of Students in the Class"
   ]
  },
  {
   "cell_type": "code",
   "execution_count": null,
   "metadata": {
    "collapsed": true
   },
   "outputs": [],
   "source": [
    "class_ages = simulate_class_avg(200, names)"
   ]
  },
  {
   "cell_type": "code",
   "execution_count": null,
   "metadata": {},
   "outputs": [],
   "source": [
    "f = ff.create_distplot([class_ages], [\"Class Ages\"],bin_size=0.25)\n",
    "py.iplot(f)"
   ]
  },
  {
   "cell_type": "markdown",
   "metadata": {},
   "source": [
    "<br/><br/><br/>\n",
    "\n",
    "### Directly Marginalizing the Empirical Distribution\n",
    "\n",
    "We could build the probability distribution for the age of an average student directly:\n",
    "\n",
    "$$\n",
    "\\tilde{P}(\\text{year} \\, |\\,  \\text{this class}) = \\sum_{\\text{name}} \\tilde{P}(\\text{year} \\, | \\, \\text{name}) \\tilde{P}(\\text{name} \\, | \\, \\text{this class})\n",
    "$$\n",
    "\n",
    "**In DS100 we will explore the use of probability calculations to derive new estimators**\n",
    "\n",
    "However, we have more direct estimates of a distributions and so instead we can marginalize over student names:"
   ]
  },
  {
   "cell_type": "code",
   "execution_count": null,
   "metadata": {},
   "outputs": [],
   "source": [
    "age_dist = prob_year_given_name[names].mean(axis=1)\n",
    "age_dist.iplot(xTitle=\"Year\", yTitle=\"P(Age of Student)\")"
   ]
  },
  {
   "cell_type": "markdown",
   "metadata": {},
   "source": [
    "<br/><br/><br/>\n",
    "\n",
    "## What is the expected age of students?"
   ]
  },
  {
   "cell_type": "code",
   "execution_count": null,
   "metadata": {},
   "outputs": [],
   "source": [
    "np.sum(age_dist * age_dist.index.values)"
   ]
  },
  {
   "cell_type": "markdown",
   "metadata": {},
   "source": [
    "<br/><br/><br/>\n",
    "\n",
    "### Is this a reasonable estimate? Can we quantify our uncertainty?"
   ]
  },
  {
   "cell_type": "code",
   "execution_count": null,
   "metadata": {},
   "outputs": [],
   "source": [
    "class_ages = []\n",
    "for i in range(10000):\n",
    "    class_ages.append(\n",
    "        np.mean(np.random.choice(age_dist.index.values, size=len(names), p=age_dist)))\n",
    "print(np.percentile(class_ages, [2.5, 50, 97.5]))\n",
    "f = ff.create_distplot([class_ages], [\"Class Ages\"],bin_size=0.25)\n",
    "py.iplot(f)"
   ]
  },
  {
   "cell_type": "markdown",
   "metadata": {},
   "source": [
    "<br/><br/><br/>\n",
    "\n",
    "## Is this a good estimator?  \n",
    "\n",
    "1. How many of you were born around 1983?\n",
    "1. How many of you were born before 1988?"
   ]
  },
  {
   "cell_type": "markdown",
   "metadata": {
    "solution2": "hidden",
    "solution2_first": true
   },
   "source": [
    "---\n",
    "<br/><br/><br/>\n",
    "\n",
    "## What went wrong?"
   ]
  },
  {
   "cell_type": "markdown",
   "metadata": {
    "solution2": "hidden"
   },
   "source": [
    "1. Our age distribution looked at the popularity of a name through all time. Who was born before 1890?\n",
    "1. Students are likely to have been born much more recently.\n",
    "\n",
    "How can we incorporate this knowledge."
   ]
  },
  {
   "cell_type": "markdown",
   "metadata": {},
   "source": [
    "---\n",
    "<br/> <br/> </br>\n",
    "\n",
    "## Incorporating Prior Knowledge\n",
    "\n",
    "What if we constrain our data to a more realistic time window?"
   ]
  },
  {
   "cell_type": "code",
   "execution_count": null,
   "metadata": {},
   "outputs": [],
   "source": [
    "lthresh = 1985\n",
    "uthresh = 2005\n",
    "prior = pd.Series(0.000001, index = name_year_pivot.index, name=\"prior\") \n",
    "prior[(prior.index > lthresh) & (prior.index < uthresh)] = 1.0\n",
    "prior = prior/np.sum(prior)\n",
    "prior.plot()"
   ]
  },
  {
   "cell_type": "markdown",
   "metadata": {},
   "source": [
    "## Incorporating the Prior Belief into our Model\n",
    "\n",
    "We apply Bayes rule to capture our prior knowledge.\n",
    "\n",
    "$$\\large\n",
    "P(y \\,|\\, n) = \\frac{P(n\\, | \\, y) P(y)}{P(n)}\n",
    "$$\n",
    "\n",
    "**Time permitting we will cover some basics of Bayesian modeling in DS100.**"
   ]
  },
  {
   "cell_type": "code",
   "execution_count": null,
   "metadata": {
    "collapsed": true
   },
   "outputs": [],
   "source": [
    "year_name_pivot = babynames.pivot_table( \n",
    "        index=['Name'], columns=['Year'], values='Count', aggfunc=np.sum)\n",
    "prob_name_given_year = year_name_pivot.div(year_name_pivot.sum()).fillna(0)\n",
    "u = (prob_name_given_year * prior)\n",
    "posterior = (u.div(u.sum(axis=1), axis=0)).fillna(0.0).transpose()\n",
    "posterior_age_dist = np.mean(posterior[names],axis=1)"
   ]
  },
  {
   "cell_type": "code",
   "execution_count": null,
   "metadata": {},
   "outputs": [],
   "source": [
    "posterior_age_dist.iplot(xTitle=\"Year\", yTitle=\"P(Age of Student)\")"
   ]
  },
  {
   "cell_type": "code",
   "execution_count": null,
   "metadata": {},
   "outputs": [],
   "source": [
    "post_class_ages = []\n",
    "for i in range(10000):\n",
    "    post_class_ages.append(\n",
    "        np.mean(np.random.choice(posterior_age_dist.index.values, size=len(names), \n",
    "                                 p=posterior_age_dist)))\n",
    "print(np.percentile(post_class_ages, [2.5, 50, 97.5]))\n",
    "f = ff.create_distplot([post_class_ages], [\"Posterior Class Ages\"],bin_size=0.25)\n",
    "py.iplot(f)"
   ]
  },
  {
   "cell_type": "markdown",
   "metadata": {},
   "source": [
    "---\n",
    "\n",
    "<br/><br/><br/><br/>"
   ]
  }
 ],
 "metadata": {
  "kernelspec": {
   "display_name": "Python 3",
   "language": "python",
   "name": "python3"
  },
  "language_info": {
   "codemirror_mode": {
    "name": "ipython",
    "version": 3
   },
   "file_extension": ".py",
   "mimetype": "text/x-python",
   "name": "python",
   "nbconvert_exporter": "python",
   "pygments_lexer": "ipython3",
   "version": "3.6.1"
  },
  "toc": {
   "colors": {
    "hover_highlight": "#DAA520",
    "navigate_num": "#000000",
    "navigate_text": "#333333",
    "running_highlight": "#FF0000",
    "selected_highlight": "#FFD700",
    "sidebar_border": "#EEEEEE",
    "wrapper_background": "#FFFFFF"
   },
   "moveMenuLeft": true,
   "nav_menu": {
    "height": "512px",
    "width": "252px"
   },
   "navigate_menu": true,
   "number_sections": true,
   "sideBar": true,
   "threshold": 4,
   "toc_cell": false,
   "toc_section_display": "block",
   "toc_window_display": false,
   "widenNotebook": false
  },
  "widgets": {
   "application/vnd.jupyter.widget-state+json": {
    "state": {},
    "version_major": 1,
    "version_minor": 0
   }
  }
 },
 "nbformat": 4,
 "nbformat_minor": 2
}
