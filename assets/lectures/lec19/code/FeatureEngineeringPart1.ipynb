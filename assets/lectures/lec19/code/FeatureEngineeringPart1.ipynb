{
 "cells": [
  {
   "cell_type": "code",
   "execution_count": null,
   "metadata": {
    "ExecuteTime": {
     "end_time": "2018-03-22T07:34:39.670225Z",
     "start_time": "2018-03-22T07:34:38.325890Z"
    }
   },
   "outputs": [],
   "source": [
    "import numpy as np\n",
    "import pandas as pd\n",
    "import matplotlib.pyplot as plt\n",
    "import seaborn as sns\n",
    "sns.set_context(\"talk\")\n",
    "%matplotlib inline"
   ]
  },
  {
   "cell_type": "code",
   "execution_count": null,
   "metadata": {
    "ExecuteTime": {
     "end_time": "2018-03-22T07:34:40.173218Z",
     "start_time": "2018-03-22T07:34:39.672565Z"
    }
   },
   "outputs": [],
   "source": [
    "import plotly.offline as py\n",
    "py.init_notebook_mode(connected=False)\n",
    "import plotly.graph_objs as go\n",
    "import plotly.figure_factory as ff\n",
    "import cufflinks as cf\n",
    "cf.set_config_file(offline=False, world_readable=True, theme='ggplot')"
   ]
  },
  {
   "cell_type": "markdown",
   "metadata": {},
   "source": [
    "# Feature Engineering\n",
    "\n",
    "In this notebook we will explore a key part of data science, **feature engineering**: _the process of transforming the representation of model inputs to enable better model approximation._  Feature engineering enables you to:\n",
    "\n",
    "1. **encode** non-numeric features to be used as inputs to common numeric models\n",
    "1. capture **domain knowledge** (e.g., the perceived loudness or sound is the log of the intensity)\n",
    "1. **transform** complex relationships into simple linear relationships\n",
    "\n"
   ]
  },
  {
   "cell_type": "markdown",
   "metadata": {},
   "source": [
    "## Mapping from Domain to Range\n",
    "\n",
    "In the supervised learning setting were are given $(X,Y)$ pairs with the goal of learning the mapping from $X$ to $Y$. For example, given pairs of square footage and price we want to learn a function that captures (or at least approximates) the relationship between square feet and price.  Our functional approximation is some form of typically parametric mapping from some **domain** to some **range**:\n",
    "\n",
    "<img src=\"images/domain_range.png\" width=\"400px\"> \n",
    "\n",
    "In this class we will focus on **Multiple Regression** in which we consider mappings from potentially high-dimensional input spaces onto the real line (i.e., $y \\in \\mathbb{R}$):\n",
    "\n",
    "<img src=\"images/domain_real_range.png\" width=\"400px\">\n",
    "\n",
    "It is worth noting that this is distinct from **Multivariate Regression** in which we are predicting multiple (confusing?) response values (e.g., $y \\in \\mathbb{R}^q$).\n",
    "\n"
   ]
  },
  {
   "cell_type": "markdown",
   "metadata": {},
   "source": [
    "# Not all Domains are Quantitative\n",
    "\n",
    "Suppose we are given the following table:\n",
    "\n",
    "<img src=\"images/input_table.png\" width=\"600px\">\n",
    "\n",
    "Our goal is to learn a function that approximates the relationship between the blue and red columns.  Let's assume the range, `\"Ratings\"`, are the real numbers (this may be a problem if ratings are between [0, 5] but more on that later).\n",
    "\n",
    "**What is the _domain_ of this function?**\n",
    "\n"
   ]
  },
  {
   "cell_type": "markdown",
   "metadata": {},
   "source": [
    "The schema of the relational model provides one possible answer:\n",
    "\n",
    "```SQL\n",
    "RatingsData(uid INTEGER, age FLOAT, \n",
    "            state VARCHAR, hasBought BOOLEAN,\n",
    "            review VARCHAR, rating FLOAT)\n",
    "```\n",
    "\n",
    "Which would suggest that the domain is then:\n",
    "\n",
    "> integers, real numbers, strings, booleans, and more strings.\n",
    "\n",
    "Unfortunately, the techniques we have discussed so far and most of the techniques in machine learning and statistics operate on real-valued vector inputs $x \\in \\mathbb{R}^d$ (or for the statisticians $x \\in \\mathbb{R}^p$). \n",
    "\n",
    "## Goal: \n",
    "\n",
    "<img src=\"images/real_domain_range.png\" width=\"400px\">\n",
    "\n",
    "\n",
    "\n",
    "\n",
    "Moreover, many of these techniques, especially the linear models we have been studying, assume the inputs are **qauntitative** variables in which the relative magnitude of the feature encode information about the response variable. \n",
    "\n",
    "In the following we define several basic transformations to encode features as real numbers."
   ]
  },
  {
   "cell_type": "markdown",
   "metadata": {},
   "source": [
    "# Basic Feature Engineering:  _Get $\\mathbb{R}$_\n",
    "\n",
    "Our first step as feature engineers is to translate our data into a form that encodes each feature as a continuous variable.\n",
    "\n",
    "## The _Uninformative_  Feature: `uid`\n",
    "\n",
    "The `uid` was likely used to join the user information (e.g., `age`, and `state`) with some `Reviews` table.  The `uid` presents several questions:\n",
    "* What is the meaning of the `uid` *number*? \n",
    "* Does the magnitude of the `uid` reveal information about the rating? \n",
    "\n",
    "There are several answers:\n",
    "\n",
    "1. Although numbers, identifiers are **typically categorical** (like strings) and as a consequence the magnitude has little meaning.  In these settings we would either **drop** or **one-hot encode** the `uid`.  We will return to feature dropping and one-hot-encoding in a moment.\n",
    "\n",
    "1. There are scenarios where the magnitude of the numerical `uid` value contains important information. When user ids are created in consecutive order, larger user ids would imply more recent users.  In these cases we might to interpret the `uid` feature as a real number and keep it in our model.\n",
    "\n",
    "## Dropping Features\n",
    "\n",
    "While uncommon there are certain scenarios where manually dropping features might be helpful:\n",
    "\n",
    "1. when the features **does not to contain information** associated with the prediction task.  Dropping uninformative features can help to address over-fitting, an issue we will discuss in great detail soon.  \n",
    "\n",
    "1. when the feature is **not available at prediction time.**  For example, the feature might contain information collected after the user entered a rating.  This is a common scenario in time-series analysis.\n",
    "\n",
    "However, in the absence of substantial domain knowledge, we would prefer to use algorithmic techniques to help eliminate features.  We will discuss this in more detail when we return to regularization.\n",
    "\n",
    "## The _Continuous_ `age` Feature\n",
    "\n",
    "The `age` feature encodes the users age.  This is already a continuous real number so no additional feature transformations are required.  However, as we will soon see, we may introduce additional related features (e.g., indicators for various age groups or non-linear transformations).\n",
    "\n",
    "\n",
    "\n",
    "## The _Categorical_ `state` Feature\n",
    "\n",
    "The `state` feature is a string encoding the category (one of the 50 states).  How do we meaningfully encode such a feature as one or more real-numbers?\n",
    "\n",
    "We could enumerate the states in alphabetical order `AL=0`, `AK=2`, ... `WY=49`.  This is a form of **dictionary encoding** which maps each category to an integer.  However, this would likely be a poor feature encoding since the magnitude provides little information about the rating.  \n",
    "\n",
    "Alternatively, we might enumerate the states based on their geographic region (e.g., lower numbers for coastal states.). While this alternative dictionary encoding may provide information there is better way to encode categorical features for machine learning algorithms.\n",
    "\n"
   ]
  },
  {
   "cell_type": "markdown",
   "metadata": {},
   "source": [
    "# One-Hot Encoding\n",
    "\n",
    "<img src=\"images/one_hot_state.png\" width=\"600px\">\n",
    "\n",
    "One-Hot encoding, sometimes also called **dummy encoding** is a simple mechanism to encode categorical data as real numbers such that the magnitude of each dimension is meaningful.  Suppose a feature can take on $k$ distinct values (e.g., $k=50$ for 50 states in the United Stated).  For each distinct _possible_ value a new feature (dimension) is created.  For each record, all the new features are set to zero except the one corresponding to the value in the original feature. \n",
    "\n",
    "The term one-hot encoding comes from a digital circuit encoding of a categorical state as particular \"hot\" wire:\n",
    "\n",
    "<img src=\"images/one_hot_encoding.png\" width=\"400px\">"
   ]
  },
  {
   "cell_type": "markdown",
   "metadata": {},
   "source": [
    "## One-Hot Encoding in Pandas\n",
    "\n",
    "Here we create a toy DataFrame of pets including their name and kind:"
   ]
  },
  {
   "cell_type": "code",
   "execution_count": null,
   "metadata": {
    "ExecuteTime": {
     "end_time": "2018-03-22T07:34:40.195960Z",
     "start_time": "2018-03-22T07:34:40.174997Z"
    }
   },
   "outputs": [],
   "source": [
    "df = pd.DataFrame({\n",
    "    \"name\": [\"Goldy\", \"Scooby\", \"Brian\", \"Francine\", \"Goldy\"],\n",
    "    \"kind\": [\"Fish\", \"Dog\", \"Dog\", \"Cat\", \"Dog\"],\n",
    "    \"age\": [0.5, 7., 3., 10., 1.]\n",
    "}, columns = [\"name\", \"kind\", \"age\"])\n",
    "df"
   ]
  },
  {
   "cell_type": "markdown",
   "metadata": {},
   "source": [
    "Pandas has a built in function to construct one-hot encodings called [**`get_dummies`**](http://pandas.pydata.org/pandas-docs/stable/generated/pandas.get_dummies.html#pandas.get_dummies)"
   ]
  },
  {
   "cell_type": "code",
   "execution_count": null,
   "metadata": {
    "ExecuteTime": {
     "end_time": "2018-03-22T07:34:40.209461Z",
     "start_time": "2018-03-22T07:34:40.197771Z"
    }
   },
   "outputs": [],
   "source": [
    "pd.get_dummies(df['kind'])"
   ]
  },
  {
   "cell_type": "code",
   "execution_count": null,
   "metadata": {
    "ExecuteTime": {
     "end_time": "2018-03-22T07:34:40.232074Z",
     "start_time": "2018-03-22T07:34:40.211540Z"
    }
   },
   "outputs": [],
   "source": [
    "pd.get_dummies(df)"
   ]
  },
  {
   "cell_type": "markdown",
   "metadata": {},
   "source": [
    "A serious issue with using Pandas to construct a one-hot-encoding is that if we get new dat in a different DataFrame we may get a different encoding.  Scikit-learn provides more flexible routines to construct features."
   ]
  },
  {
   "cell_type": "markdown",
   "metadata": {},
   "source": [
    "## One-Hot Encoding in Scikit-Learn\n",
    "\n",
    "Scikit-Learn also has several library for constructing one-hot-encodings."
   ]
  },
  {
   "cell_type": "code",
   "execution_count": null,
   "metadata": {
    "ExecuteTime": {
     "end_time": "2018-03-22T07:34:40.294473Z",
     "start_time": "2018-03-22T07:34:40.235152Z"
    }
   },
   "outputs": [],
   "source": [
    "from sklearn.feature_extraction import DictVectorizer\n",
    "\n",
    "vec_enc = DictVectorizer()\n",
    "vec_enc.fit(df.to_dict(orient='records'))"
   ]
  },
  {
   "cell_type": "code",
   "execution_count": null,
   "metadata": {
    "ExecuteTime": {
     "end_time": "2018-03-22T07:34:40.304588Z",
     "start_time": "2018-03-22T07:34:40.296228Z"
    }
   },
   "outputs": [],
   "source": [
    "vec_enc.transform(df.to_dict(orient='records')).toarray()"
   ]
  },
  {
   "cell_type": "code",
   "execution_count": null,
   "metadata": {
    "ExecuteTime": {
     "end_time": "2018-03-22T07:34:40.309675Z",
     "start_time": "2018-03-22T07:34:40.306069Z"
    }
   },
   "outputs": [],
   "source": [
    "vec_enc.get_feature_names()"
   ]
  },
  {
   "cell_type": "markdown",
   "metadata": {},
   "source": [
    "### Applying to new data\n",
    "\n",
    "One advantage of the `DictVectorizer` in *sklearn* is that we can easily apply it to new data:\n"
   ]
  },
  {
   "cell_type": "code",
   "execution_count": null,
   "metadata": {
    "ExecuteTime": {
     "end_time": "2018-03-22T07:34:40.317023Z",
     "start_time": "2018-03-22T07:34:40.311501Z"
    }
   },
   "outputs": [],
   "source": [
    "vec_enc.transform([\n",
    "    {\"kind\": \"Cat\", \"name\": \"Goldy\", \"age\": 35},\n",
    "    {\"kind\": \"Bird\", \"name\": \"Fluffy\"},\n",
    "    {\"breed\": \"Chihuahua\", \"name\": \"Goldy\"},\n",
    "]).toarray()"
   ]
  },
  {
   "cell_type": "markdown",
   "metadata": {},
   "source": [
    "# The _Text_ `review` Feature\n",
    "\n",
    "Encoding text as a real-valued feature is especially challenging and many of the standard transformations are **lossy**. Moreover, all of the earlier transformations (e.g., one-hot encoding and Boolean representations) preserve the information in the feature. In contrast, most of the techniques for encoding text destroy information about the word order and in many cases key parts of the grammar.  \n",
    "\n",
    "Here we will discuss two widely used representations of text:\n",
    "\n",
    "* **Bag-of-Words Encoding**: encodes text by the frequency of each word\n",
    "* **N-Gram Encoding**: encodes text by the frequency of sequences of words of length $N$\n",
    "\n",
    "Both of these encoding strategies are related to the one-hot encoding with dummy features created for every word or sequence of words and with multiple dummy features having counts greater than zero.\n",
    "\n"
   ]
  },
  {
   "cell_type": "markdown",
   "metadata": {},
   "source": [
    "## The Bag-of-Words Encoding\n",
    "\n",
    "\n",
    "The bag-of-words encoding is widely used and a standard representation for text in many of the popular text clustering algorithms.  The following is a simple illustration of the bag-of-words encoding:\n",
    "\n",
    "<img src=\"images/bag_of_words.png\" width=\"600px\">\n",
    "\n",
    "**Notice**\n",
    "1. **Stop words are removed.** Stop-words are words like `is` and `about` that in isolation contain very little information about the meaning of the sentence.  Here is a good list of [stop-words in many languages](https://code.google.com/archive/p/stop-words/). \n",
    "1. **Word order information is lost.**  Nonetheless the vector still suggests that the sentence is about `fun`, `machines`, and `learning`.  Thought there are many possible meanings _learning machines have fun learning_ or _learning about machines is fun learning_ ...\n",
    "1. **Capitalization and punctuation are typically removed.**  \n",
    "1. **Sparse Encoding:** is necessary to represent the bag-of-words efficiently.  There are millions of possible words (including terminology, names, and misspellings) and so instantiating a `0` for every word that is not in each record would be incredibly inefficient.  \n",
    "\n",
    "**Why is it called a bag-of-words?**  A bag is another term for a **multiset**: _an unordered \n",
    "collection which may contain multiple instances of each element._  "
   ]
  },
  {
   "cell_type": "markdown",
   "metadata": {},
   "source": [
    "### Professor Gonzalez is an \"artist\"\n",
    "\n",
    "When professor Gonzalez was a graduate student at Carnegie Mellon University, he and several other computer scientists created the following art piece on display in the Gates Center:\n",
    "\n",
    "<img src=\"images/bag_of_words_art.jpg\" width=\"300px\">\n",
    "\n",
    "Is this art or science? \n",
    "\n",
    "**Notice**\n",
    "1. The unordered collection of words in the bag.\n",
    "1. The stop words on the floor.\n",
    "1. _The missing broom._  The original sculpture had a broom attached but the janitor got confused .... \n",
    "\n"
   ]
  },
  {
   "cell_type": "markdown",
   "metadata": {},
   "source": [
    "### Implementing the Bag-of-words Model\n",
    "\n",
    "We can use sklearn to construct a bag-of-words representation of text"
   ]
  },
  {
   "cell_type": "code",
   "execution_count": null,
   "metadata": {
    "ExecuteTime": {
     "end_time": "2018-03-22T07:34:40.324037Z",
     "start_time": "2018-03-22T07:34:40.318602Z"
    }
   },
   "outputs": [],
   "source": [
    "frost_text = [x for x in \"\"\"\n",
    "Some say the world will end in fire,\n",
    "Some say in ice.\n",
    "From what Ive tasted of desire\n",
    "I hold with those who favor fire.\n",
    "\"\"\".split(\"\\n\") if len(x) > 0]\n",
    "\n",
    "frost_text"
   ]
  },
  {
   "cell_type": "code",
   "execution_count": null,
   "metadata": {
    "ExecuteTime": {
     "end_time": "2018-03-22T07:34:40.335612Z",
     "start_time": "2018-03-22T07:34:40.325800Z"
    }
   },
   "outputs": [],
   "source": [
    "from sklearn.feature_extraction.text import CountVectorizer\n",
    "\n",
    "# Construct the tokenizer with English stop words\n",
    "bow = CountVectorizer(stop_words=\"english\")\n",
    "\n",
    "# fit the model to the passage\n",
    "bow.fit(frost_text)"
   ]
  },
  {
   "cell_type": "code",
   "execution_count": null,
   "metadata": {
    "ExecuteTime": {
     "end_time": "2018-03-22T07:34:40.342526Z",
     "start_time": "2018-03-22T07:34:40.337975Z"
    }
   },
   "outputs": [],
   "source": [
    "# Print the words that are kept\n",
    "print(\"Words:\", list(enumerate(bow.get_feature_names())))"
   ]
  },
  {
   "cell_type": "code",
   "execution_count": null,
   "metadata": {
    "ExecuteTime": {
     "end_time": "2018-03-22T07:34:40.352957Z",
     "start_time": "2018-03-22T07:34:40.344682Z"
    }
   },
   "outputs": [],
   "source": [
    "print(\"Sentence Encoding: \\n\")\n",
    "# Print the encoding of each line\n",
    "for (s, r) in zip(frost_text, bow.transform(frost_text)):\n",
    "    print(s)\n",
    "    print(r)\n",
    "    print(\"------------------\")"
   ]
  },
  {
   "cell_type": "markdown",
   "metadata": {},
   "source": [
    "## The N-Gram Encoding\n",
    "\n",
    "The N-Gram encoding is a generalization of the bag-of-words encoding designed to capture limited ordering information.  Consider the following passage of text:\n",
    "\n",
    "> _The book was not well written but I did enjoy it._\n",
    "\n",
    "If we re-arrange the words we can also write:\n",
    "\n",
    "> _The book was well written but I did not enjoy it._\n",
    "\n",
    "Moreover, local word order can be important when making decisions about text.  The n-gram encoding captures local word order by defining counts over sliding windows. In the following example a bi-gram ($n=2$) encoding is constructed:\n",
    "\n",
    "<img src=\"images/ngram.png\" width=\"800px\">\n",
    "\n",
    "The above n-gram would be encoded in the sparse vector:\n",
    "\n",
    "<img src=\"images/ngram_vector.png\" width=\"300px\">\n",
    "\n",
    "Notice that the n-gram captures key pieces of sentiment information: `\"well written\"` and `\"not enjoy\"`.  \n",
    "\n",
    "N-grams are often used for other types of sequence data beyond text. For example, n-grams can be used to encode genomic data, protein sequences, and click logs. \n",
    "\n",
    "**N-Gram Issues**\n",
    "1. The n-gram representation is hyper sparse and maintaining the dictionary of possible n-grams can be very costly.  The **hashing trick** is a popular solution to approximate the sparse n-gram encoding.  In the hashing trick each n-gram is mapped to a relatively large (e.g., 32bit) hash-id and the counts are associated with the hash index without saving the n-gram text in a dictionary.  As a consequence, multiple n-grams are treated as the same.\n",
    "1. As $N$ increase the chance of seeing the same n-grams at prediction time decreases rapidly."
   ]
  },
  {
   "cell_type": "code",
   "execution_count": null,
   "metadata": {
    "ExecuteTime": {
     "end_time": "2018-03-22T07:34:40.363786Z",
     "start_time": "2018-03-22T07:34:40.355408Z"
    }
   },
   "outputs": [],
   "source": [
    "# Construct the tokenizer with English stop words\n",
    "bigram = CountVectorizer(ngram_range=(1, 2))\n",
    "# fit the model to the passage\n",
    "bigram.fit(frost_text)"
   ]
  },
  {
   "cell_type": "code",
   "execution_count": null,
   "metadata": {
    "ExecuteTime": {
     "end_time": "2018-03-22T07:34:40.371292Z",
     "start_time": "2018-03-22T07:34:40.366115Z"
    }
   },
   "outputs": [],
   "source": [
    "# Print the words that are kept\n",
    "print(\"\\nWords:\", \n",
    "      list(zip(range(0,len(bigram.get_feature_names())), bigram.get_feature_names())))"
   ]
  },
  {
   "cell_type": "code",
   "execution_count": null,
   "metadata": {
    "ExecuteTime": {
     "end_time": "2018-03-22T07:34:40.381795Z",
     "start_time": "2018-03-22T07:34:40.373741Z"
    }
   },
   "outputs": [],
   "source": [
    "print(\"\\nSentence Encoding: \\n\")\n",
    "# Print the encoding of each line\n",
    "for (s, r) in zip(frost_text, bigram.transform(frost_text)):\n",
    "    print(s)\n",
    "    print(r)\n",
    "    print(\"------------------\")"
   ]
  }
 ],
 "metadata": {
  "kernelspec": {
   "display_name": "Python 3",
   "language": "python",
   "name": "python3"
  },
  "language_info": {
   "codemirror_mode": {
    "name": "ipython",
    "version": 3
   },
   "file_extension": ".py",
   "mimetype": "text/x-python",
   "name": "python",
   "nbconvert_exporter": "python",
   "pygments_lexer": "ipython3",
   "version": "3.6.4"
  }
 },
 "nbformat": 4,
 "nbformat_minor": 2
}
