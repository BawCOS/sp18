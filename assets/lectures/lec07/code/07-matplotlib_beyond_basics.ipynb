{
 "cells": [
  {
   "cell_type": "markdown",
   "metadata": {},
   "source": [
    "# Matplotlib: Beyond the basics\n",
    "\n",
    "\n",
    "Hopefully after this notebook you will:\n",
    "\n",
    "* Know how to polish matplotlib figures to the point where they can go to a journal.\n",
    "* Understand matplotlib's internal model enough to:\n",
    "  - know where to look for knobs to fine-tune\n",
    "  - better understand the help and examples online\n",
    "  - use it as a development platform for complex visualization\n",
    "  \n",
    "## Resources\n",
    "\n",
    "* The [official matplotlib documentation](https://matplotlib.org/contents.html) is detailed and comprehensive. Particularly useful sections are:\n",
    "  - The [gallery](https://matplotlib.org/gallery/index.html).\n",
    "  - The [high level overview of its dual APIs, `pyplot` and object-oriented](https://matplotlib.org/api/pyplot_summary.html).\n",
    "  - The [topical tutorials](https://matplotlib.org/tutorials/index.html).\n",
    "\n",
    "\n",
    "\n",
    "* A detailed [tutorial](https://www.labri.fr/perso/nrougier/teaching/matplotlib) by Nicolas Rougier, similar in style to the ones we saw for Numpy.\n",
    "* The fantastic [Python Graph Gallery](https://python-graph-gallery.com), which provides a large collection of plots with emphasis on statistical visualizations.  It uses [Seaborn](https://seaborn.pydata.org) extensively.\n",
    "* In this tutorial we'll focus on \"raw\" matplotlib, but for a wide variety of statistical visualization tasks, using Seaborn makes life much easier.  We'll dive into its [tutorial](https://seaborn.pydata.org/tutorial.html) later on.\n"
   ]
  },
  {
   "cell_type": "markdown",
   "metadata": {},
   "source": [
    "## Matplotlib's main APIs: ``pyplot`` and object-oriented\n",
    "\n",
    "Matplotlib is a library that can be thought of as having two main ways of being\n",
    "used:\n",
    "\n",
    "- via ``pyplot`` calls, as a high-level, matlab-like library that automatically\n",
    "  manages details like figure creation.\n",
    "\n",
    "- via its internal object-oriented structure, that offers full control over all\n",
    "  aspects of the figure, at the cost of slightly more verbose calls for the\n",
    "  common case.\n",
    "\n",
    "The pyplot api:\n",
    "\n",
    "- Easiest to use.\n",
    "- Sufficient for simple and moderately complex plots.\n",
    "- Does not offer complete control over all details.\n",
    "\n",
    "Before we look at our first simple example, we must activate matplotlib support in the notebook:"
   ]
  },
  {
   "cell_type": "code",
   "execution_count": null,
   "metadata": {},
   "outputs": [],
   "source": [
    "%matplotlib inline\n",
    "\n",
    "import matplotlib.pyplot as plt\n",
    "import numpy as np\n",
    "# a few widely used tools from numpy\n",
    "from numpy import sin, cos, exp, sqrt, pi, linspace, arange"
   ]
  },
  {
   "cell_type": "code",
   "execution_count": null,
   "metadata": {},
   "outputs": [],
   "source": [
    "x = linspace(0, 2 * pi)\n",
    "y = sin(x)\n",
    "plt.plot(x, y, label='sin(x)')\n",
    "plt.legend()\n",
    "plt.title('Harmonic')\n",
    "plt.xlabel('x')\n",
    "plt.ylabel('y')\n",
    "\n",
    "# Add one line to that plot\n",
    "z = cos(x)\n",
    "plt.plot(x, z, label='cos(x)')\n",
    "\n",
    "# Make a second figure with a simple plot\n",
    "plt.figure()\n",
    "plt.plot(x, sin(2*x), label='sin(2x)')\n",
    "plt.legend();"
   ]
  },
  {
   "cell_type": "markdown",
   "metadata": {},
   "source": [
    "Here is how to create the same two plots, using explicit management of the figure and axis objects:"
   ]
  },
  {
   "cell_type": "code",
   "execution_count": null,
   "metadata": {},
   "outputs": [],
   "source": [
    "f, ax = plt.subplots()  # we manually make a figure and axis\n",
    "ax.plot(x,y, label='sin(x)')  # it's the axis who plots\n",
    "ax.legend()\n",
    "ax.set_title('Harmonic')  # we set the title on the axis\n",
    "ax.set_xlabel('x')  # same with labels\n",
    "ax.set_ylabel('y')\n",
    "\n",
    "# Make a second figure with a simple plot.  We can name the figure with a\n",
    "# different variable name as well as its axes, and then control each\n",
    "f1, ax1 = plt.subplots()\n",
    "ax1.plot(x, sin(2*x), label='sin(2x)')\n",
    "ax1.legend()\n",
    "\n",
    "# Since we now have variables for each axis, we can add back to the first\n",
    "# figure even after making the second\n",
    "ax.plot(x, z, label='cos(x)');"
   ]
  },
  {
   "cell_type": "markdown",
   "metadata": {},
   "source": [
    "It’s important to understand the existence of these objects, even if you use mostly the top-level pyplot calls most of the time. Many things can be accomplished in MPL with mostly pyplot and a little bit of tweaking of the underlying objects. We’ll revisit the object-oriented API later.\n",
    "\n",
    "Important commands to know about, and which matplotlib uses internally a lot:\n",
    "\n",
    "    gcf()  # get current figure\n",
    "    gca()  # get current axis"
   ]
  },
  {
   "cell_type": "markdown",
   "metadata": {},
   "source": [
    "## Making subplots\n",
    "\n",
    "\n",
    "The simplest command is:\n",
    "\n",
    "    f, ax = plt.subplots()\n",
    "\n",
    "which is equivalent to:\n",
    "\n",
    "    f = plt.figure()\n",
    "    ax = f.add_subplot(111)\n",
    "\n",
    "By passing arguments to `subplots`, you can easily create a regular plot grid:"
   ]
  },
  {
   "cell_type": "code",
   "execution_count": null,
   "metadata": {},
   "outputs": [],
   "source": [
    "x = linspace(0, 2*pi, 400)\n",
    "y = sin(x**2)\n",
    "\n",
    "# Just a figure and one subplot\n",
    "f, ax = plt.subplots()\n",
    "ax.plot(x, y)\n",
    "ax.set_title('Simple plot')\n",
    "\n",
    "# Two subplots, unpack the output array immediately\n",
    "f, (ax1, ax2) = plt.subplots(1, 2)\n",
    "ax1.plot(x, y)\n",
    "ax2.scatter(x, y)\n",
    "\n",
    "# Put a figure-level title\n",
    "f.suptitle('Two plots');"
   ]
  },
  {
   "cell_type": "markdown",
   "metadata": {},
   "source": [
    "And finally, an arbitrarily complex grid can be made with ``subplot2grid``:"
   ]
  },
  {
   "cell_type": "code",
   "execution_count": null,
   "metadata": {},
   "outputs": [],
   "source": [
    "f = plt.figure()\n",
    "ax1 = plt.subplot2grid((3,3), (0,0), colspan=3)\n",
    "ax2 = plt.subplot2grid((3,3), (1,0), colspan=2)\n",
    "ax3 = plt.subplot2grid((3,3), (1, 2), rowspan=2)\n",
    "ax4 = plt.subplot2grid((3,3), (2, 0))\n",
    "ax5 = plt.subplot2grid((3,3), (2, 1))\n",
    "\n",
    "# Let's turn off visibility of all tick labels here\n",
    "for ax in f.axes:\n",
    "   for t in ax.get_xticklabels()+ax.get_yticklabels():\n",
    "       t.set_visible(False)\n",
    "\n",
    "# And add a figure-level title at the top\n",
    "f.suptitle('Subplot2grid')\n",
    "\n",
    "# Plot something at the bottom right\n",
    "ax3.plot([1, 2, 3])"
   ]
  },
  {
   "cell_type": "markdown",
   "metadata": {},
   "source": [
    "## Manipulating properties across matplotlib\n",
    "\n",
    "In matplotlib, most properties for lines, colors, etc, can be set directly in\n",
    "the call:"
   ]
  },
  {
   "cell_type": "code",
   "execution_count": null,
   "metadata": {},
   "outputs": [],
   "source": [
    "plt.plot([1,2,3], linestyle='--', color='r')"
   ]
  },
  {
   "cell_type": "markdown",
   "metadata": {},
   "source": [
    "But for finer control you can get a hold of the returned line object (more on\n",
    "these objects later):\n",
    "\n",
    "    In [1]: line, = plot([1,2,3])\n",
    "\n",
    "These line objects have a lot of properties you can control, a full list is\n",
    "seen here by tab-completing in IPython:\n",
    "\n",
    "    In [2]: line.set\n",
    "    line.set                     line.set_drawstyle           line.set_mec\n",
    "    line.set_aa                  line.set_figure              line.set_mew\n",
    "    line.set_agg_filter          line.set_fillstyle           line.set_mfc\n",
    "    line.set_alpha               line.set_gid                 line.set_mfcalt\n",
    "    line.set_animated            line.set_label               line.set_ms\n",
    "    line.set_antialiased         line.set_linestyle           line.set_picker\n",
    "    line.set_axes                line.set_linewidth           line.set_pickradius\n",
    "    line.set_c                   line.set_lod                 line.set_rasterized\n",
    "    line.set_clip_box            line.set_ls                  line.set_snap\n",
    "    line.set_clip_on             line.set_lw                  line.set_solid_capstyle\n",
    "    line.set_clip_path           line.set_marker              line.set_solid_joinstyle\n",
    "    line.set_color               line.set_markeredgecolor     line.set_transform\n",
    "    line.set_contains            line.set_markeredgewidth     line.set_url\n",
    "    line.set_dash_capstyle       line.set_markerfacecolor     line.set_visible\n",
    "    line.set_dashes              line.set_markerfacecoloralt  line.set_xdata\n",
    "    line.set_dash_joinstyle      line.set_markersize          line.set_ydata\n",
    "    line.set_data                line.set_markevery           line.set_zorder\n",
    "    \n",
    "\n",
    "But the `setp` call (short for set property) can be very useful, especially\n",
    "while working interactively because it contains introspection support, so you\n",
    "can learn about the valid calls as you work:\n",
    "\n",
    "    In [7]: line, = plot([1,2,3])\n",
    "\n",
    "    In [8]: setp(line, 'linestyle')\n",
    "      linestyle: [ ``'-'`` | ``'--'`` | ``'-.'`` | ``':'`` | ``'None'`` | ``' '`` | ``''`` ]         and any drawstyle in combination with a linestyle, e.g. ``'steps--'``.         \n",
    "\n",
    "    In [9]: setp(line)\n",
    "      agg_filter: unknown\n",
    "      alpha: float (0.0 transparent through 1.0 opaque)         \n",
    "      animated: [True | False]         \n",
    "      antialiased or aa: [True | False]\n",
    "      ...\n",
    "      ... much more output elided\n",
    "      ...\n",
    "\n",
    "In the first form, it shows you the valid values for the 'linestyle' property,\n",
    "and in the second it shows you all the acceptable properties you can set on the\n",
    "line object.  This makes it very easy to discover how to customize your figures\n",
    "to get the visual results you need.\n",
    "\n",
    "Furthermore, setp can manipulate multiple objects at a time:"
   ]
  },
  {
   "cell_type": "code",
   "execution_count": null,
   "metadata": {},
   "outputs": [],
   "source": [
    "x = linspace(0, 2*pi)\n",
    "y1 = sin(x)\n",
    "y2 = sin(2*x)\n",
    "lines = plt.plot(x, y1, x, y2)\n",
    "\n",
    "# We will set the width and color of all lines in the figure at once:\n",
    "plt.setp(lines, linewidth=2, color='r')"
   ]
  },
  {
   "cell_type": "markdown",
   "metadata": {},
   "source": [
    "Finally, if you know what properties you want to set on a specific object, a\n",
    "plain ``set`` call is typically the simplest form:"
   ]
  },
  {
   "cell_type": "code",
   "execution_count": null,
   "metadata": {},
   "outputs": [],
   "source": [
    "line, = plt.plot([1,2,3])\n",
    "line.set(lw=2, c='red',ls='--')"
   ]
  },
  {
   "cell_type": "markdown",
   "metadata": {},
   "source": [
    "## Understanding what matplotlib returns: lines, axes and figures\n",
    "\n",
    "\n",
    "### Lines\n",
    "\n",
    "\n",
    "In a simple plot:"
   ]
  },
  {
   "cell_type": "code",
   "execution_count": null,
   "metadata": {},
   "outputs": [],
   "source": [
    "plt.plot([1,2,3])"
   ]
  },
  {
   "cell_type": "markdown",
   "metadata": {},
   "source": [
    "The return value of the plot call is a list of lines, which can be manipulated\n",
    "further.  If you capture the line object (in this case it's a single line so we\n",
    "use a one-element tuple):"
   ]
  },
  {
   "cell_type": "code",
   "execution_count": null,
   "metadata": {},
   "outputs": [],
   "source": [
    "line, = plt.plot([1,2,3])\n",
    "line.set_color('r')"
   ]
  },
  {
   "cell_type": "markdown",
   "metadata": {},
   "source": [
    "One line property that is particularly useful to be aware of is ``set_data``:"
   ]
  },
  {
   "cell_type": "code",
   "execution_count": null,
   "metadata": {},
   "outputs": [],
   "source": [
    "# Create a plot and hold the line object\n",
    "line, = plt.plot([1,2,3], label='my data')\n",
    "plt.grid()\n",
    "plt.title('My title')\n",
    "\n",
    "# ... later, we may want to modify the x/y data but keeping the rest of the\n",
    "# figure intact, with our new data:\n",
    "x = linspace(0, 1)\n",
    "y = x**2\n",
    "\n",
    "# This can be done by operating on the data object itself\n",
    "line.set_data(x, y)\n",
    "\n",
    "# Now we must set the axis limits manually. Note that we can also use xlim\n",
    "# and ylim to set the x/y limits separately.\n",
    "plt.axis([0,1,0,1])\n",
    "\n",
    "# Note, alternatively this can be done with:\n",
    "ax = plt.gca()  # get currently active axis object\n",
    "ax.relim()\n",
    "ax.autoscale_view()\n",
    "\n",
    "# as well as requesting matplotlib to draw\n",
    "plt.draw()"
   ]
  },
  {
   "cell_type": "markdown",
   "metadata": {},
   "source": [
    "### The next important component, axes\n",
    "\n",
    "   \n",
    "The ``axis`` call above was used to set the x/y limits of the axis.  And in\n",
    "previous examples we called ``.plot`` directly on axis objects.  Axes are the\n",
    "main object that contains a lot of the user-facing functionality of matplotlib:\n",
    "\n",
    "    In [15]: f = plt.figure()\n",
    "\n",
    "    In [16]: ax = f.add_subplot(111)\n",
    "\n",
    "    In [17]: ax.\n",
    "    Display all 299 possibilities? (y or n)\n",
    "    ax.acorr                                 ax.hitlist\n",
    "    ax.add_artist                            ax.hlines\n",
    "    ax.add_callback                          ax.hold\n",
    "    ax.add_collection                        ax.ignore_existing_data_limits\n",
    "    ax.add_line                              ax.images\n",
    "    ax.add_patch                             ax.imshow\n",
    "    \n",
    "    ... etc.\n",
    "\n",
    "Many of the commands in ``plt.<command>`` are nothing but wrappers around axis\n",
    "calls, with machinery to automatically create a figure and add an axis to it if\n",
    "there wasn't one to begin with.  The output of most axis actions that draw\n",
    "something is a collection of lines (or other more complex geometric objects)."
   ]
  },
  {
   "cell_type": "markdown",
   "metadata": {},
   "source": [
    "### Enclosing it all, the figure\n",
    "\n",
    "\n",
    "The enclosing object is the ``figure``, that holds all axes:\n",
    "\n",
    "    In [17]: f = plt.figure()\n",
    "\n",
    "    In [18]: f.add_subplot(211)\n",
    "    Out[18]: <matplotlib.axes.AxesSubplot object at 0x9d0060c>\n",
    "\n",
    "    In [19]: f.axes\n",
    "    Out[19]: [<matplotlib.axes.AxesSubplot object at 0x9d0060c>]\n",
    "\n",
    "    In [20]: f.add_subplot(212)\n",
    "    Out[20]: <matplotlib.axes.AxesSubplot object at 0x9eacf0c>\n",
    "\n",
    "    In [21]: f.axes\n",
    "    Out[21]: \n",
    "    [<matplotlib.axes.AxesSubplot object at 0x9d0060c>,\n",
    "     <matplotlib.axes.AxesSubplot object at 0x9eacf0c>]\n",
    "\n",
    "The basic view of matplotlib is: a figure contains one or more axes, axes draw\n",
    "and return collections of one or more geometric objects (lines, patches, etc).\n",
    "\n",
    "For all the gory details on this topic, see the matplotlib [artist tutorial](http://matplotlib.sourceforge.net/users/artists.html)."
   ]
  },
  {
   "cell_type": "markdown",
   "metadata": {},
   "source": [
    "<img src=\"http://www.aosabook.org/images/matplotlib/artists_figure.png\", width=\"75%\">"
   ]
  },
  {
   "cell_type": "markdown",
   "metadata": {},
   "source": [
    "<img src=\"http://www.aosabook.org/images/matplotlib/artists_tree.png\", width=\"75%\">"
   ]
  },
  {
   "cell_type": "markdown",
   "metadata": {},
   "source": [
    "## Anatomy of a common plot\n",
    "\n",
    "\n",
    "Let's make a simple plot that contains a few commonly used decorations"
   ]
  },
  {
   "cell_type": "code",
   "execution_count": null,
   "metadata": {},
   "outputs": [],
   "source": [
    "f, ax = plt.subplots()\n",
    "\n",
    "# Three simple polyniomials\n",
    "x = linspace(-1, 1)\n",
    "y1,y2,y3 = [x**i for i in [1,2,3]]\n",
    "\n",
    "# Plot each with a label (for a legend)\n",
    "ax.plot(x, y1, label='linear')\n",
    "ax.plot(x, y2, label='cuadratic')\n",
    "ax.plot(x, y3, label='cubic')\n",
    "# Make all lines drawn so far thicker\n",
    "plt.setp(ax.lines, linewidth=2)\n",
    "\n",
    "# Add a grid and a legend that doesn't overlap the lines\n",
    "ax.grid(True)\n",
    "ax.legend(loc='lower right')\n",
    "\n",
    "# Add black horizontal and vertical lines through the origin\n",
    "ax.axhline(0, color='black')\n",
    "ax.axvline(0, color='black')\n",
    "\n",
    "# Set main text elements of the plot\n",
    "ax.set_title('Some polynomials')\n",
    "ax.set_xlabel('x')\n",
    "ax.set_ylabel('p(x)');"
   ]
  },
  {
   "cell_type": "markdown",
   "metadata": {},
   "source": [
    "## Common plot types\n",
    "\n",
    "\n",
    "### Error plots\n",
    "\n",
    "\n",
    "First a very simple error plot"
   ]
  },
  {
   "cell_type": "code",
   "execution_count": null,
   "metadata": {},
   "outputs": [],
   "source": [
    "# example data\n",
    "x = arange(0.1, 4, 0.5)\n",
    "y = exp(-x)\n",
    "\n",
    "# example variable error bar values\n",
    "yerr = 0.1 + 0.2*sqrt(x)\n",
    "xerr = 0.1 + yerr\n",
    "\n",
    "# First illustrate basic pyplot interface, using defaults where possible.\n",
    "plt.figure()\n",
    "plt.errorbar(x, y, xerr=0.2, yerr=0.4)\n",
    "plt.title(\"Simplest errorbars, 0.2 in x, 0.4 in y\")"
   ]
  },
  {
   "cell_type": "markdown",
   "metadata": {},
   "source": [
    "Now a more elaborate one, using the OO interface to exercise more features."
   ]
  },
  {
   "cell_type": "code",
   "execution_count": null,
   "metadata": {},
   "outputs": [],
   "source": [
    "# same data/errors as before\n",
    "x = arange(0.1, 4, 0.5)\n",
    "y = exp(-x)\n",
    "yerr = 0.1 + 0.2*sqrt(x)\n",
    "xerr = 0.1 + yerr\n",
    "\n",
    "fig, axs = plt.subplots(nrows=2, ncols=2)\n",
    "ax = axs[0,0]\n",
    "ax.errorbar(x, y, yerr=yerr, fmt='o')\n",
    "ax.set_title('Vert. symmetric')\n",
    "\n",
    "# With 4 subplots, reduce the number of axis ticks to avoid crowding.\n",
    "ax.locator_params(nbins=4)\n",
    "\n",
    "ax = axs[0,1]\n",
    "ax.errorbar(x, y, xerr=xerr, fmt='o')\n",
    "ax.set_title('Hor. symmetric')\n",
    "\n",
    "ax = axs[1,0]\n",
    "ax.errorbar(x, y, yerr=[yerr, 2*yerr], xerr=[xerr, 2*xerr], fmt='--o', label='foo')\n",
    "ax.legend()\n",
    "ax.set_title('H, V asymmetric')\n",
    "\n",
    "ax = axs[1,1]\n",
    "ax.set_yscale('log')\n",
    "# Here we have to be careful to keep all y values positive:\n",
    "ylower = np.maximum(1e-2, y - yerr)\n",
    "yerr_lower = y - ylower\n",
    "\n",
    "ax.errorbar(x, y, yerr=[yerr_lower, 2*yerr], xerr=xerr,\n",
    "                             fmt='o', ecolor='g')\n",
    "ax.set_title('Mixed sym., log y')\n",
    "\n",
    "# Fix layout to minimize overlap between titles and marks \n",
    "# https://matplotlib.org/users/tight_layout_guide.html\n",
    "plt.tight_layout()"
   ]
  },
  {
   "cell_type": "markdown",
   "metadata": {},
   "source": [
    "### Logarithmic plots\n",
    "\n",
    "A simple log plot"
   ]
  },
  {
   "cell_type": "code",
   "execution_count": null,
   "metadata": {},
   "outputs": [],
   "source": [
    "x = linspace(-5, 5)\n",
    "y = exp(-x**2)\n",
    "\n",
    "f, (ax1, ax2) = plt.subplots(2, 1)\n",
    "ax1.plot(x, y)\n",
    "ax2.semilogy(x, y)"
   ]
  },
  {
   "cell_type": "markdown",
   "metadata": {},
   "source": [
    "A more elaborate log plot using 'symlog', that treats a specified range as\n",
    "linear (thus handling values near zero) and symmetrizes negative values:"
   ]
  },
  {
   "cell_type": "code",
   "execution_count": null,
   "metadata": {},
   "outputs": [],
   "source": [
    "x = linspace(-50, 50, 100)\n",
    "y = linspace(0, 100, 100)\n",
    "\n",
    "# Create the figure and axes\n",
    "f, (ax1, ax2, ax3) = plt.subplots(3, 1)\n",
    "\n",
    "# Symlog on the x axis\n",
    "ax1.plot(x, y)\n",
    "ax1.set_xscale('symlog')\n",
    "ax1.set_ylabel('symlogx')\n",
    "# Grid for both axes\n",
    "ax1.grid(True)\n",
    "# Minor grid on too for x\n",
    "ax1.xaxis.grid(True, which='minor')\n",
    "\n",
    "# Symlog on the y axis\n",
    "ax2.plot(y, x)\n",
    "ax2.set_yscale('symlog')\n",
    "ax2.set_ylabel('symlogy')\n",
    "\n",
    "# Symlog on both\n",
    "ax3.plot(x, sin(x / 3.0))\n",
    "ax3.set_xscale('symlog')\n",
    "ax3.set_yscale('symlog')\n",
    "ax3.grid(True)\n",
    "ax3.set_ylabel('symlog both')\n",
    "plt.tight_layout()"
   ]
  },
  {
   "cell_type": "markdown",
   "metadata": {},
   "source": [
    "### Bar plots"
   ]
  },
  {
   "cell_type": "code",
   "execution_count": null,
   "metadata": {},
   "outputs": [],
   "source": [
    "N = 5\n",
    "catMeans = (20, 35, 30, 31, 27)\n",
    "catStd =   (2, 3, 4, 1, 2)\n",
    "\n",
    "ind = arange(N)  # the x locations for the groups\n",
    "width = 0.35       # the width of the bars\n",
    "\n",
    "fig, ax = plt.subplots()\n",
    "rects1 = ax.bar(ind, catMeans, width, color='r', yerr=catStd, label='Cats')\n",
    "\n",
    "dogMeans = (25, 32, 34, 21, 29)\n",
    "dogStd =   (3, 5, 2, 3, 3)\n",
    "rects2 = ax.bar(ind+width, dogMeans, width, color='y', yerr=dogStd, label='Dogs')\n",
    "\n",
    "# add some\n",
    "ax.set_ylabel('Scores')\n",
    "ax.set_title('Scores by group and species')\n",
    "ax.set_xticks(ind+width)\n",
    "ax.set_xticklabels( ('G1', 'G2', 'G3', 'G4', 'G5') )\n",
    "ax.legend();"
   ]
  },
  {
   "cell_type": "markdown",
   "metadata": {},
   "source": [
    "### Scatter plots\n",
    "\n",
    "The ``scatter`` command produces scatter plots with arbitrary markers."
   ]
  },
  {
   "cell_type": "code",
   "execution_count": null,
   "metadata": {},
   "outputs": [],
   "source": [
    "from matplotlib import cm\n",
    "\n",
    "t = linspace(0.0, 6*pi, 100)\n",
    "y = exp(-0.1*t)*cos(t)\n",
    "phase = t % 2*pi\n",
    "f, ax = plt.subplots()\n",
    "ax.scatter(t, y, s=100*abs(y), c=phase, cmap=cm.viridis)\n",
    "ax.set_ylim(-1,1)\n",
    "ax.grid()\n",
    "ax.axhline(0, color='k');"
   ]
  },
  {
   "cell_type": "markdown",
   "metadata": {},
   "source": [
    "### Histograms\n",
    "\n",
    "Matplotlib has a built-in command for histograms."
   ]
  },
  {
   "cell_type": "code",
   "execution_count": null,
   "metadata": {},
   "outputs": [],
   "source": [
    "# Some normally-distributed data\n",
    "mu, sigma = 60, 10\n",
    "x = np.random.normal(mu, sigma, 10000)\n",
    "\n",
    "# the histogram of the data\n",
    "n, bins, patches = plt.hist(x, bins=50, normed=True, facecolor='g', alpha=0.75)\n",
    "\n",
    "plt.xlabel('Score')\n",
    "plt.ylabel('Probability')\n",
    "plt.title('Histogram of Test Scores')\n",
    "plt.text(75, .032, rf'$\\mu={mu},\\ \\sigma={sigma}$')\n",
    "plt.grid(True)"
   ]
  },
  {
   "cell_type": "markdown",
   "metadata": {},
   "source": [
    "## Aribitrary text and LaTeX support\n",
    "\n",
    "In matplotlib, text can be added either relative to an individual axis object\n",
    "or to the whole figure.\n",
    "\n",
    "These commands add text to the Axes:\n",
    "\n",
    "- title() - add a title\n",
    "- xlabel() - add an axis label to the x-axis\n",
    "- ylabel() - add an axis label to the y-axis\n",
    "- text() - add text at an arbitrary location\n",
    "- annotate() - add an annotation, with optional arrow\n",
    "\n",
    "And these act on the whole figure:\n",
    "\n",
    "- figtext() - add text at an arbitrary location\n",
    "- suptitle() - add a title\n",
    "\n",
    "And any text field can contain LaTeX expressions for mathematics, as long as\n",
    "they are enclosed in ``$`` signs.\n",
    "\n",
    "This example illustrates all of them:"
   ]
  },
  {
   "cell_type": "code",
   "execution_count": null,
   "metadata": {},
   "outputs": [],
   "source": [
    "fig = plt.figure()\n",
    "fig.suptitle('bold figure suptitle', fontsize=14, fontweight='bold')\n",
    "\n",
    "ax = fig.add_subplot(111)\n",
    "fig.subplots_adjust(top=0.85)\n",
    "ax.set_title('axes title')\n",
    "\n",
    "ax.set_xlabel('xlabel')\n",
    "ax.set_ylabel('ylabel')\n",
    "\n",
    "ax.text(3, 8, 'boxed italics text in data coords', style='italic',\n",
    "        bbox={'facecolor':'red', 'alpha':0.5, 'pad':10})\n",
    "\n",
    "ax.text(2, 6, r'an equation: $E=mc^2$', fontsize=15)\n",
    "\n",
    "ax.text(3, 2, 'unicode: Institut für Festkörperphysik')\n",
    "\n",
    "ax.text(0.95, 0.01, 'colored text in axes coords',\n",
    "        verticalalignment='bottom', horizontalalignment='right',\n",
    "        transform=ax.transAxes,\n",
    "        color='green', fontsize=15)\n",
    "\n",
    "\n",
    "ax.plot([2], [1], 'o')\n",
    "ax.annotate('annotate', xy=(2, 1), xytext=(3, 4),\n",
    "            arrowprops=dict(facecolor='black', shrink=0.05))\n",
    "\n",
    "ax.axis([0, 10, 0, 10])"
   ]
  },
  {
   "cell_type": "markdown",
   "metadata": {},
   "source": [
    "## Statistical plotting - some builtin capabilities\n",
    "\n",
    "Some statistically-oriented plots to visualize data distributions: boxplots and violin plots ([this paper](http://vita.had.co.nz/papers/boxplots.pdf) by Hadley Wickham is a good overview of boxplots).\n",
    "\n",
    "Note that often Seaborn will have a simpler API for rich statistical plots, atop matplotlib's engine. This shows how to do plots of this type *without* seaborn:"
   ]
  },
  {
   "cell_type": "code",
   "execution_count": null,
   "metadata": {},
   "outputs": [],
   "source": [
    "# Random test data\n",
    "np.random.seed(123)\n",
    "all_data = [np.random.normal(0, std, 100) for std in range(1, 4)]\n",
    "\n",
    "fig, axes = plt.subplots(nrows=1, ncols=3, figsize=(11, 5))\n",
    "\n",
    "# Box plots\n",
    "bplots = []\n",
    "for ax, notch in zip(axes[:2], (False, True)):\n",
    "    b = ax.boxplot(all_data,\n",
    "                   notch=notch,\n",
    "                   vert=True,   # vertical box aligmnent\n",
    "                   patch_artist=True)   # fill with color\n",
    "    bplots.append(b)\n",
    "\n",
    "axes[0].set_title('box plot')\n",
    "axes[1].set_title('notched box plot')\n",
    "\n",
    "# Violin plot\n",
    "vplot = axes[2].violinplot(all_data,\n",
    "                           showmeans=False,\n",
    "                           showmedians=True)\n",
    "axes[2].set_title('violin plot')\n",
    "\n",
    "# fill with colors\n",
    "colors = ['pink', 'lightblue', 'lightgreen']\n",
    "for bplot in bplots:\n",
    "    for patch, color in zip(bplot['boxes'], colors):\n",
    "        patch.set_facecolor(color)\n",
    "\n",
    "# adding horizontal grid lines\n",
    "for i, ax in enumerate(axes):\n",
    "    ax.yaxis.grid(True)\n",
    "    ax.set_xticks([y+1 for y in range(len(all_data))], )\n",
    "    ax.set_xlabel('xlabel')\n",
    "    if i: ax.set_yticklabels([])\n",
    "\n",
    "# add x-tick labels\n",
    "plt.setp(axes, xticks=[y+1 for y in range(len(all_data))],\n",
    "         xticklabels=['x1', 'x2', 'x3']);"
   ]
  }
 ],
 "metadata": {
  "kernelspec": {
   "display_name": "Python 3",
   "language": "python",
   "name": "python3"
  },
  "language_info": {
   "codemirror_mode": {
    "name": "ipython",
    "version": 3
   },
   "file_extension": ".py",
   "mimetype": "text/x-python",
   "name": "python",
   "nbconvert_exporter": "python",
   "pygments_lexer": "ipython3",
   "version": "3.6.4"
  }
 },
 "nbformat": 4,
 "nbformat_minor": 1
}
