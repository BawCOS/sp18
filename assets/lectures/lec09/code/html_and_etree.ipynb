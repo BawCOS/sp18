{
 "cells": [
  {
   "cell_type": "markdown",
   "metadata": {},
   "source": [
    "# Using lxml to Parse HTML \n",
    "\n",
    "The libxml library `lxml` provides a lot of sophisticated (low-level) functionality for traversing XML and html documents.  In this example we use the specialized `html` submodule.\n",
    "\n",
    "We download some data from wikipeda:"
   ]
  },
  {
   "cell_type": "code",
   "execution_count": null,
   "metadata": {
    "ExecuteTime": {
     "end_time": "2018-02-13T06:41:31.384894Z",
     "start_time": "2018-02-13T06:40:56.881125Z"
    }
   },
   "outputs": [],
   "source": [
    "import requests\n",
    "url = \"https://en.wikipedia.org/wiki/United_States_presidential_election_in_Virginia,_2004\"\n",
    "resp = requests.get(url)\n",
    "resp"
   ]
  },
  {
   "cell_type": "markdown",
   "metadata": {},
   "source": [
    "## Construct the DOM\n",
    "\n",
    "Parse the content into a document object model"
   ]
  },
  {
   "cell_type": "code",
   "execution_count": null,
   "metadata": {
    "ExecuteTime": {
     "end_time": "2018-02-13T06:41:31.385756Z",
     "start_time": "2018-02-13T06:40:59.737Z"
    }
   },
   "outputs": [],
   "source": [
    "from lxml import html\n",
    "dom = html.document_fromstring(resp.content)"
   ]
  },
  {
   "cell_type": "code",
   "execution_count": null,
   "metadata": {
    "ExecuteTime": {
     "end_time": "2018-02-13T06:41:31.386537Z",
     "start_time": "2018-02-13T06:41:00.573Z"
    }
   },
   "outputs": [],
   "source": [
    "dom"
   ]
  },
  {
   "cell_type": "markdown",
   "metadata": {},
   "source": [
    "## Traversing the DOM"
   ]
  },
  {
   "cell_type": "code",
   "execution_count": null,
   "metadata": {
    "ExecuteTime": {
     "end_time": "2018-02-13T06:41:31.387564Z",
     "start_time": "2018-02-13T06:41:02.318Z"
    }
   },
   "outputs": [],
   "source": [
    "dom.getchildren()"
   ]
  },
  {
   "cell_type": "markdown",
   "metadata": {},
   "source": [
    "## Jumping directly to an Element"
   ]
  },
  {
   "cell_type": "code",
   "execution_count": null,
   "metadata": {
    "ExecuteTime": {
     "end_time": "2018-02-13T06:41:31.389580Z",
     "start_time": "2018-02-13T06:41:03.236Z"
    }
   },
   "outputs": [],
   "source": [
    "body = dom.find(\"body\")"
   ]
  },
  {
   "cell_type": "code",
   "execution_count": null,
   "metadata": {
    "ExecuteTime": {
     "end_time": "2018-02-13T06:41:31.390977Z",
     "start_time": "2018-02-13T06:41:03.611Z"
    }
   },
   "outputs": [],
   "source": [
    "body.getchildren()"
   ]
  },
  {
   "cell_type": "markdown",
   "metadata": {},
   "source": [
    "# Using XPath to query HTML \n",
    "\n",
    "The following XPath query finds all the table elements starting at anywhere `//` in the tree and then traverses into the table to the row `/tr` and then the data entry `/td` and looks for a link `a` with the title attribute `@title` having the value `\"Accomack County, Virginia\"` and then gets its parent (the `td`) and then its parent (`tr`) and then its parent (`table`) and returns that."
   ]
  },
  {
   "cell_type": "code",
   "execution_count": null,
   "metadata": {
    "ExecuteTime": {
     "end_time": "2018-02-13T06:41:31.392409Z",
     "start_time": "2018-02-13T06:41:04.232Z"
    }
   },
   "outputs": [],
   "source": [
    "tables = dom.xpath('//table/tr/td/a[@title=\"Accomack County, Virginia\"]/../../..')"
   ]
  },
  {
   "cell_type": "markdown",
   "metadata": {},
   "source": [
    "Printing the returned table:"
   ]
  },
  {
   "cell_type": "code",
   "execution_count": null,
   "metadata": {
    "ExecuteTime": {
     "end_time": "2018-02-13T06:41:31.393696Z",
     "start_time": "2018-02-13T06:41:04.635Z"
    }
   },
   "outputs": [],
   "source": [
    "print(html.tostring(tables[0], pretty_print=True).decode('UTF8'))"
   ]
  },
  {
   "cell_type": "markdown",
   "metadata": {},
   "source": [
    "Building a DataFrame from the table:"
   ]
  },
  {
   "cell_type": "code",
   "execution_count": null,
   "metadata": {
    "ExecuteTime": {
     "end_time": "2018-02-13T06:41:31.394781Z",
     "start_time": "2018-02-13T06:41:05.395Z"
    }
   },
   "outputs": [],
   "source": [
    "import pandas as pd\n",
    "df = pd.read_html(html.tostring(tables[0]))[0]\n",
    "df.head()"
   ]
  },
  {
   "cell_type": "code",
   "execution_count": null,
   "metadata": {},
   "outputs": [],
   "source": []
  }
 ],
 "metadata": {
  "kernelspec": {
   "display_name": "Python 3",
   "language": "python",
   "name": "python3"
  },
  "language_info": {
   "codemirror_mode": {
    "name": "ipython",
    "version": 3
   },
   "file_extension": ".py",
   "mimetype": "text/x-python",
   "name": "python",
   "nbconvert_exporter": "python",
   "pygments_lexer": "ipython3",
   "version": "3.6.4"
  }
 },
 "nbformat": 4,
 "nbformat_minor": 2
}
