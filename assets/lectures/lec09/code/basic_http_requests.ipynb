{
 "cells": [
  {
   "cell_type": "code",
   "execution_count": null,
   "metadata": {
    "ExecuteTime": {
     "end_time": "2018-02-13T04:12:29.649069Z",
     "start_time": "2018-02-13T04:12:28.925151Z"
    }
   },
   "outputs": [],
   "source": [
    "import pandas as pd\n",
    "import matplotlib.pyplot as plt\n",
    "\n",
    "%matplotlib inline"
   ]
  },
  {
   "cell_type": "markdown",
   "metadata": {},
   "source": [
    "## Web Scraping and Examining Solar Energy Usage:\n",
    "\n",
    "In this notebook we continue our analysis of Solar energy data collected here:\n",
    "\n",
    "http://www.energy.ca.gov/almanac/renewables_data/solar/index.php\n"
   ]
  },
  {
   "cell_type": "markdown",
   "metadata": {},
   "source": [
    "In the previous notebook we developed a few key functions to process the tables on the energy website.  We will reuse those here:"
   ]
  },
  {
   "cell_type": "code",
   "execution_count": null,
   "metadata": {
    "ExecuteTime": {
     "end_time": "2018-02-13T04:12:29.655511Z",
     "start_time": "2018-02-13T04:12:29.651362Z"
    }
   },
   "outputs": [],
   "source": [
    "def find_table(name, tables):\n",
    "    return {t.iloc[0,0]: t for t in tables}[name].copy()"
   ]
  },
  {
   "cell_type": "code",
   "execution_count": null,
   "metadata": {
    "ExecuteTime": {
     "end_time": "2018-02-13T04:12:29.664279Z",
     "start_time": "2018-02-13T04:12:29.657487Z"
    }
   },
   "outputs": [],
   "source": [
    "def clean_solar_table(table):\n",
    "    table = table.copy()\n",
    "    # Extract and set the column names\n",
    "    table.columns = table.iloc[1,:].values\n",
    "    # drop headers and summary at end\n",
    "    table = table.iloc[2:-1]\n",
    "    # Change types\n",
    "    table = table.astype({\"Year\": \"int\", \"Net MWh\": \"float\", \"Capacity (MW)\": \"float\"})\n",
    "    return table.reset_index(drop=True)"
   ]
  },
  {
   "cell_type": "code",
   "execution_count": null,
   "metadata": {
    "ExecuteTime": {
     "end_time": "2018-02-13T04:12:29.671304Z",
     "start_time": "2018-02-13T04:12:29.666400Z"
    }
   },
   "outputs": [],
   "source": [
    "def extract_and_combine_pv_and_thermal(tables):\n",
    "    thermal_table = clean_solar_table(find_table(\"Solar Thermal\", tables))\n",
    "    pv_table = clean_solar_table(find_table(\"Solar PV\", tables))\n",
    "    thermal_table[\"Kind\"] = \"Thermal\"\n",
    "    pv_table[\"Kind\"] = \"PV\"\n",
    "    return pd.concat([thermal_table, pv_table]).reset_index(drop=True)"
   ]
  },
  {
   "cell_type": "markdown",
   "metadata": {},
   "source": [
    "# Examining Sources Over Time\n",
    "\n",
    "What if we wanted to examine these sources overtime?  We can get more information from the website:\n",
    "\n",
    "Try opening the page using developer tools in [Chrome](https://developer.chrome.com/devtools) or [Safari](https://developer.apple.com/safari/tools/).\n",
    "\n",
    "\n",
    "![Webpage](webpage_form.png)\n",
    "\n",
    "Notice that we can select a different year.  To do this we would need to send some additional information to the web server.  If you look at the HTML source on the right you see that the website requires `POST`ing additional values to access a particular year.  \n",
    "\n",
    "We can do this using the Python [`requests` library](http://docs.python-requests.org/en/master/user/quickstart/):"
   ]
  },
  {
   "cell_type": "markdown",
   "metadata": {},
   "source": [
    "In the following we make `POST` request with the body containing `newYear=2012`"
   ]
  },
  {
   "cell_type": "code",
   "execution_count": null,
   "metadata": {
    "ExecuteTime": {
     "end_time": "2018-02-13T04:12:30.531654Z",
     "start_time": "2018-02-13T04:12:29.673260Z"
    }
   },
   "outputs": [],
   "source": [
    "import requests\n",
    "resp = requests.post(\n",
    "    \"http://www.energy.ca.gov/almanac/renewables_data/solar/index.php\", \n",
    "    data = {'newYear':'2012'})\n",
    "resp"
   ]
  },
  {
   "cell_type": "markdown",
   "metadata": {},
   "source": [
    "### Examining the Request"
   ]
  },
  {
   "cell_type": "code",
   "execution_count": null,
   "metadata": {
    "ExecuteTime": {
     "end_time": "2018-02-13T04:12:30.539502Z",
     "start_time": "2018-02-13T04:12:30.534323Z"
    }
   },
   "outputs": [],
   "source": [
    "resp.request.method"
   ]
  },
  {
   "cell_type": "code",
   "execution_count": null,
   "metadata": {
    "ExecuteTime": {
     "end_time": "2018-02-13T04:12:30.548673Z",
     "start_time": "2018-02-13T04:12:30.542646Z"
    }
   },
   "outputs": [],
   "source": [
    "resp.request.path_url"
   ]
  },
  {
   "cell_type": "code",
   "execution_count": null,
   "metadata": {
    "ExecuteTime": {
     "end_time": "2018-02-13T04:12:30.558153Z",
     "start_time": "2018-02-13T04:12:30.552479Z"
    }
   },
   "outputs": [],
   "source": [
    "for k in resp.request.headers:\n",
    "    print(k, \"=\", resp.request.headers[k])"
   ]
  },
  {
   "cell_type": "code",
   "execution_count": null,
   "metadata": {
    "ExecuteTime": {
     "end_time": "2018-02-13T04:12:30.566176Z",
     "start_time": "2018-02-13T04:12:30.560524Z"
    }
   },
   "outputs": [],
   "source": [
    "resp.request.body"
   ]
  },
  {
   "cell_type": "markdown",
   "metadata": {},
   "source": [
    "### Examining the Response"
   ]
  },
  {
   "cell_type": "code",
   "execution_count": null,
   "metadata": {
    "ExecuteTime": {
     "end_time": "2018-02-13T04:12:30.573611Z",
     "start_time": "2018-02-13T04:12:30.568392Z"
    }
   },
   "outputs": [],
   "source": [
    "resp.status_code"
   ]
  },
  {
   "cell_type": "code",
   "execution_count": null,
   "metadata": {
    "ExecuteTime": {
     "end_time": "2018-02-13T04:12:30.582726Z",
     "start_time": "2018-02-13T04:12:30.576970Z"
    }
   },
   "outputs": [],
   "source": [
    "for k in resp.headers:\n",
    "    print(k, \":\", resp.headers[k])"
   ]
  },
  {
   "cell_type": "code",
   "execution_count": null,
   "metadata": {
    "ExecuteTime": {
     "end_time": "2018-02-13T04:12:30.592775Z",
     "start_time": "2018-02-13T04:12:30.587016Z"
    }
   },
   "outputs": [],
   "source": [
    "resp.content[0:500]"
   ]
  },
  {
   "cell_type": "markdown",
   "metadata": {},
   "source": [
    "Notice that the content is currently encoded as raw bytes.  If we wanted to work on the text version of the content we would need to decode it to the correct string encoding.  This can be done using the `decode` function and the type defined in response header."
   ]
  },
  {
   "cell_type": "code",
   "execution_count": null,
   "metadata": {
    "ExecuteTime": {
     "end_time": "2018-02-13T04:12:30.602555Z",
     "start_time": "2018-02-13T04:12:30.596917Z"
    }
   },
   "outputs": [],
   "source": [
    "encoding = resp.headers['Content-Type'].split(\"=\")[-1]\n",
    "encoding"
   ]
  },
  {
   "cell_type": "code",
   "execution_count": null,
   "metadata": {
    "ExecuteTime": {
     "end_time": "2018-02-13T04:12:30.611835Z",
     "start_time": "2018-02-13T04:12:30.606186Z"
    }
   },
   "outputs": [],
   "source": [
    "resp.content.decode(encoding)[0:500]"
   ]
  },
  {
   "cell_type": "markdown",
   "metadata": {},
   "source": [
    "## Loading the Response into Pandas\n",
    "\n",
    "Alternatively, we can send the HTML to Pandas to decode into tables as before.  Notice that we have now changed the year."
   ]
  },
  {
   "cell_type": "code",
   "execution_count": null,
   "metadata": {
    "ExecuteTime": {
     "end_time": "2018-02-13T04:12:31.126754Z",
     "start_time": "2018-02-13T04:12:30.613923Z"
    }
   },
   "outputs": [],
   "source": [
    "tables = pd.read_html(resp.content, encoding=encoding)\n",
    "for t in tables:\n",
    "    display(t.head())"
   ]
  },
  {
   "cell_type": "markdown",
   "metadata": {},
   "source": [
    "# Downloading All Years\n",
    "\n",
    "We would now like to programmatically extract the data for all the available years.  We can break this into three steps:\n",
    "\n",
    "1. Get the list of possible years\n",
    "1. Download the data for each year\n",
    "1. Combine the data into a single DataFrame"
   ]
  },
  {
   "cell_type": "markdown",
   "metadata": {},
   "source": [
    "## Get the list of possible years\n",
    "\n",
    "We would like to programatically extract the possible years we can submit to the form.  To do this we will use the [`BeatifulSoup` (version 4) Library](https://www.crummy.com/software/BeautifulSoup/bs4/doc/).  This is a fairly sophisticated library for reading and navigating HTML documents.  We won't cover this library in detail in Data100 but it will be helpful for you to know about it:"
   ]
  },
  {
   "cell_type": "code",
   "execution_count": null,
   "metadata": {
    "ExecuteTime": {
     "end_time": "2018-02-13T04:12:31.133094Z",
     "start_time": "2018-02-13T04:12:31.129716Z"
    }
   },
   "outputs": [],
   "source": [
    "from bs4 import BeautifulSoup"
   ]
  },
  {
   "cell_type": "markdown",
   "metadata": {},
   "source": [
    "### Beautiful Soup Makes HTML Readable\n",
    "\n",
    "You can use Beautiful soup to parse an HTML document and reindent it:"
   ]
  },
  {
   "cell_type": "code",
   "execution_count": null,
   "metadata": {
    "ExecuteTime": {
     "end_time": "2018-02-13T04:12:31.330069Z",
     "start_time": "2018-02-13T04:12:31.135695Z"
    }
   },
   "outputs": [],
   "source": [
    "dom = BeautifulSoup(resp.content.decode(encoding), \"html.parser\")\n",
    "print(dom.prettify())"
   ]
  },
  {
   "cell_type": "markdown",
   "metadata": {},
   "source": [
    "### Finding the list of  years\n",
    "\n",
    "If we return to the web page and explore the DOM we find that the form has an `id`.  \n",
    "\n",
    "![goYear](goyear.png)\n",
    "\n",
    "**Div `id`s are (should be) unique so we can look for this form in the DOM tree by searching for the `id`.**"
   ]
  },
  {
   "cell_type": "code",
   "execution_count": null,
   "metadata": {
    "ExecuteTime": {
     "end_time": "2018-02-13T04:12:31.376710Z",
     "start_time": "2018-02-13T04:12:31.332634Z"
    }
   },
   "outputs": [],
   "source": [
    "forms = dom.find_all(id=\"goYear\")\n",
    "forms"
   ]
  },
  {
   "cell_type": "code",
   "execution_count": null,
   "metadata": {
    "ExecuteTime": {
     "end_time": "2018-02-13T04:12:31.384527Z",
     "start_time": "2018-02-13T04:12:31.379275Z"
    }
   },
   "outputs": [],
   "source": [
    "print(forms[0].prettify())"
   ]
  },
  {
   "cell_type": "markdown",
   "metadata": {},
   "source": [
    "Notice that this form contains several option tags.   We can find all the option tags in this form:\n"
   ]
  },
  {
   "cell_type": "code",
   "execution_count": null,
   "metadata": {
    "ExecuteTime": {
     "end_time": "2018-02-13T04:12:31.396095Z",
     "start_time": "2018-02-13T04:12:31.387407Z"
    }
   },
   "outputs": [],
   "source": [
    "form = forms[0]\n",
    "opt_tags = form.find_all(\"option\")\n",
    "opt_tags"
   ]
  },
  {
   "cell_type": "markdown",
   "metadata": {},
   "source": [
    "This again returns a list of elements.  Notice that each option has a value attribute that is posted in the form.  Let's extract these attributes:"
   ]
  },
  {
   "cell_type": "code",
   "execution_count": null,
   "metadata": {
    "ExecuteTime": {
     "end_time": "2018-02-13T04:12:31.406421Z",
     "start_time": "2018-02-13T04:12:31.399941Z"
    }
   },
   "outputs": [],
   "source": [
    "[o.attrs for o in opt_tags]"
   ]
  },
  {
   "cell_type": "markdown",
   "metadata": {},
   "source": [
    "The attributes are python dictionary objects so we can get the year by using the key `\"value\"`"
   ]
  },
  {
   "cell_type": "code",
   "execution_count": null,
   "metadata": {
    "ExecuteTime": {
     "end_time": "2018-02-13T04:12:31.418339Z",
     "start_time": "2018-02-13T04:12:31.408785Z"
    }
   },
   "outputs": [],
   "source": [
    "years = set([o.attrs[\"value\"] for o in opt_tags]) \n",
    "years"
   ]
  },
  {
   "cell_type": "markdown",
   "metadata": {},
   "source": [
    "## Download All the Data\n",
    "\n",
    "In the following block of code we use the years that we just collected to **repeatedly** query the website and download all the data for each year."
   ]
  },
  {
   "cell_type": "code",
   "execution_count": null,
   "metadata": {
    "ExecuteTime": {
     "end_time": "2018-02-13T04:12:51.757380Z",
     "start_time": "2018-02-13T04:12:31.420525Z"
    }
   },
   "outputs": [],
   "source": [
    "dfs = []\n",
    "\n",
    "for y in years:\n",
    "    print(\"Downloading Year:\", y)\n",
    "\n",
    "    # Get the data\n",
    "    r = requests.post(\"http://www.energy.ca.gov/almanac/renewables_data/solar/index.php\", \n",
    "              data = {'newYear': y})\n",
    "    \n",
    "    # Get all the tables\n",
    "    tables = pd.read_html(r.content)\n",
    "\n",
    "    # Get the two tables\n",
    "    df = extract_and_combine_pv_and_thermal(tables)\n",
    "\n",
    "    # Save the dataframe\n",
    "    dfs.append(df)\n",
    "    \n",
    "    \n"
   ]
  },
  {
   "cell_type": "markdown",
   "metadata": {},
   "source": [
    "## Combine All the Data into a single Dataframe"
   ]
  },
  {
   "cell_type": "code",
   "execution_count": null,
   "metadata": {
    "ExecuteTime": {
     "end_time": "2018-02-13T04:12:51.769770Z",
     "start_time": "2018-02-13T04:12:51.759208Z"
    }
   },
   "outputs": [],
   "source": [
    "data = pd.concat(dfs).reset_index(drop=True)"
   ]
  },
  {
   "cell_type": "code",
   "execution_count": null,
   "metadata": {
    "ExecuteTime": {
     "end_time": "2018-02-13T04:12:51.790784Z",
     "start_time": "2018-02-13T04:12:51.772084Z"
    }
   },
   "outputs": [],
   "source": [
    "data.head()"
   ]
  },
  {
   "cell_type": "markdown",
   "metadata": {},
   "source": [
    "### Save a Backup"
   ]
  },
  {
   "cell_type": "code",
   "execution_count": null,
   "metadata": {
    "ExecuteTime": {
     "end_time": "2018-02-13T04:12:51.818270Z",
     "start_time": "2018-02-13T04:12:51.793899Z"
    }
   },
   "outputs": [],
   "source": [
    "data.to_csv(\"cal_energy_data_all_years.csv\")"
   ]
  },
  {
   "cell_type": "markdown",
   "metadata": {},
   "source": [
    "# Finishing the Analysis\n",
    "\n",
    "Let's examine the growth in the Thermal and PV energy production over the past decade.\n",
    "\n",
    "1. Construct a Pivot Table of **year** by **kind** with the entries containing the total **Net MWh**.\n",
    "1. Plot it!"
   ]
  },
  {
   "cell_type": "code",
   "execution_count": null,
   "metadata": {
    "ExecuteTime": {
     "end_time": "2018-02-13T04:12:51.846249Z",
     "start_time": "2018-02-13T04:12:51.820678Z"
    }
   },
   "outputs": [],
   "source": [
    "data.pivot_table(values=\"Net MWh\", \n",
    "                 index=\"Year\", columns=\"Kind\", aggfunc=\"sum\")"
   ]
  },
  {
   "cell_type": "code",
   "execution_count": null,
   "metadata": {
    "ExecuteTime": {
     "end_time": "2018-02-13T04:12:52.313386Z",
     "start_time": "2018-02-13T04:12:51.849926Z"
    }
   },
   "outputs": [],
   "source": [
    "fig = (\n",
    "    data.pivot_table(values=\"Net MWh\", \n",
    "                     index=\"Year\", columns=\"Kind\", aggfunc=\"sum\")\n",
    "        .plot(kind='line')\n",
    ")\n",
    "ax = fig.axes\n",
    "plt.setp(ax.lines, marker=\"x\")\n",
    "ax.set_ylabel(\"Net MWh\")"
   ]
  },
  {
   "cell_type": "markdown",
   "metadata": {},
   "source": [
    "## Interactive Plotly Visualization"
   ]
  },
  {
   "cell_type": "code",
   "execution_count": null,
   "metadata": {
    "ExecuteTime": {
     "end_time": "2018-02-13T04:12:52.889153Z",
     "start_time": "2018-02-13T04:12:52.315868Z"
    }
   },
   "outputs": [],
   "source": [
    "import plotly.offline as py\n",
    "py.init_notebook_mode(connected=False)\n",
    "\n",
    "import plotly.graph_objs as go\n",
    "import plotly.figure_factory as ff\n",
    "import cufflinks as cf\n",
    "\n",
    "cf.set_config_file(offline=False, world_readable=True, theme='ggplot')"
   ]
  },
  {
   "cell_type": "code",
   "execution_count": null,
   "metadata": {
    "ExecuteTime": {
     "end_time": "2018-02-13T04:12:54.130008Z",
     "start_time": "2018-02-13T04:12:52.891160Z"
    }
   },
   "outputs": [],
   "source": [
    "(\n",
    "    data.pivot_table(values=\"Net MWh\", \n",
    "                     index=\"Year\", columns=\"Kind\", aggfunc=\"sum\")\n",
    "        .iplot(kind='line',  yTitle = \"Net MWh\")\n",
    ")"
   ]
  },
  {
   "cell_type": "code",
   "execution_count": null,
   "metadata": {
    "ExecuteTime": {
     "end_time": "2018-02-13T04:12:55.376688Z",
     "start_time": "2018-02-13T04:12:54.133362Z"
    }
   },
   "outputs": [],
   "source": [
    "(\n",
    "    data.pivot_table(values=\"Capacity (MW)\", \n",
    "                     index=\"Year\", columns=\"Kind\", aggfunc=\"sum\")\n",
    "        .iplot(kind='line',  yTitle = \"Total Capacity (MW)\")\n",
    ")"
   ]
  },
  {
   "cell_type": "markdown",
   "metadata": {},
   "source": [
    "Who are the big providers:"
   ]
  },
  {
   "cell_type": "code",
   "execution_count": null,
   "metadata": {
    "ExecuteTime": {
     "end_time": "2018-02-13T04:15:51.792777Z",
     "start_time": "2018-02-13T04:15:50.589147Z"
    }
   },
   "outputs": [],
   "source": [
    "(\n",
    "    data.groupby(\"Plant Name\")[[\"Capacity (MW)\"]].sum()\n",
    "        .sort_values(\"Capacity (MW)\")\n",
    "        .tail(30)\n",
    "        .iplot(kind='bar',  yTitle = \"Total Capacity (MW)\")\n",
    ")"
   ]
  },
  {
   "cell_type": "markdown",
   "metadata": {},
   "source": [
    "## The big Producers:\n",
    "\n",
    "1. [Topaz Solar](https://en.wikipedia.org/wiki/Topaz_Solar_Farm) (PV)\n",
    "1. [Solar Energy Generating Systems](https://en.wikipedia.org/wiki/Solar_Energy_Generating_Systems) (Thermal)\n",
    "1. [Desert Sunlight](https://en.wikipedia.org/wiki/Desert_Sunlight_Solar_Farm) (PV)"
   ]
  },
  {
   "cell_type": "code",
   "execution_count": null,
   "metadata": {},
   "outputs": [],
   "source": []
  }
 ],
 "metadata": {
  "kernelspec": {
   "display_name": "Python 3",
   "language": "python",
   "name": "python3"
  },
  "language_info": {
   "codemirror_mode": {
    "name": "ipython",
    "version": 3
   },
   "file_extension": ".py",
   "mimetype": "text/x-python",
   "name": "python",
   "nbconvert_exporter": "python",
   "pygments_lexer": "ipython3",
   "version": "3.6.4"
  }
 },
 "nbformat": 4,
 "nbformat_minor": 2
}
