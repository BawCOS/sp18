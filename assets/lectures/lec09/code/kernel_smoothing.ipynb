{
 "cells": [
  {
   "cell_type": "markdown",
   "metadata": {},
   "source": [
    "# Kernel Smoothing"
   ]
  },
  {
   "cell_type": "code",
   "execution_count": null,
   "metadata": {
    "ExecuteTime": {
     "end_time": "2018-02-12T23:27:43.095462Z",
     "start_time": "2018-02-12T23:27:41.866612Z"
    }
   },
   "outputs": [],
   "source": [
    "import numpy as np\n",
    "import matplotlib.pyplot as plt\n",
    "import seaborn as sns\n",
    "%matplotlib inline"
   ]
  },
  {
   "cell_type": "markdown",
   "metadata": {},
   "source": [
    "## Making the raw data"
   ]
  },
  {
   "cell_type": "code",
   "execution_count": null,
   "metadata": {
    "ExecuteTime": {
     "end_time": "2018-02-12T23:29:55.143922Z",
     "start_time": "2018-02-12T23:29:55.139392Z"
    }
   },
   "outputs": [],
   "source": [
    "np.random.seed(42)\n",
    "x = np.hstack([\n",
    "    np.random.randn(10)*1.4 - 3,\n",
    "    np.random.randn(20)*2 + 7 \n",
    "]) + 90"
   ]
  },
  {
   "cell_type": "markdown",
   "metadata": {},
   "source": [
    "## Descriptive Plots\n",
    "\n",
    "Plots of descriptive statistics communicate key summaries of the data.  They do not present those summaries in a way that attempts to infer values that were not observed.\n",
    "\n",
    "The following rug plot and box plot show key summaries of the data.  While the box plot does communicate the spread it only reveals the location of the median and quartiles."
   ]
  },
  {
   "cell_type": "code",
   "execution_count": null,
   "metadata": {
    "ExecuteTime": {
     "end_time": "2018-02-12T23:29:57.757127Z",
     "start_time": "2018-02-12T23:29:57.505948Z"
    }
   },
   "outputs": [],
   "source": [
    "sns.rugplot(x)\n",
    "sns.boxplot(x)\n",
    "plt.ylabel(\"No Meaning\")\n",
    "plt.xlabel(r\"$x$\")\n",
    "plt.savefig(\"descriptive_plot.pdf\", bbox_inches='tight')"
   ]
  },
  {
   "cell_type": "markdown",
   "metadata": {},
   "source": [
    "## Inferential Plots\n",
    "\n",
    "Histograms and Kernel density estimators attempt to convey information about the shape of the data and in the process convey information about regions where data is not observed.  As a consequence the convey an inference about the shape of the data generating process:  "
   ]
  },
  {
   "cell_type": "code",
   "execution_count": null,
   "metadata": {
    "ExecuteTime": {
     "end_time": "2018-02-13T01:12:10.815379Z",
     "start_time": "2018-02-13T01:12:10.482977Z"
    }
   },
   "outputs": [],
   "source": [
    "sns.distplot(x, rug=True)\n",
    "plt.xlabel(r\"$x$\")\n",
    "plt.ylabel(r\"$\\mathbf{p}(x)$\")\n",
    "plt.savefig(\"everything.pdf\", bbox_inches='tight')"
   ]
  },
  {
   "cell_type": "markdown",
   "metadata": {},
   "source": [
    "## Kernel Density Estimates\n",
    "\n",
    "The Kernel density estimate is a non-parametric estimator for the distribution of the population based on samples.  It is constructed by averaging densities centered at each observed data point.  "
   ]
  },
  {
   "cell_type": "code",
   "execution_count": null,
   "metadata": {
    "ExecuteTime": {
     "end_time": "2018-02-13T00:07:30.597568Z",
     "start_time": "2018-02-13T00:07:30.234329Z"
    }
   },
   "outputs": [],
   "source": [
    "import scipy as sp\n",
    "\n",
    "u = np.linspace(np.min(x)-5, np.max(x)+5, 100)\n",
    "z = np.zeros(u.shape)\n",
    "h = 2\n",
    "for v in x:\n",
    "    y = sp.stats.norm.pdf((u - v), scale=h)\n",
    "    plt.plot(u,y, 'y')\n",
    "    z += y\n",
    "plt.plot(u, z /len(x)  , 'k', linewidth=5)\n",
    "\n",
    "sns.rugplot(x)\n",
    "plt.xlabel(r\"$x$\")\n",
    "plt.savefig(\"sum_of_bumps.pdf\", bbox_inches='tight')"
   ]
  },
  {
   "cell_type": "markdown",
   "metadata": {},
   "source": [
    "## Kernel Functions\n",
    "\n",
    "There are a range of possible kernel functions that can be used in a kernel density estimator.  The choice of function depends on your assumptions about the smoothness of the data.  The Gaussian Kernel is widely used because it is simple to understand and results in very smooth curves.  Conversely the boxcar kernel (square function) results in very jagged curves that more closely approximate a histogram.  The Epanechnikov kernel enjoys some additional statistical guarantees and is a reasonable compromise between Guassian and Boxcar kernels."
   ]
  },
  {
   "cell_type": "code",
   "execution_count": null,
   "metadata": {
    "ExecuteTime": {
     "end_time": "2018-02-13T00:17:43.197833Z",
     "start_time": "2018-02-13T00:17:42.437595Z"
    }
   },
   "outputs": [],
   "source": [
    "import scipy as sp\n",
    "\n",
    "u = np.linspace(-10, +10, 200)\n",
    "plt.plot(u, sp.stats.norm.pdf(u), label=r\"Gaussian $\\alpha = 1$\")\n",
    "plt.plot(u, sp.stats.norm.pdf(u, scale=2), label=r\"Gaussian $\\alpha = 2$\")\n",
    "plt.plot(u, sp.stats.norm.pdf(u, scale=3), label=r\"Gaussian $\\alpha = 3$\")\n",
    "plt.plot(u, ((u > -1) & (u < 1))/2., label=r\"Boxcar $\\alpha = 2$\")\n",
    "plt.plot(u, ((u > -1) & (u < 1)) * (3./4. * (1 - u**2)), \n",
    "         label=\"\\nEpanechnikov \\n $\\\\frac{3}{4}(1-r^2)$\", linewidth=3)\n",
    "# plt.setp(plt.gca(), fontsize=10)\n",
    "# sns.rugplot(x)\n",
    "plt.legend(fontsize=12)\n",
    "\n",
    "plt.xlabel(r\"$r$\")\n",
    "plt.savefig(\"kernels.pdf\", bbox_inches='tight')"
   ]
  },
  {
   "cell_type": "code",
   "execution_count": null,
   "metadata": {
    "ExecuteTime": {
     "end_time": "2018-02-13T01:26:08.046350Z",
     "start_time": "2018-02-13T01:26:07.687148Z"
    }
   },
   "outputs": [],
   "source": [
    "from sklearn.neighbors.kde import KernelDensity\n",
    "\n",
    "for bw in [1,2,3,5]:\n",
    "    kde = KernelDensity(kernel=\"epanechnikov\",bandwidth=bw)\n",
    "    kde.fit(x[:,np.newaxis])\n",
    "    u = np.linspace(np.min(x)-5, np.max(x)+5, 200)\n",
    "    plt.plot(u, np.exp(kde.score_samples(u[:, np.newaxis])), label=r\"$\\alpha=\" + str(bw) + \"$\")\n",
    "plt.legend()\n",
    "plt.title(\"Epanechnikov KDE at Different Bandwidths\");\n",
    "plt.xlabel(r\"$x$\")\n",
    "plt.savefig(\"epanechnikov_kde.pdf\", bbox_inches='tight')"
   ]
  },
  {
   "cell_type": "markdown",
   "metadata": {},
   "source": [
    "# Kernel Smoothing for Scatter Plots"
   ]
  },
  {
   "cell_type": "code",
   "execution_count": null,
   "metadata": {
    "ExecuteTime": {
     "end_time": "2018-02-13T01:54:39.375451Z",
     "start_time": "2018-02-13T01:54:38.942769Z"
    }
   },
   "outputs": [],
   "source": [
    "np.random.seed(43)\n",
    "x2 = np.random.randn(5000)*2\n",
    "y = 1.5*np.sin(x2) + 2*np.random.randn(len(x2)) \n",
    "plt.plot(x2,y, \"o\")\n",
    "plt.savefig(\"overplotted.png\", bbox_inches='tight', dpi=300)"
   ]
  },
  {
   "cell_type": "markdown",
   "metadata": {},
   "source": [
    "## Visualizing the Data by Kernel Smoothing"
   ]
  },
  {
   "cell_type": "code",
   "execution_count": null,
   "metadata": {
    "ExecuteTime": {
     "end_time": "2018-02-13T01:54:42.686376Z",
     "start_time": "2018-02-13T01:54:40.241406Z"
    }
   },
   "outputs": [],
   "source": [
    "from sklearn.kernel_ridge import KernelRidge\n",
    "kreg = KernelRidge(kernel=\"rbf\", alpha=10)\n",
    "kreg.fit(x2[:, np.newaxis], y)\n",
    "\n",
    "# Make Plot\n",
    "u = np.linspace(x2.min(), x2.max(), 300)\n",
    "plt.plot(x2,y, \"o\", alpha=0.1)\n",
    "plt.plot(u, kreg.predict(u[:, np.newaxis]))\n",
    "plt.savefig(\"kernel_smoothed_alpha.png\", bbox_inches='tight', dpi=300)"
   ]
  },
  {
   "cell_type": "code",
   "execution_count": null,
   "metadata": {
    "ExecuteTime": {
     "end_time": "2018-02-13T02:00:56.412853Z",
     "start_time": "2018-02-13T02:00:55.591674Z"
    }
   },
   "outputs": [],
   "source": [
    "u = np.linspace(x2.min()-1, x2.max()+1, 300)\n",
    "z = sp.stats.norm.pdf(u-2, scale=0.4)\n",
    "plt.plot(x2,y, \"o\", alpha=0.1)\n",
    "plt.plot(u, kreg.predict(u[:, np.newaxis]))\n",
    "plt.plot(u, sp.stats.norm.pdf(u-2, scale=0.4)*3, label=r\"Gaussian\", color=[0.5,1.0,.5])\n",
    "plt.plot([2],[0], 'xk')\n",
    "plt.savefig(\"kernel_smoothed_alpha2.png\", bbox_inches='tight', dpi=300)"
   ]
  },
  {
   "cell_type": "code",
   "execution_count": null,
   "metadata": {
    "ExecuteTime": {
     "end_time": "2018-02-13T02:14:35.612855Z",
     "start_time": "2018-02-13T02:14:34.243308Z"
    }
   },
   "outputs": [],
   "source": [
    "u = np.linspace(x2.min()-1, x2.max()+1, 300)\n",
    "colors = np.zeros((len(x2), 4))\n",
    "colors[:,3] = np.min([(sp.stats.norm.pdf(x2-2, scale=0.4))/4 + 0.01, np.ones(y.shape)-0.2], axis=0)\n",
    "colors[:,2] = 0.8\n",
    "plt.scatter(x2,y, color=colors)\n",
    "plt.plot(u, kreg.predict(u[:, np.newaxis]))\n",
    "plt.plot(u, sp.stats.norm.pdf(u-2, scale=0.4)*3, label=r\"Gaussian\", color=[0.5,1.0,.5])\n",
    "plt.plot([2],[0], 'xk')\n",
    "plt.savefig(\"kernel_smoothed_alpha2.png\", bbox_inches='tight', dpi=300)"
   ]
  },
  {
   "cell_type": "code",
   "execution_count": null,
   "metadata": {},
   "outputs": [],
   "source": []
  }
 ],
 "metadata": {
  "kernelspec": {
   "display_name": "Python 3",
   "language": "python",
   "name": "python3"
  },
  "language_info": {
   "codemirror_mode": {
    "name": "ipython",
    "version": 3
   },
   "file_extension": ".py",
   "mimetype": "text/x-python",
   "name": "python",
   "nbconvert_exporter": "python",
   "pygments_lexer": "ipython3",
   "version": "3.6.4"
  }
 },
 "nbformat": 4,
 "nbformat_minor": 2
}
