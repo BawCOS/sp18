{
 "cells": [
  {
   "cell_type": "markdown",
   "metadata": {},
   "source": [
    "# Working With JSON\n",
    "\n",
    "In this notebook we review some basic python functionality for working with JSON data. \n",
    "\n",
    "Python includes a [`json` library](https://docs.python.org/3/library/json.html) which provides basic JSON functionality:\n"
   ]
  },
  {
   "cell_type": "code",
   "execution_count": null,
   "metadata": {
    "ExecuteTime": {
     "end_time": "2018-02-13T04:31:48.553284Z",
     "start_time": "2018-02-13T04:31:48.549142Z"
    }
   },
   "outputs": [],
   "source": [
    "import json"
   ]
  },
  {
   "cell_type": "markdown",
   "metadata": {},
   "source": [
    "## Define a Python Object\n",
    "\n",
    "In the following we create a python list and then save that dictionary as JSON:"
   ]
  },
  {
   "cell_type": "code",
   "execution_count": null,
   "metadata": {
    "ExecuteTime": {
     "end_time": "2018-02-13T04:32:35.119818Z",
     "start_time": "2018-02-13T04:32:35.111354Z"
    }
   },
   "outputs": [],
   "source": [
    "data = [\n",
    "  {\n",
    "    \"Prof\": \"Gonzalez\",\n",
    "    \"Classes\": [\n",
    "      \"CS186\", \n",
    "      { \"Name\": \"Data100\", \"Year\": [2017,2018] }\n",
    "    ],\n",
    "    \"Tenured\": False\n",
    "  },\n",
    "  {\n",
    "    \"Prof\": \"Nolan\",\n",
    "    \"Classes\": [\n",
    "      \"Stat133\", \"Stat153\", \"Stat198\", \"Data100\"\n",
    "    ],\n",
    "    \"Tenured\": True\n",
    "  }\n",
    "]\n",
    "data"
   ]
  },
  {
   "cell_type": "markdown",
   "metadata": {},
   "source": [
    "## Saving a Python Object as a JSON String"
   ]
  },
  {
   "cell_type": "code",
   "execution_count": null,
   "metadata": {
    "ExecuteTime": {
     "end_time": "2018-02-13T04:32:41.392183Z",
     "start_time": "2018-02-13T04:32:41.388623Z"
    }
   },
   "outputs": [],
   "source": [
    "json_str = json.dumps(data, indent=2)\n",
    "print(json_str)"
   ]
  },
  {
   "cell_type": "markdown",
   "metadata": {},
   "source": [
    "## Saving a Python Object as JSON file"
   ]
  },
  {
   "cell_type": "code",
   "execution_count": null,
   "metadata": {
    "ExecuteTime": {
     "end_time": "2018-02-13T04:33:57.017077Z",
     "start_time": "2018-02-13T04:33:57.013050Z"
    }
   },
   "outputs": [],
   "source": [
    "with open(\"bla.json\", \"w\") as f:\n",
    "    json.dump(data, f, indent=2)"
   ]
  },
  {
   "cell_type": "code",
   "execution_count": null,
   "metadata": {
    "ExecuteTime": {
     "end_time": "2018-02-13T04:33:45.147063Z",
     "start_time": "2018-02-13T04:33:45.141646Z"
    }
   },
   "outputs": [],
   "source": [
    "from utils import head\n",
    "head(\"bla.json\", lines=100)"
   ]
  },
  {
   "cell_type": "markdown",
   "metadata": {},
   "source": [
    "## Loading a JSON Object from a String"
   ]
  },
  {
   "cell_type": "code",
   "execution_count": null,
   "metadata": {
    "ExecuteTime": {
     "end_time": "2018-02-13T04:34:04.013355Z",
     "start_time": "2018-02-13T04:34:04.008922Z"
    }
   },
   "outputs": [],
   "source": [
    "obj = json.loads(json_str)\n",
    "obj"
   ]
  },
  {
   "cell_type": "markdown",
   "metadata": {},
   "source": [
    "## Loading a JSON Object from a File"
   ]
  },
  {
   "cell_type": "code",
   "execution_count": null,
   "metadata": {
    "ExecuteTime": {
     "end_time": "2018-02-13T04:34:07.100260Z",
     "start_time": "2018-02-13T04:34:07.094662Z"
    }
   },
   "outputs": [],
   "source": [
    "with open(\"bla.json\", \"r\") as f:\n",
    "    obj = json.load(f)\n",
    "    \n",
    "obj"
   ]
  },
  {
   "cell_type": "markdown",
   "metadata": {},
   "source": [
    "## Traversing a Python/JSON Object"
   ]
  },
  {
   "cell_type": "code",
   "execution_count": null,
   "metadata": {
    "ExecuteTime": {
     "end_time": "2018-02-13T04:34:14.431722Z",
     "start_time": "2018-02-13T04:34:14.427844Z"
    }
   },
   "outputs": [],
   "source": [
    "type(obj)"
   ]
  },
  {
   "cell_type": "code",
   "execution_count": null,
   "metadata": {
    "ExecuteTime": {
     "end_time": "2018-02-13T04:34:15.137403Z",
     "start_time": "2018-02-13T04:34:15.133682Z"
    }
   },
   "outputs": [],
   "source": [
    "len(obj)"
   ]
  },
  {
   "cell_type": "code",
   "execution_count": null,
   "metadata": {
    "ExecuteTime": {
     "end_time": "2018-02-13T04:34:15.760152Z",
     "start_time": "2018-02-13T04:34:15.757379Z"
    }
   },
   "outputs": [],
   "source": [
    "first_obj = obj[0]"
   ]
  },
  {
   "cell_type": "code",
   "execution_count": null,
   "metadata": {
    "ExecuteTime": {
     "end_time": "2018-02-13T04:34:16.958671Z",
     "start_time": "2018-02-13T04:34:16.954624Z"
    }
   },
   "outputs": [],
   "source": [
    "first_obj.keys()"
   ]
  },
  {
   "cell_type": "markdown",
   "metadata": {},
   "source": [
    "## Building a DataFrame\n"
   ]
  },
  {
   "cell_type": "markdown",
   "metadata": {},
   "source": [
    "We could build the dataframe by constructing one field at a time:"
   ]
  },
  {
   "cell_type": "code",
   "execution_count": null,
   "metadata": {
    "ExecuteTime": {
     "end_time": "2018-02-13T04:34:20.200110Z",
     "start_time": "2018-02-13T04:34:19.550773Z"
    }
   },
   "outputs": [],
   "source": [
    "import pandas as pd\n",
    "df = pd.DataFrame()\n",
    "df['Names'] = [p['Prof'] for p in obj]\n",
    "df['Tenured'] = [p['Tenured'] for p in obj]\n",
    "df"
   ]
  },
  {
   "cell_type": "markdown",
   "metadata": {},
   "source": [
    "Notice things get tricky with irregular nesting ..."
   ]
  },
  {
   "cell_type": "code",
   "execution_count": null,
   "metadata": {
    "ExecuteTime": {
     "end_time": "2018-02-13T04:34:23.986751Z",
     "start_time": "2018-02-13T04:34:23.972523Z"
    }
   },
   "outputs": [],
   "source": [
    "import pandas as pd\n",
    "df = pd.DataFrame()\n",
    "df['Names'] = [p['Prof'] for p in obj]\n",
    "df['Tenured'] = [p['Tenured'] for p in obj]\n",
    "df['Classes'] = [p['Classes'] for p in obj]\n",
    "df"
   ]
  },
  {
   "cell_type": "markdown",
   "metadata": {},
   "source": [
    "### Pandas from Object List"
   ]
  },
  {
   "cell_type": "code",
   "execution_count": null,
   "metadata": {
    "ExecuteTime": {
     "end_time": "2018-02-13T04:34:26.681852Z",
     "start_time": "2018-02-13T04:34:26.668525Z"
    }
   },
   "outputs": [],
   "source": [
    "pd.DataFrame(obj)"
   ]
  }
 ],
 "metadata": {
  "kernelspec": {
   "display_name": "Python 3",
   "language": "python",
   "name": "python3"
  },
  "language_info": {
   "codemirror_mode": {
    "name": "ipython",
    "version": 3
   },
   "file_extension": ".py",
   "mimetype": "text/x-python",
   "name": "python",
   "nbconvert_exporter": "python",
   "pygments_lexer": "ipython3",
   "version": "3.6.4"
  }
 },
 "nbformat": 4,
 "nbformat_minor": 2
}
