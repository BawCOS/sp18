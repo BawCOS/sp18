{
 "cells": [
  {
   "cell_type": "markdown",
   "metadata": {},
   "source": [
    "Before you turn this assignment in, make sure everything runs as expected. First, **restart the kernel** (in the menubar, select Kernel$\\rightarrow$Restart) and then **run all cells** (in the menubar, select Cell$\\rightarrow$Run All). Lastly, hit **Validate**.\n",
    "\n",
    "If you worked locally, and then uploaded your work to the hub, make sure to follow these steps:\n",
    "- open your uploaded notebook **on the hub**\n",
    "- hit the validate button right above this cell, from inside the notebook\n",
    "\n",
    "These  steps should solve any issue related to submitting the notebook on the hub.\n",
    "\n",
    "Make sure you fill in any place that says `YOUR CODE HERE` or \"YOUR ANSWER HERE\", as well as your name and collaborators below:"
   ]
  },
  {
   "cell_type": "code",
   "execution_count": null,
   "metadata": {},
   "outputs": [],
   "source": [
    "NAME = \"\"\n",
    "COLLABORATORS = \"\""
   ]
  },
  {
   "cell_type": "markdown",
   "metadata": {},
   "source": [
    "---"
   ]
  },
  {
   "cell_type": "markdown",
   "metadata": {
    "deletable": false,
    "editable": false,
    "nbgrader": {
     "cell_type": "markdown",
     "checksum": "e1c3eaedde27181416399bce43e75fe3",
     "grade": false,
     "grade_id": "intro",
     "locked": true,
     "schema_version": 2,
     "solution": false
    }
   },
   "source": [
    "# Lab 4: Plotting, smoothing, transformation\n",
    "\n",
    "## Course Policies\n",
    "\n",
    "Here are some important course policies. These are also located at\n",
    "http://www.ds100.org/sp18/.\n",
    "\n",
    "**Collaboration Policy**\n",
    "\n",
    "Data science is a collaborative activity. While you may talk with others about\n",
    "the homework, we ask that you **write your solutions individually**. If you do\n",
    "discuss the assignments with others please **include their names** at the top\n",
    "of your solution.\n",
    "\n",
    "\n",
    "## Due Date\n",
    "\n",
    "This assignment is due at 11:59pm Monday, February 12th. Instructions for submission are on the website."
   ]
  },
  {
   "cell_type": "code",
   "execution_count": null,
   "metadata": {
    "_cell_guid": "33c63379-d85b-4638-8183-d008fdb96de7",
    "_uuid": "7ad7f9f24df7dba8ac92d234890835f6b9970834",
    "deletable": false,
    "editable": false,
    "nbgrader": {
     "cell_type": "code",
     "checksum": "156b2e89367ef851ad679339f0a42731",
     "grade": false,
     "grade_id": "imports",
     "locked": true,
     "schema_version": 2,
     "solution": false
    }
   },
   "outputs": [],
   "source": [
    "import pandas as pd\n",
    "import numpy as np\n",
    "import seaborn as sns\n",
    "import matplotlib.pyplot as plt\n",
    "import zipfile\n",
    "\n",
    "plt.style.use('fivethirtyeight') # Use plt.style.available to see more styles\n",
    "sns.set()\n",
    "sns.set_context(\"talk\")\n",
    "%matplotlib inline"
   ]
  },
  {
   "cell_type": "markdown",
   "metadata": {
    "deletable": false,
    "editable": false,
    "nbgrader": {
     "cell_type": "markdown",
     "checksum": "0cd2ff99d4309dfa4fffb3186b51044a",
     "grade": false,
     "grade_id": "objectives",
     "locked": true,
     "schema_version": 2,
     "solution": false
    }
   },
   "source": [
    "## Objectives for Lab 4:\n",
    "\n",
    "In this lab you will get some practice plotting, applying data transformations, and working with kernel density estimators.  We will be working with data from the world bank containing various statistics for countries and territories around the world.  "
   ]
  },
  {
   "cell_type": "markdown",
   "metadata": {
    "deletable": false,
    "editable": false,
    "nbgrader": {
     "cell_type": "markdown",
     "checksum": "89812861087ffb85c28568b77753abc7",
     "grade": false,
     "grade_id": "q0",
     "locked": true,
     "schema_version": 2,
     "solution": false
    }
   },
   "source": [
    "## Question 0\n",
    "\n",
    "We will again need the `fetch_and_cache` utility.\n",
    "Import it from `utils.py` (attached with this assignment) or redefine it below."
   ]
  },
  {
   "cell_type": "code",
   "execution_count": null,
   "metadata": {
    "deletable": false,
    "nbgrader": {
     "cell_type": "code",
     "checksum": "443ca436dccb2df7607762e65fcbe020",
     "grade": false,
     "grade_id": "q0-answer",
     "locked": false,
     "schema_version": 2,
     "solution": true
    }
   },
   "outputs": [],
   "source": [
    "# Import or redefine the function below\n",
    "\n",
    "# YOUR CODE HERE\n",
    "raise NotImplementedError()"
   ]
  },
  {
   "cell_type": "code",
   "execution_count": null,
   "metadata": {
    "deletable": false,
    "editable": false,
    "nbgrader": {
     "cell_type": "code",
     "checksum": "cbb8d6fa3f08dd69025d5b916303b50d",
     "grade": true,
     "grade_id": "q0-tests",
     "locked": true,
     "points": 1,
     "schema_version": 2,
     "solution": false
    }
   },
   "outputs": [],
   "source": [
    "# This checks whether you imported/defined fetch_and_cache\n",
    "import types\n",
    "assert type(fetch_and_cache) == types.FunctionType"
   ]
  },
  {
   "cell_type": "code",
   "execution_count": null,
   "metadata": {
    "deletable": false,
    "editable": false,
    "nbgrader": {
     "cell_type": "code",
     "checksum": "4242a3aa0d35f6f3ad76750334e54bea",
     "grade": false,
     "grade_id": "download-code-1",
     "locked": true,
     "schema_version": 2,
     "solution": false
    }
   },
   "outputs": [],
   "source": [
    "data_url = 'http://www.ds100.org/sp18/assets/datasets/lab04_data.zip'\n",
    "file_name = 'lab04_data.zip'\n",
    "\n",
    "dest_path = fetch_and_cache(data_url=data_url, file=file_name)\n",
    "print(f'Located at {dest_path}')"
   ]
  },
  {
   "cell_type": "markdown",
   "metadata": {
    "deletable": false,
    "editable": false,
    "nbgrader": {
     "cell_type": "markdown",
     "checksum": "044a257f9fbe5341adef7caac4ba660a",
     "grade": false,
     "grade_id": "download-info-1",
     "locked": true,
     "schema_version": 2,
     "solution": false
    }
   },
   "source": [
    "Here, the ZIP archive contains a data folder with a few files in it. This is similar to what you had in lab 3.\n",
    "\n",
    "To get the CSV files we want to work with, directly extract the data folder in the zip archive in the **current working directory**, which is denoted with the `.` in the cell below."
   ]
  },
  {
   "cell_type": "code",
   "execution_count": null,
   "metadata": {
    "deletable": false,
    "editable": false,
    "nbgrader": {
     "cell_type": "code",
     "checksum": "64185c54d955dd94a7a25a6ecab0d34b",
     "grade": false,
     "grade_id": "download-code-2",
     "locked": true,
     "schema_version": 2,
     "solution": false
    }
   },
   "outputs": [],
   "source": [
    "my_zip = zipfile.ZipFile(dest_path, 'r')\n",
    "# Note the '.' argument\n",
    "my_zip.extractall('.')"
   ]
  },
  {
   "cell_type": "markdown",
   "metadata": {
    "deletable": false,
    "editable": false,
    "nbgrader": {
     "cell_type": "markdown",
     "checksum": "1dbc57523b44b74536da65e26def839a",
     "grade": false,
     "grade_id": "download-info-2",
     "locked": true,
     "schema_version": 2,
     "solution": false
    }
   },
   "source": [
    "Now, let us load some world bank data into a pandas.DataFrame object named ```wb```."
   ]
  },
  {
   "cell_type": "code",
   "execution_count": null,
   "metadata": {
    "deletable": false,
    "editable": false,
    "nbgrader": {
     "cell_type": "code",
     "checksum": "30cd7f94b3a44b92f1b7903514bfac24",
     "grade": false,
     "grade_id": "data",
     "locked": true,
     "schema_version": 2,
     "solution": false
    }
   },
   "outputs": [],
   "source": [
    "wb = pd.read_csv(\"data/world_bank_misc.csv\", index_col=0)\n",
    "wb.head()"
   ]
  },
  {
   "cell_type": "markdown",
   "metadata": {
    "deletable": false,
    "editable": false,
    "nbgrader": {
     "cell_type": "markdown",
     "checksum": "e7dd75fcce2042db41fd4048c16cdc3d",
     "grade": false,
     "grade_id": "explore-cols",
     "locked": true,
     "schema_version": 2,
     "solution": false
    }
   },
   "source": [
    "This table contains some interesting columns.  Take a look:"
   ]
  },
  {
   "cell_type": "code",
   "execution_count": null,
   "metadata": {
    "deletable": false,
    "editable": false,
    "nbgrader": {
     "cell_type": "code",
     "checksum": "edec959455e93b39c1aed76c6da033ab",
     "grade": false,
     "grade_id": "explore-cols-code",
     "locked": true,
     "schema_version": 2,
     "solution": false
    }
   },
   "outputs": [],
   "source": [
    "list(wb.columns)"
   ]
  },
  {
   "cell_type": "markdown",
   "metadata": {
    "deletable": false,
    "editable": false,
    "nbgrader": {
     "cell_type": "markdown",
     "checksum": "ee4ca9e13d97fc509b24d8ad2c196939",
     "grade": false,
     "grade_id": "part1",
     "locked": true,
     "schema_version": 2,
     "solution": false
    }
   },
   "source": [
    "# Part 1: Scaling\n",
    "\n",
    "In the first part of this assignment we will be scaling the data to linearize visualizations.\n"
   ]
  },
  {
   "cell_type": "markdown",
   "metadata": {
    "deletable": false,
    "editable": false,
    "nbgrader": {
     "cell_type": "markdown",
     "checksum": "a435f7cb875648889df277fc11c6efd9",
     "grade": false,
     "grade_id": "q1",
     "locked": true,
     "schema_version": 2,
     "solution": false
    }
   },
   "source": [
    "## Question 1:\n",
    "\n",
    "Extract the fields corresponding to the **adult literacy rate in Female ages 15 and older for 2005-14** and the **gross national income per capita (atlas method)** into a new dataframe.  Then drop any rows that are missing values."
   ]
  },
  {
   "cell_type": "code",
   "execution_count": null,
   "metadata": {
    "deletable": false,
    "nbgrader": {
     "cell_type": "code",
     "checksum": "624dd689a2a213f25e59967a1d36bfc3",
     "grade": false,
     "grade_id": "q1-answer",
     "locked": false,
     "schema_version": 2,
     "solution": true
    },
    "tags": [
     "student"
    ]
   },
   "outputs": [],
   "source": [
    "df = pd.DataFrame(index=wb.index)\n",
    "df['lit'] = ...\n",
    "df['inc'] = ...\n",
    "\n",
    "# YOUR CODE HERE\n",
    "raise NotImplementedError()\n",
    "\n",
    "df.dropna(inplace=True)\n",
    "print(\"Original records:\", len(wb))\n",
    "print(\"Final records:\", len(df))"
   ]
  },
  {
   "cell_type": "code",
   "execution_count": null,
   "metadata": {
    "deletable": false,
    "editable": false,
    "nbgrader": {
     "cell_type": "code",
     "checksum": "31081cbecf4cbe0be7c03ca42585f33b",
     "grade": true,
     "grade_id": "q1-tests",
     "locked": true,
     "points": 1,
     "schema_version": 2,
     "solution": false
    }
   },
   "outputs": [],
   "source": [
    "assert np.isclose(df['lit'].mean(),78.435, rtol=0.01)\n",
    "assert np.isclose(df['inc'].mean(),7919.251, rtol=0.01)"
   ]
  },
  {
   "cell_type": "markdown",
   "metadata": {
    "deletable": false,
    "editable": false,
    "nbgrader": {
     "cell_type": "markdown",
     "checksum": "25b643cfdb76cf26f6401e24d5811133",
     "grade": false,
     "grade_id": "q2a",
     "locked": true,
     "schema_version": 2,
     "solution": false
    }
   },
   "source": [
    "## Question 2a:\n",
    "\n",
    "Use the seaborn `distplot` tool to construct histograms for the adult literacy data and the income data:"
   ]
  },
  {
   "cell_type": "code",
   "execution_count": null,
   "metadata": {
    "deletable": false,
    "nbgrader": {
     "cell_type": "code",
     "checksum": "b0290b5e8588d2d2f2393feee6237117",
     "grade": true,
     "grade_id": "q2a-answer",
     "locked": false,
     "points": 1,
     "schema_version": 2,
     "solution": true
    },
    "tags": [
     "student"
    ]
   },
   "outputs": [],
   "source": [
    "plt.figure(figsize=(15,5))\n",
    "\n",
    "plt.subplot(1,2,1)\n",
    "# Make plot here\n",
    "\n",
    "# YOUR CODE HERE\n",
    "raise NotImplementedError()\n",
    "\n",
    "plt.xlabel(\"Adult literacy rate: Female: % ages 15 and older: 2005-14\")\n",
    "\n",
    "\n",
    "\n",
    "plt.subplot(1,2,2)\n",
    "# Make plot here\n",
    "\n",
    "# YOUR CODE HERE\n",
    "raise NotImplementedError()\n",
    "\n",
    "plt.xlabel('Gross national income per capita, Atlas method: $: 2016')\n"
   ]
  },
  {
   "cell_type": "markdown",
   "metadata": {
    "deletable": false,
    "editable": false,
    "nbgrader": {
     "cell_type": "markdown",
     "checksum": "be12db7aa8073cc0bc4ce713cb8b284d",
     "grade": false,
     "grade_id": "q2b",
     "locked": true,
     "schema_version": 2,
     "solution": false
    }
   },
   "source": [
    "## Question 2b\n",
    "\n",
    "One of the above plots could benefit from a log transformation.  Which one?"
   ]
  },
  {
   "cell_type": "code",
   "execution_count": null,
   "metadata": {
    "deletable": false,
    "nbgrader": {
     "cell_type": "code",
     "checksum": "bab31d7fae51937ca887c2cb3ed41460",
     "grade": false,
     "grade_id": "q2b-answer",
     "locked": false,
     "schema_version": 2,
     "solution": true
    },
    "tags": [
     "student"
    ]
   },
   "outputs": [],
   "source": [
    "needs_log_transformation = ... # answer \"lit\" or \"inc\" here\n",
    "\n",
    "# YOUR CODE HERE\n",
    "raise NotImplementedError()"
   ]
  },
  {
   "cell_type": "code",
   "execution_count": null,
   "metadata": {
    "deletable": false,
    "editable": false,
    "nbgrader": {
     "cell_type": "code",
     "checksum": "8b5085a0e3892b4096259cc39abd2a1b",
     "grade": true,
     "grade_id": "q2b-tests",
     "locked": true,
     "points": 1,
     "schema_version": 2,
     "solution": false
    },
    "tags": [
     "test",
     "q02b"
    ]
   },
   "outputs": [],
   "source": [
    "# Do not modify this cell"
   ]
  },
  {
   "cell_type": "markdown",
   "metadata": {
    "deletable": false,
    "editable": false,
    "nbgrader": {
     "cell_type": "markdown",
     "checksum": "b4fade626bbf22898552cb68874dcc47",
     "grade": false,
     "grade_id": "q2c",
     "locked": true,
     "schema_version": 2,
     "solution": false
    }
   },
   "source": [
    "## Question 2c\n",
    "\n",
    "Remake the appropriate plot with the data transformed using `log10`. Be sure to correct the axis label:"
   ]
  },
  {
   "cell_type": "code",
   "execution_count": null,
   "metadata": {
    "deletable": false,
    "nbgrader": {
     "cell_type": "code",
     "checksum": "36e23a8bb2bda376009de0dbbb8fd3c0",
     "grade": true,
     "grade_id": "q2c-answer",
     "locked": false,
     "points": 1,
     "schema_version": 2,
     "solution": true
    },
    "tags": [
     "student"
    ]
   },
   "outputs": [],
   "source": [
    "plt.figure()\n",
    "...\n",
    "\n",
    "# YOUR CODE HERE\n",
    "raise NotImplementedError()"
   ]
  },
  {
   "cell_type": "markdown",
   "metadata": {
    "deletable": false,
    "editable": false,
    "nbgrader": {
     "cell_type": "markdown",
     "checksum": "a3c9ea45b0dd1665ad1c59c525aa99a7",
     "grade": false,
     "grade_id": "part2",
     "locked": true,
     "schema_version": 2,
     "solution": false
    }
   },
   "source": [
    "# Part 2: Kernel Density Estimation\n",
    "\n",
    "In this part of the lab you will implement a kernel density estimator.\n"
   ]
  },
  {
   "cell_type": "markdown",
   "metadata": {
    "deletable": false,
    "editable": false,
    "nbgrader": {
     "cell_type": "markdown",
     "checksum": "977e905504f04cf6053e4c4e9aa6adac",
     "grade": false,
     "grade_id": "part2formula",
     "locked": true,
     "schema_version": 2,
     "solution": false
    }
   },
   "source": [
    "Let's implement our own version of the KDE plot above.  Below we give you the Guassian Kernel function\n",
    "\n",
    "$$\\Large\n",
    "K_\\alpha(x, z) = \\frac{1}{\\sqrt{2 \\pi \\alpha^2}} \\exp\\left(-\\frac{(x - z)^2}{2  \\alpha ^2} \\right)\n",
    "$$"
   ]
  },
  {
   "cell_type": "code",
   "execution_count": null,
   "metadata": {
    "deletable": false,
    "editable": false,
    "nbgrader": {
     "cell_type": "code",
     "checksum": "aec290c9d3dcba219f5dbba684328ea6",
     "grade": false,
     "grade_id": "gaussian-kernel",
     "locked": true,
     "schema_version": 2,
     "solution": false
    }
   },
   "outputs": [],
   "source": [
    "def gaussian_kernel(alpha, x, z):\n",
    "    return 1.0/np.sqrt(2. * np.pi * alpha**2) * np.exp(-(x - z) ** 2 / (2.0 * alpha**2))"
   ]
  },
  {
   "cell_type": "markdown",
   "metadata": {
    "deletable": false,
    "editable": false,
    "nbgrader": {
     "cell_type": "markdown",
     "checksum": "32d6979c636520909c5e02a5ee727773",
     "grade": false,
     "grade_id": "q3a",
     "locked": true,
     "schema_version": 2,
     "solution": false
    }
   },
   "source": [
    "## Question 3a\n",
    "Implement the KDE function which computes:\n",
    "\n",
    "$$\\Large\n",
    "f_\\alpha(x) = \\frac{1}{n} \\sum_{i=1}^n K_\\alpha(x, z_i)\n",
    "$$\n",
    "\n",
    "Where $z_i$ are the data and $\\alpha$ is a parameter to control the smoothness"
   ]
  },
  {
   "cell_type": "code",
   "execution_count": null,
   "metadata": {
    "deletable": false,
    "nbgrader": {
     "cell_type": "code",
     "checksum": "66645994cc24ed0fcdc55ac817c4b6e7",
     "grade": false,
     "grade_id": "q3a-answer",
     "locked": false,
     "schema_version": 2,
     "solution": true
    },
    "tags": [
     "student"
    ]
   },
   "outputs": [],
   "source": [
    "def kde(kernel, alpha, x, data):\n",
    "    \"\"\"\n",
    "    Compute the kernel density estimate for the single query point x.\n",
    "\n",
    "    Args:\n",
    "        kernel: a kernel function with 3 parameters: alpha, x, data\n",
    "        alpha: the smoothing parameter to pass to the kernel\n",
    "        x: a single query point (in one dimension)\n",
    "        data: a numpy array of data points\n",
    "\n",
    "    Returns:\n",
    "        The smoothed estimate at the query point x\n",
    "    \"\"\"\n",
    "    ...\n",
    "    \n",
    "    # YOUR CODE HERE\n",
    "    raise NotImplementedError()"
   ]
  },
  {
   "cell_type": "code",
   "execution_count": null,
   "metadata": {
    "deletable": false,
    "editable": false,
    "nbgrader": {
     "cell_type": "code",
     "checksum": "be92ab45131cb0a5df013a72ecef042d",
     "grade": true,
     "grade_id": "q3a-tests",
     "locked": true,
     "points": 1,
     "schema_version": 2,
     "solution": false
    },
    "tags": [
     "test",
     "q04a"
    ]
   },
   "outputs": [],
   "source": [
    "assert np.isclose(kde(gaussian_kernel, 1.0, 2.0, np.array([3.0, 4.0, 5.0, 7.0])), 0.075099)"
   ]
  },
  {
   "cell_type": "markdown",
   "metadata": {
    "deletable": false,
    "editable": false,
    "nbgrader": {
     "cell_type": "markdown",
     "checksum": "900aa6592bb9a64866a32a2a10eee5ed",
     "grade": false,
     "grade_id": "q3b",
     "locked": true,
     "schema_version": 2,
     "solution": false
    }
   },
   "source": [
    "## Question 3b\n",
    "Create two new columns `trans_lit` and `trans_inc` that transform the `lit` and `inc` columns using `log10`. This should be similar to what you did in Question 2c.\n"
   ]
  },
  {
   "cell_type": "code",
   "execution_count": null,
   "metadata": {
    "deletable": false,
    "nbgrader": {
     "cell_type": "code",
     "checksum": "2d166eb6469ce4742ad5843e8345354a",
     "grade": false,
     "grade_id": "q3b-answer",
     "locked": false,
     "schema_version": 2,
     "solution": true
    }
   },
   "outputs": [],
   "source": [
    "df['trans_lit'] = df['lit'] # Change me\n",
    "df['trans_inc'] = df['inc'] # Change me\n",
    "\n",
    "# YOUR CODE HERE\n",
    "raise NotImplementedError()"
   ]
  },
  {
   "cell_type": "code",
   "execution_count": null,
   "metadata": {
    "deletable": false,
    "editable": false,
    "nbgrader": {
     "cell_type": "code",
     "checksum": "7be1a71ea2e69a6b8bd18d90edcd4aee",
     "grade": true,
     "grade_id": "q3b-tests",
     "locked": true,
     "points": 0,
     "schema_version": 2,
     "solution": false
    }
   },
   "outputs": [],
   "source": [
    "assert np.isclose(np.corrcoef(df['trans_lit'], df['trans_inc'])[0,1], 0.67196)"
   ]
  },
  {
   "cell_type": "markdown",
   "metadata": {
    "deletable": false,
    "editable": false,
    "nbgrader": {
     "cell_type": "markdown",
     "checksum": "e8c09753f138b74819ba71cbf6091cb6",
     "grade": false,
     "grade_id": "q3b-plot_instructions",
     "locked": true,
     "schema_version": 2,
     "solution": false
    }
   },
   "source": [
    "Now let's test your function to generate a plot. You may find the ```np.linspace``` function helpful when plotting the KDE curve."
   ]
  },
  {
   "cell_type": "code",
   "execution_count": null,
   "metadata": {
    "deletable": false,
    "editable": false,
    "nbgrader": {
     "cell_type": "code",
     "checksum": "cb8028258b9e1c2d13e43f88d0f237e6",
     "grade": false,
     "grade_id": "q3b-plot",
     "locked": true,
     "schema_version": 2,
     "solution": false
    }
   },
   "outputs": [],
   "source": [
    "alpha = 1.0\n",
    "xs = np.linspace(df['trans_inc'].min(), df['trans_inc'].max(), 1000)\n",
    "curve = [kde(gaussian_kernel, alpha, x, df['trans_inc']) for x in xs]\n",
    "plt.hist(df['trans_inc'], normed=True, color='orange')\n",
    "plt.plot(xs, curve, 'k-')"
   ]
  },
  {
   "cell_type": "markdown",
   "metadata": {
    "deletable": false,
    "editable": false,
    "nbgrader": {
     "cell_type": "markdown",
     "checksum": "d491767a00706fe148e1785182343f19",
     "grade": false,
     "grade_id": "q3c",
     "locked": true,
     "schema_version": 2,
     "solution": false
    }
   },
   "source": [
    "## Question 3c\n",
    "\n",
    "Let's see what happens as we vary alpha.  Plot alpha values in (0.2, 0.4, ..., 1.6, 1.8) on a 3x3 grid. Title each subplot with \"alpha = &lt;value&gt;\".\n",
    "\n",
    "Hint: Take a look at the `plt.subplot` function to help create the grid"
   ]
  },
  {
   "cell_type": "code",
   "execution_count": null,
   "metadata": {
    "deletable": false,
    "nbgrader": {
     "cell_type": "code",
     "checksum": "541823b6fd1477dd07308fa15a710974",
     "grade": true,
     "grade_id": "q3c-plots",
     "locked": false,
     "points": 1,
     "schema_version": 2,
     "solution": true
    },
    "tags": [
     "student"
    ]
   },
   "outputs": [],
   "source": [
    "plt.figure(figsize=(15,15))\n",
    "alphas = ...\n",
    "for i, alpha in enumerate(alphas):\n",
    "    ...\n",
    "    xs = np.linspace(df['trans_inc'].min(), df['trans_inc'].max(), 1000)\n",
    "    curve = [kde(gaussian_kernel, alpha, x, df['trans_inc']) for x in xs]\n",
    "    plt.hist(df['trans_inc'], normed=True, color='orange')\n",
    "    plt.plot(xs, curve, 'k-')\n",
    "plt.show()\n",
    "\n",
    "# YOUR CODE HERE\n",
    "raise NotImplementedError()"
   ]
  },
  {
   "cell_type": "markdown",
   "metadata": {
    "deletable": false,
    "editable": false,
    "nbgrader": {
     "cell_type": "markdown",
     "checksum": "59f73202e600d30c7518a306fce43c96",
     "grade": false,
     "grade_id": "q3c-question",
     "locked": true,
     "schema_version": 2,
     "solution": false
    }
   },
   "source": [
    "How does increasing alpha affect the curves? Explain any pattern/trend you see in the cell below. "
   ]
  },
  {
   "cell_type": "markdown",
   "metadata": {
    "deletable": false,
    "nbgrader": {
     "cell_type": "markdown",
     "checksum": "3dc7d8eb9678373a1b369eab00874589",
     "grade": true,
     "grade_id": "q3c-answer",
     "locked": false,
     "points": 1,
     "schema_version": 2,
     "solution": true
    }
   },
   "source": [
    "YOUR ANSWER HERE"
   ]
  },
  {
   "cell_type": "markdown",
   "metadata": {
    "deletable": false,
    "editable": false,
    "nbgrader": {
     "cell_type": "markdown",
     "checksum": "2f5c684b295377c5fcacebc06db7da52",
     "grade": false,
     "grade_id": "q3d",
     "locked": true,
     "schema_version": 2,
     "solution": false
    }
   },
   "source": [
    "## Question 3d\n",
    "\n",
    "We can also try other kernel functions such as the [boxcar kernel](https://en.wikipedia.org/wiki/Boxcar_function).\n"
   ]
  },
  {
   "cell_type": "code",
   "execution_count": null,
   "metadata": {
    "deletable": false,
    "editable": false,
    "nbgrader": {
     "cell_type": "code",
     "checksum": "3985048194a0cd105f47608b89feaa22",
     "grade": false,
     "grade_id": "q3d-function",
     "locked": true,
     "schema_version": 2,
     "solution": false
    }
   },
   "outputs": [],
   "source": [
    "def boxcar_kernel(alpha, x, z):\n",
    "    return (((x-z)>=-alpha/2)&((x-z)<=alpha/2))/alpha"
   ]
  },
  {
   "cell_type": "markdown",
   "metadata": {
    "deletable": false,
    "editable": false,
    "nbgrader": {
     "cell_type": "markdown",
     "checksum": "0450ace8914705a3e882b44410a746f2",
     "grade": false,
     "grade_id": "interact-instructions",
     "locked": true,
     "schema_version": 2,
     "solution": false
    }
   },
   "source": [
    "Run the cell below to enable interactive plots. It should give you a green 'OK' when it's finished."
   ]
  },
  {
   "cell_type": "code",
   "execution_count": null,
   "metadata": {
    "deletable": false,
    "editable": false,
    "nbgrader": {
     "cell_type": "code",
     "checksum": "8ea8b05c00c09e4154ed7a56d21f03b3",
     "grade": false,
     "grade_id": "interact-code",
     "locked": true,
     "schema_version": 2,
     "solution": false
    }
   },
   "outputs": [],
   "source": [
    "from ipywidgets import interact\n",
    "!jupyter nbextension enable --py widgetsnbextension"
   ]
  },
  {
   "cell_type": "markdown",
   "metadata": {
    "deletable": false,
    "editable": false,
    "nbgrader": {
     "cell_type": "markdown",
     "checksum": "7b12780917a7e354bbf1a48c9491bcc4",
     "grade": false,
     "grade_id": "q3d-plot_instructions",
     "locked": true,
     "schema_version": 2,
     "solution": false
    }
   },
   "source": [
    "Now, we can plot the kernel function to see what it looks like."
   ]
  },
  {
   "cell_type": "code",
   "execution_count": null,
   "metadata": {
    "deletable": false,
    "editable": false,
    "nbgrader": {
     "cell_type": "code",
     "checksum": "fe88cc330661b001d7365d6b0c3cf457",
     "grade": false,
     "grade_id": "q3d-plot",
     "locked": true,
     "schema_version": 2,
     "solution": false
    }
   },
   "outputs": [],
   "source": [
    "x = np.linspace(-10,10,1000)\n",
    "def f(alpha):\n",
    "    plt.plot(x, boxcar_kernel(alpha,x,0), label='Boxcar')\n",
    "    plt.plot(x, gaussian_kernel(alpha,x,0), label='Gaussian')\n",
    "    plt.legend(title='Kernel Function')\n",
    "    plt.show()\n",
    "interact(f, alpha=(1,10,0.1))"
   ]
  },
  {
   "cell_type": "markdown",
   "metadata": {
    "deletable": false,
    "editable": false,
    "nbgrader": {
     "cell_type": "markdown",
     "checksum": "e011d9586aae75b0390687739e3c0da2",
     "grade": false,
     "grade_id": "q3d-interactive",
     "locked": true,
     "schema_version": 2,
     "solution": false
    }
   },
   "source": [
    "Using the interactive plot below compare the the two kernel techniques:  (Generating the KDE plot is slow, so you may expect some latency after you move the slider)"
   ]
  },
  {
   "cell_type": "code",
   "execution_count": null,
   "metadata": {
    "deletable": false,
    "editable": false,
    "nbgrader": {
     "cell_type": "code",
     "checksum": "034b66756e7d74eed369b5a1091c3573",
     "grade": false,
     "grade_id": "q3d-interactive_plot",
     "locked": true,
     "schema_version": 2,
     "solution": false
    }
   },
   "outputs": [],
   "source": [
    "xs = np.linspace(df['trans_inc'].min(), df['trans_inc'].max(), 1000)\n",
    "def f(alpha_g, alpha_b):\n",
    "    plt.hist(df['trans_inc'], normed=True, color='orange')\n",
    "    g_curve = [kde(gaussian_kernel, alpha_g, x, df['trans_inc']) for x in xs]\n",
    "    plt.plot(xs, g_curve, 'k-', label='Gaussian')\n",
    "    b_curve = [kde(boxcar_kernel, alpha_b, x, df['trans_inc']) for x in xs]\n",
    "    plt.plot(xs, b_curve, 'r-', label='Boxcar')\n",
    "    plt.legend(title='Kernel Function')\n",
    "    plt.show()\n",
    "interact(f, alpha_g=(0.01,.5,0.01), alpha_b=(0.01,3,0.1))"
   ]
  },
  {
   "cell_type": "markdown",
   "metadata": {
    "deletable": false,
    "editable": false,
    "nbgrader": {
     "cell_type": "markdown",
     "checksum": "6649b548bbd27bce795432cb6130142f",
     "grade": false,
     "grade_id": "q3d-question",
     "locked": true,
     "schema_version": 2,
     "solution": false
    }
   },
   "source": [
    "How is the boxcar kde plot comparing to previous plot using the gaussian kernel?"
   ]
  },
  {
   "cell_type": "markdown",
   "metadata": {
    "deletable": false,
    "nbgrader": {
     "cell_type": "markdown",
     "checksum": "9caf59e2ba87e02b82ba8b0b9fb8e8bf",
     "grade": true,
     "grade_id": "q3d-answer",
     "locked": false,
     "points": 1,
     "schema_version": 2,
     "solution": true
    }
   },
   "source": [
    "YOUR ANSWER HERE"
   ]
  },
  {
   "cell_type": "markdown",
   "metadata": {
    "deletable": false,
    "editable": false,
    "nbgrader": {
     "cell_type": "markdown",
     "checksum": "88c703e159b700b4a550efba889318f3",
     "grade": false,
     "grade_id": "finish",
     "locked": true,
     "schema_version": 2,
     "solution": false
    }
   },
   "source": [
    "**Congrats! You are finished with this assignment. Don't forget to validate & submit before 11:59PM!**"
   ]
  }
 ],
 "metadata": {
  "_change_revision": 0,
  "_is_fork": false,
  "kernelspec": {
   "display_name": "Python 3",
   "language": "python",
   "name": "python3"
  },
  "language_info": {
   "codemirror_mode": {
    "name": "ipython",
    "version": 3
   },
   "file_extension": ".py",
   "mimetype": "text/x-python",
   "name": "python",
   "nbconvert_exporter": "python",
   "pygments_lexer": "ipython3",
   "version": "3.6.4"
  }
 },
 "nbformat": 4,
 "nbformat_minor": 1
}
