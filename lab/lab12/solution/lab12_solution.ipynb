{
 "cells": [
  {
   "cell_type": "markdown",
   "metadata": {
    "nbgrader": {
     "grade": false,
     "grade_id": "lab12",
     "locked": true,
     "schema_version": 2,
     "solution": false
    }
   },
   "source": [
    "# Lab 12: Baby-Weights\n",
    "\n",
    "** This assignment is due 04/16/2018 at 11:59pm **\n",
    "\n",
    "In this lab, we investigate the connection between smoking during pregnancy and infant health using the `babies` dataset—observations for 1236 live male births containing information on the mother’s pre-pregnancy health and fetal growth. Specifically, we have information on the mother’s age, weight, height, smoking status, and prior pregnancies, as well as the length of the pregnancy and infant’s birthweight."
   ]
  },
  {
   "cell_type": "code",
   "execution_count": null,
   "metadata": {
    "nbgrader": {
     "grade": false,
     "grade_id": "imports",
     "locked": true,
     "schema_version": 2,
     "solution": false
    }
   },
   "outputs": [],
   "source": [
    "import pandas as pd\n",
    "import numpy as np\n",
    "import seaborn as sns\n",
    "sns.set(style = \"whitegrid\", \n",
    "        color_codes = True,\n",
    "        font_scale = 1.5)\n",
    "\n",
    "import matplotlib.pyplot as plt\n",
    "%matplotlib inline"
   ]
  },
  {
   "cell_type": "markdown",
   "metadata": {
    "nbgrader": {
     "grade": false,
     "grade_id": "part-1",
     "locked": true,
     "schema_version": 2,
     "solution": false
    }
   },
   "source": [
    "## Part 1: Exploring & Cleaning the Data\n",
    "\n",
    "In this part, we will examine the `babies` dataset and prepare it for model-fitting in Part 2. Most of the code has been provided for you.\n",
    "\n",
    "First, run the cell below to load the `babies` dataset into a DataFrame called `babies`."
   ]
  },
  {
   "cell_type": "code",
   "execution_count": null,
   "metadata": {
    "nbgrader": {
     "grade": false,
     "grade_id": "load-data",
     "locked": true,
     "schema_version": 2,
     "solution": false
    }
   },
   "outputs": [],
   "source": [
    "# load the data\n",
    "babies = pd.read_csv('data/babies.data', sep = r'\\s+')\n",
    "babies.head()"
   ]
  },
  {
   "cell_type": "markdown",
   "metadata": {
    "nbgrader": {
     "grade": false,
     "grade_id": "missing-vals",
     "locked": true,
     "schema_version": 2,
     "solution": false
    }
   },
   "source": [
    "Look closely at the 'gestation' column above, which represents the length of the mother's pregnancy in days. Do any particular values stand out?\n",
    "\n",
    "It turns out that some of the columns have entries '99' or '999' for data that is actually missing. To clear any confusion, run the cell below to replace all those missing entries with NaN values."
   ]
  },
  {
   "cell_type": "code",
   "execution_count": null,
   "metadata": {
    "nbgrader": {
     "grade": false,
     "grade_id": "missing-vals-code",
     "locked": true,
     "schema_version": 2,
     "solution": false
    }
   },
   "outputs": [],
   "source": [
    "# replace various missingness codes with NA\n",
    "# and categorical data with actual categories\n",
    "babies.replace({\"gestation\": {999 : np.nan},\n",
    "                \"age\"   : {99  : np.nan},\n",
    "                \"height\": {99  : np.nan},\n",
    "                \"weight\": {999 : np.nan},\n",
    "                \"smoke\" : {0   : \"non-smoker\",\n",
    "                           1   : \"smoker\",\n",
    "                           9   : np.nan},\n",
    "                \"parity\": {0   : \"not first child\",\n",
    "                           1   : \"first child\"}}, \n",
    "               inplace = True)\n",
    "\n",
    "babies.head()"
   ]
  },
  {
   "cell_type": "markdown",
   "metadata": {
    "nbgrader": {
     "grade": false,
     "grade_id": "eda",
     "locked": true,
     "schema_version": 2,
     "solution": false
    }
   },
   "source": [
    "Now that our data no longer has misleading values, let's visualize the data. Run the cell below to generate a violin plot, which compares the distributions of the babies' birth weights depending on four different categories. For each category, we split the dataset into 2 parts..."
   ]
  },
  {
   "cell_type": "code",
   "execution_count": null,
   "metadata": {
    "nbgrader": {
     "grade": false,
     "grade_id": "eda-code",
     "locked": true,
     "schema_version": 2,
     "solution": false
    }
   },
   "outputs": [],
   "source": [
    "# divide mothers by their covariates\n",
    "babies_by_category = babies \\\n",
    ".assign(smoker = (babies[\"smoke\"] == \"smoker\"),\n",
    "        heavy  = (babies[\"weight\"] > babies[\"weight\"].median()),\n",
    "        tall   = (babies[\"height\"] > babies[\"height\"].median()),\n",
    "        firstborn = (babies[\"parity\"] == \"first child\")) \\\n",
    ".loc[:, [\"bwt\", \"smoker\", \"heavy\", \"tall\", \"firstborn\"]] \\\n",
    ".rename(columns = {\"firstborn\": \"first-born\",\n",
    "                   \"bwt\" : \"birth-weight\"}) \n",
    "\n",
    "plt.figure(figsize = (9, 7))\n",
    "\n",
    "# compare birthweight distributions for each category\n",
    "sns.violinplot(x = \"variable\", \n",
    "               y = \"birth-weight\", \n",
    "               hue = \"value\", \n",
    "               data = babies_by_category.melt([\"birth-weight\"]).dropna(),\n",
    "               split = True,    \n",
    "               scale = \"count\", # scale each KDE by number of samples\n",
    "               inner = None)\n",
    "\n",
    "plt.title(\"Birth-Weight Distribution Comparison for Various Categories\")\n",
    "plt.xlabel(\"\")\n",
    "plt.ylabel(\"Birth-Weight (oz)\")\n",
    "plt.legend(title = \"\", loc = \"right\", bbox_to_anchor = (1.2, 0.5))\n",
    "plt.show()"
   ]
  },
  {
   "cell_type": "markdown",
   "metadata": {
    "nbgrader": {
     "grade": false,
     "grade_id": "q1",
     "locked": true,
     "schema_version": 2,
     "solution": false
    }
   },
   "source": [
    "### Question 1\n",
    "\n",
    "Pick a category above and write 1 sentence explaining the difference between the corresponding green (`category=True`) distribution and the blue (`category=False`) distribution. How do the distributions of baby birth weights differ based on whether or not the category is `True` or `False`?"
   ]
  },
  {
   "cell_type": "markdown",
   "metadata": {
    "nbgrader": {
     "grade": true,
     "grade_id": "q1-answer",
     "locked": false,
     "points": 0,
     "schema_version": 2,
     "solution": true
    }
   },
   "source": [
    "### BEGIN SOLUTION\n",
    "Mothers who smoke seem to give birth to lighter babies (on average) than mothers who do not smoke\n",
    "### END SOLUTION"
   ]
  },
  {
   "cell_type": "markdown",
   "metadata": {
    "nbgrader": {
     "grade": false,
     "grade_id": "part-2",
     "locked": true,
     "schema_version": 2,
     "solution": false
    }
   },
   "source": [
    "## Part 2: Fitting a Linear Model\n",
    "\n",
    "In this part, we will perform linear regression according to the model below in order to predict baby birth weights.\n",
    "\n",
    "$$\n",
    "\\texttt{birth-weight}_i\n",
    "= \\beta_0^* \n",
    "+ \\beta_\\texttt{gestation}^*\\cdot\\texttt{gestation}_i\n",
    "+ \\beta_\\texttt{smoke}^*\\cdot\\texttt{smoke}_i\n",
    "+ \\beta_\\texttt{height}^*\\cdot\\texttt{height}_i\n",
    "+ \\beta_\\texttt{weight}^*\\cdot\\texttt{weight}_i\n",
    "+ \\varepsilon_i\n",
    "$$\n",
    "\n",
    "To make the math easier and avoid any funky errors, run the cell below to drop all rows of `babies` with NaN values."
   ]
  },
  {
   "cell_type": "code",
   "execution_count": null,
   "metadata": {
    "nbgrader": {
     "grade": false,
     "grade_id": "dropna",
     "locked": true,
     "schema_version": 2,
     "solution": false
    }
   },
   "outputs": [],
   "source": [
    "babies = babies.dropna()"
   ]
  },
  {
   "cell_type": "markdown",
   "metadata": {
    "nbgrader": {
     "grade": false,
     "grade_id": "q2",
     "locked": true,
     "schema_version": 2,
     "solution": false
    }
   },
   "source": [
    "### Question 2\n",
    "\n",
    "Now, let's create a linear regression model to predict the babies' birth weights (`y`) given information about each baby's mother (`X`). \n",
    "\n",
    "#### Question 2a\n",
    "First, let's create `X` below.\n",
    "* `X` should contain columns 'gestation', 'smoke', 'height', and 'weight' from the `babies` data frame (**in that order**)\n",
    "* Notice that in order to fit a linear model to `X`, all of our columns in `X` must be numeric. When dealing with the `smoke` column, replace all 'smoker' entries with a 1, and all 'non-smoker' entries with a 0"
   ]
  },
  {
   "cell_type": "code",
   "execution_count": null,
   "metadata": {
    "nbgrader": {
     "grade": false,
     "grade_id": "q2a-answer",
     "locked": false,
     "schema_version": 2,
     "solution": true
    }
   },
   "outputs": [],
   "source": [
    "X = ...\n",
    "\n",
    "### BEGIN SOLUTION\n",
    "X = babies.loc[:, [\"gestation\", \"smoke\", \"height\", \"weight\"]] \\\n",
    "          .replace({\"smoke\" : {\"non-smoker\":0, \"smoker\":1}})\n",
    "### END SOLUTION\n",
    "\n",
    "X.head()"
   ]
  },
  {
   "cell_type": "code",
   "execution_count": null,
   "metadata": {
    "nbgrader": {
     "grade": true,
     "grade_id": "q2a-tests",
     "locked": true,
     "points": 1,
     "schema_version": 2,
     "solution": false
    }
   },
   "outputs": [],
   "source": [
    "assert len(X.columns) == 4\n",
    "\n",
    "# if this fails, make sure X contains the correct columns following the order below\n",
    "assert np.all(X.columns == ['gestation', 'smoke', 'height', 'weight'])\n",
    "\n",
    "# if this fails, make sure there are no NaNs in your babies df\n",
    "assert not np.any(X.isna())\n",
    "\n",
    "assert np.all(np.unique(X['smoke'].values) == np.array([0, 1]))"
   ]
  },
  {
   "cell_type": "markdown",
   "metadata": {
    "nbgrader": {
     "grade": false,
     "grade_id": "q2b",
     "locked": true,
     "schema_version": 2,
     "solution": false
    }
   },
   "source": [
    "#### Question 2b\n",
    "In the cell below, create a variable `y` that contains the birth weights of the babies."
   ]
  },
  {
   "cell_type": "code",
   "execution_count": null,
   "metadata": {
    "nbgrader": {
     "grade": false,
     "grade_id": "q2b-answer",
     "locked": false,
     "schema_version": 2,
     "solution": true
    }
   },
   "outputs": [],
   "source": [
    "y = ...\n",
    "\n",
    "### BEGIN SOLUTION\n",
    "y = babies.loc[:, [\"bwt\"]]\n",
    "### END SOLUTION"
   ]
  },
  {
   "cell_type": "code",
   "execution_count": null,
   "metadata": {
    "nbgrader": {
     "grade": true,
     "grade_id": "q2b-tests",
     "locked": true,
     "points": 1,
     "schema_version": 2,
     "solution": false
    }
   },
   "outputs": [],
   "source": [
    "assert len(y) == len(X)\n",
    "assert np.isclose(np.mean(y), 119.5, atol=1)"
   ]
  },
  {
   "cell_type": "markdown",
   "metadata": {
    "nbgrader": {
     "grade": false,
     "grade_id": "q3",
     "locked": true,
     "schema_version": 2,
     "solution": false
    }
   },
   "source": [
    "### Question 3\n",
    "\n",
    "In the cell below, use sklearn to create a [LinearRegression](http://scikit-learn.org/stable/modules/generated/sklearn.linear_model.LinearRegression.html) object named `model`. \n",
    "\n",
    "Then, fit your model to `X` and `y`. The print statement below will print all the $\\beta$ coefficients of your model (from the equation above) after the model has been fit to your data."
   ]
  },
  {
   "cell_type": "code",
   "execution_count": null,
   "metadata": {
    "nbgrader": {
     "grade": false,
     "grade_id": "q3-answer",
     "locked": false,
     "schema_version": 2,
     "solution": true
    }
   },
   "outputs": [],
   "source": [
    "from sklearn.linear_model import LinearRegression as lm\n",
    "\n",
    "model = ...\n",
    "...\n",
    "### BEGIN SOLUTION\n",
    "model = lm().fit(X, y)\n",
    "### END SOLUTION\n",
    "\n",
    "print(\"\"\"\n",
    "intercept: %.2f\n",
    "gestation: %.2f\n",
    "smoke:     %.2f\n",
    "height:    %.2f\n",
    "weight:    %.2f\n",
    "\"\"\" % (tuple([model.intercept_]) + tuple(model.coef_[0])))"
   ]
  },
  {
   "cell_type": "code",
   "execution_count": null,
   "metadata": {
    "nbgrader": {
     "grade": true,
     "grade_id": "q3-tests",
     "locked": true,
     "points": 1,
     "schema_version": 2,
     "solution": false
    }
   },
   "outputs": [],
   "source": [
    "assert np.isclose(model.intercept_, -77.2, atol=1)\n",
    "assert np.isclose(model.coef_[0][1], -8.35, atol=0.1)"
   ]
  },
  {
   "cell_type": "markdown",
   "metadata": {
    "nbgrader": {
     "grade": false,
     "grade_id": "cell-60b51337ca07494c",
     "locked": true,
     "schema_version": 2,
     "solution": false
    }
   },
   "source": [
    "We see that smoking has a large negative coefficient, indicating that smoking has a negative association with birthweight even after controlling for the mother's height and weight. Obviously the estimated coefficient $\\widehat\\beta_{\\texttt{smoke}}\\neq 0$, but we are interested in whether the population regression coefficient $\\beta_{\\texttt{smoke}}^*\\neq 0$, which is to say *whether smoking effects baby-weight* in the population (assuming the linear model). We don't have access to $\\beta_{\\texttt{smoke}}^*$ (it's a theoretical construct, not something we can measure). But we can use a **bootstrap confidence interval** to account for variability in the sample regression coefficient $\\widehat\\beta_{\\texttt{smoke}}$."
   ]
  },
  {
   "cell_type": "markdown",
   "metadata": {
    "nbgrader": {
     "grade": false,
     "grade_id": "part-3",
     "locked": true,
     "schema_version": 2,
     "solution": false
    }
   },
   "source": [
    "## Part 3: Bootstrap\n",
    "\n",
    "#### Bootstrap Sampling Distribution of $\\widehat\\beta_\\texttt{smoke}$\n",
    "\n",
    "Here we consider the pairs $(X_i, y_i)$ to be our sample, so we construct the bootstrap resample by sampling with replacement from these pairs:\n",
    "\n",
    "$$\n",
    "(X_i^*, y_i^*) \n",
    "= (X_I, y_I), \\text{ where } I=1,\\dots,n \\text{ is sampled uniformly at random.}\n",
    "$$\n",
    "\n",
    "Run the cell below to define the functions `simple_resample` and `bootstrap`, which will help you in the next question."
   ]
  },
  {
   "cell_type": "code",
   "execution_count": null,
   "metadata": {
    "nbgrader": {
     "grade": false,
     "grade_id": "bootstrap-funcs",
     "locked": true,
     "schema_version": 2,
     "solution": false
    }
   },
   "outputs": [],
   "source": [
    "def simple_resample(n): \n",
    "    return(np.random.randint(low = 0, high = n, size = n))\n",
    "\n",
    "def bootstrap(boot_pop, statistic, resample = simple_resample, replicates = 10000):\n",
    "    n = len(boot_pop)\n",
    "    resample_estimates = np.array([statistic(boot_pop[resample(n)]) for _ in range(replicates)])\n",
    "    return resample_estimates"
   ]
  },
  {
   "cell_type": "markdown",
   "metadata": {
    "nbgrader": {
     "grade": false,
     "grade_id": "q4",
     "locked": true,
     "schema_version": 2,
     "solution": false
    }
   },
   "source": [
    "### Question 4\n",
    "\n",
    "Implement the `smoke_coeff` function below. This function will be our statistic, which will be called on several bootstrap resamples of our data.\n",
    "\n",
    "Since we are trying to examine the distribution of possible values for $\\widehat\\beta_\\texttt{smoke}$, the function should:\n",
    "* Fit a model to a new `X` and `y` (created from a bootstrap resample named `babies_array`) provided below\n",
    "* Return the coefficient of the model corresponding to $\\widehat\\beta_\\texttt{smoke}$ (should be the second coefficient of the model)\n",
    "\n",
    "Keep in mind that this cell may take some time to run as it computes the statistic `smoke_coeff` on several thousand bootstrap resamples of the data."
   ]
  },
  {
   "cell_type": "code",
   "execution_count": null,
   "metadata": {
    "nbgrader": {
     "grade": false,
     "grade_id": "q4-answer",
     "locked": false,
     "schema_version": 2,
     "solution": true
    }
   },
   "outputs": [],
   "source": [
    "def smoke_coeff(babies_array):\n",
    "    X = babies_array[:, 1:]\n",
    "    y = babies_array[:, 0]\n",
    "\n",
    "    model = ...\n",
    "    beta_smoke = ...\n",
    "    \n",
    "    ### BEGIN SOLUTION\n",
    "    model = lm().fit(X, y)\n",
    "    beta_smoke = model.coef_[1]\n",
    "    ### END SOLUTION\n",
    "\n",
    "    return beta_smoke\n",
    "\n",
    "babies_array = babies\\\n",
    ".loc[:, [\"bwt\", \"gestation\", \"smoke\", \"height\", \"weight\"]]\\\n",
    ".replace({\"smoke\" : {\"non-smoker\":0, \"smoker\":1}}).values\n",
    "\n",
    "beta_hat_sampling = bootstrap(babies_array, smoke_coeff)"
   ]
  },
  {
   "cell_type": "code",
   "execution_count": null,
   "metadata": {
    "nbgrader": {
     "grade": true,
     "grade_id": "q4-tests",
     "locked": true,
     "points": 1,
     "schema_version": 2,
     "solution": false
    }
   },
   "outputs": [],
   "source": [
    "assert np.isclose(np.mean(beta_hat_sampling), -8.345, atol=0.1)\n",
    "assert np.isclose(np.std(beta_hat_sampling), 0.948, atol=0.1)"
   ]
  },
  {
   "cell_type": "markdown",
   "metadata": {
    "nbgrader": {
     "grade": false,
     "grade_id": "cell-ae0035a24c5b9fd6",
     "locked": true,
     "schema_version": 2,
     "solution": false
    }
   },
   "source": [
    "Run the cell below to plot the bootstrap sampling distribution of all of the $\\widehat\\beta_\\texttt{smoke}$ values."
   ]
  },
  {
   "cell_type": "code",
   "execution_count": null,
   "metadata": {
    "nbgrader": {
     "grade": false,
     "grade_id": "cell-d3e0d61a25f6dfa4",
     "locked": true,
     "schema_version": 2,
     "solution": false
    }
   },
   "outputs": [],
   "source": [
    "plt.figure(figsize = (7, 5))\n",
    "plt.hist(beta_hat_sampling, bins = 30)\n",
    "plt.xlabel(\"Bootstrap Sampling Distribution of $\\\\widehat{\\\\beta}_{smoke}$ (Nonparametric)\")\n",
    "plt.yticks([])\n",
    "plt.show()"
   ]
  },
  {
   "cell_type": "markdown",
   "metadata": {
    "nbgrader": {
     "grade": false,
     "grade_id": "q5",
     "locked": true,
     "schema_version": 2,
     "solution": false
    }
   },
   "source": [
    "### Question 5\n",
    "\n",
    "Use the [percentile](https://docs.scipy.org/doc/numpy-dev/reference/generated/numpy.percentile.html) method to construct a $95\\%$ confidence interval for $\\beta_{\\texttt{smoke}}^*$ based on the bootstrap sampling distribution. If the confidence interval **does not include 0**, we reject the null hypothesis $H_0 : \\beta_{\\texttt{smoke}}^* = 0$.\n",
    "\n"
   ]
  },
  {
   "cell_type": "code",
   "execution_count": null,
   "metadata": {
    "nbgrader": {
     "grade": false,
     "grade_id": "q5-answer",
     "locked": false,
     "schema_version": 2,
     "solution": true
    }
   },
   "outputs": [],
   "source": [
    "left_confidence_interval_endpoint = ...\n",
    "right_confidence_interval_endpoint = ...\n",
    "### BEGIN SOLUTION\n",
    "left_confidence_interval_endpoint = np.percentile(beta_hat_sampling, 2.5)\n",
    "right_confidence_interval_endpoint = np.percentile(beta_hat_sampling, 97.5)\n",
    "### END SOLUTION\n",
    "left_confidence_interval_endpoint, right_confidence_interval_endpoint"
   ]
  },
  {
   "cell_type": "code",
   "execution_count": null,
   "metadata": {
    "nbgrader": {
     "grade": true,
     "grade_id": "q5-tests",
     "locked": true,
     "points": 1,
     "schema_version": 2,
     "solution": false
    }
   },
   "outputs": [],
   "source": [
    "assert np.isclose(left_confidence_interval_endpoint, -10.20, atol=0.1)\n",
    "assert np.isclose(right_confidence_interval_endpoint, -6.46, atol=0.1)"
   ]
  },
  {
   "cell_type": "markdown",
   "metadata": {
    "nbgrader": {
     "grade": false,
     "grade_id": "end",
     "locked": true,
     "schema_version": 2,
     "solution": false
    }
   },
   "source": [
    "---\n",
    "### Submission\n",
    "You have completed the assignment! Please do not forget to submit before 11:59pm. Feel free to read ahead for bonus material concerning the bootstrap and hypothesis testing.\n",
    "\n",
    "---"
   ]
  },
  {
   "cell_type": "markdown",
   "metadata": {},
   "source": [
    "#### Bonus Material: Semiparametric Bootstrap Sampling Distribution of $\\widehat\\beta_\\texttt{smoke}$\n",
    "\n",
    "Now we consider the *residuals* $e_i := y_i - X_i\\widehat\\beta $ to be our sample, so we construct the bootstrap resample by sampling with replacement from these pairs:\n",
    "\n",
    "$$\n",
    "(X_i^*, y_i^*) \n",
    "= (X_i, X_i\\widehat\\beta + e_I), \\text{ where } I=1,\\dots,n \\text{ is sampled uniformly at random.}\n",
    "$$"
   ]
  },
  {
   "cell_type": "code",
   "execution_count": null,
   "metadata": {},
   "outputs": [],
   "source": [
    "y_hat = model.predict(X)\n",
    "residuals = (y - y_hat).values\n",
    "\n",
    "def smoke_coeff_semi(e, X = X, y_hat = y_hat):\n",
    "    y_new = y_hat + e\n",
    "    \n",
    "    model_new = lm().fit(X, y_new)\n",
    "    return(model_new.coef_[0, 1])\n",
    "\n",
    "\n",
    "beta_hat_sampling_semi = bootstrap(residuals, smoke_coeff_semi)"
   ]
  },
  {
   "cell_type": "code",
   "execution_count": null,
   "metadata": {},
   "outputs": [],
   "source": [
    "plt.figure(figsize = (7, 5))\n",
    "plt.hist(beta_hat_sampling_semi, bins = 30)\n",
    "plt.xlabel(\"Bootstrap Sampling Distribution of $\\\\widehat{\\\\beta}_{smoke}$ (Semi-parametric)\")\n",
    "plt.yticks([])\n",
    "plt.show()"
   ]
  },
  {
   "cell_type": "markdown",
   "metadata": {},
   "source": [
    "#### Bonus Material: Permutation Test \n",
    "\n",
    "One way to test the hypothesis that smoking \"doesn't matter\" in the model is with a **permutation $F$-test**. First, fit the linear model above (model 1), and then fit a model where we force $\\beta_\\texttt{smoke} = 0$ (model 2). The two models have residual-sum-of-squares $\\text{RSS}_1$ and $\\text{RSS}_2$, respectively. Necessarily $\\text{RSS}_1 \\le \\text{RSS}_2$, since the first model has more free parameters. We can consider the relative improvement of including $\\beta_{\\texttt{smoke}}$ \n",
    "\n",
    "$$\n",
    "F = \\frac{\\text{RSS}_2 - \\text{RSS}_1}{\\text{RSS}_1},\n",
    "$$\n",
    "\n",
    "so a permutation test permutes the $\\texttt{smoke}$ labels and compares the observed $F$ statistic to the permutation distribution."
   ]
  },
  {
   "cell_type": "code",
   "execution_count": null,
   "metadata": {},
   "outputs": [],
   "source": [
    "from sklearn.metrics import mean_squared_error\n",
    "\n",
    "# RSS2 is same regardless of smoking labels\n",
    "X_sub = babies.loc[:, [\"gestation\", \"height\", \"weight\"]]\n",
    "sub_model = lm().fit(X_sub, y)\n",
    "RSS2 = mean_squared_error(y, sub_model.predict(X_sub))\n",
    "\n",
    "RSS1_obs = mean_squared_error(y, model.predict(X))\n",
    "F_obs = (RSS2 - RSS1_obs) / RSS1_obs\n",
    "\n",
    "n = len(babies_array)\n",
    "F = []\n",
    "for _ in range(10000):\n",
    "    X_perm = babies_array[:, 1:]\n",
    "    X_perm[:, 1] = X_perm[np.random.permutation(n), 1]\n",
    "    \n",
    "    perm_model = lm().fit(X_perm, y)\n",
    "    RSS1 = mean_squared_error(y, perm_model.predict(X_perm))\n",
    "    \n",
    "    F.append((RSS2 - RSS1) / RSS1)\n",
    "\n"
   ]
  },
  {
   "cell_type": "code",
   "execution_count": null,
   "metadata": {},
   "outputs": [],
   "source": [
    "plt.hist(F, bins = 50)\n",
    "plt.axvline(x = F_obs, color = 'r', ls = '--')\n",
    "plt.yticks([])\n",
    "plt.xlabel('Permutation Distribution of $F$ Statistic')\n",
    "plt.show()"
   ]
  }
 ],
 "metadata": {
  "celltoolbar": "Create Assignment",
  "kernelspec": {
   "display_name": "Python 3",
   "language": "python",
   "name": "python3"
  },
  "language_info": {
   "codemirror_mode": {
    "name": "ipython",
    "version": 3
   },
   "file_extension": ".py",
   "mimetype": "text/x-python",
   "name": "python",
   "nbconvert_exporter": "python",
   "pygments_lexer": "ipython3",
   "version": "3.6.4"
  }
 },
 "nbformat": 4,
 "nbformat_minor": 2
}
