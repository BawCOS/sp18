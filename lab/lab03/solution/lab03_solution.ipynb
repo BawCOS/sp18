{
 "cells": [
  {
   "cell_type": "markdown",
   "metadata": {
    "nbgrader": {
     "grade": false,
     "grade_id": "intro",
     "locked": true,
     "schema_version": 2,
     "solution": false
    }
   },
   "source": [
    "# Lab 3: Data Cleaning and Visualization\n",
    "\n",
    "## Course Policies\n",
    "\n",
    "**Collaboration Policy**\n",
    "\n",
    "Data science is a collaborative activity. While you may talk with others about\n",
    "the homework, we ask that you **write your solutions individually**. If you do\n",
    "discuss the assignments with others please **include their names** at the top\n",
    "of your solution.\n",
    "\n",
    "## Due Date\n",
    "\n",
    "** This assignment is due Tuesday 6th Feb at 1:00AM **\n",
    "\n",
    "\n",
    "In this lab, you will be working on the Berkeley Police Department - Calls Data https://data.cityofberkeley.info/Public-Safety/Berkeley-PD-Calls-for-Service/k2nh-s5h5\n",
    "\n",
    "To avoid the issues met in `hw2.ipynb`, you will not be working directly on data from this URL, but on a snapshot of the data, to make sure that we all work with the same data files.\n",
    "\n",
    "The data contains some interesting information but you may need to clean it a bit first.\n",
    "\n",
    "You may find the material in the lecture helpful."
   ]
  },
  {
   "cell_type": "markdown",
   "metadata": {
    "nbgrader": {
     "grade": false,
     "grade_id": "setup",
     "locked": true,
     "schema_version": 2,
     "solution": false
    }
   },
   "source": [
    "## Setup\n",
    "\n",
    "Note that after activating matplotlib to display figures inline via the IPython magic `%matplotlib inline`, we configure a custom default figure size. Virtually every default aspect of matplotlib [can be customized](https://matplotlib.org/users/customizing.html)."
   ]
  },
  {
   "cell_type": "code",
   "execution_count": null,
   "metadata": {
    "nbgrader": {
     "grade": false,
     "grade_id": "imports",
     "locked": true,
     "schema_version": 2,
     "solution": false
    }
   },
   "outputs": [],
   "source": [
    "import pandas as pd\n",
    "import numpy as np\n",
    "import zipfile\n",
    "import matplotlib.pyplot as plt\n",
    "import seaborn as sns\n",
    "from pathlib import Path\n",
    "\n",
    "%matplotlib inline\n",
    "plt.rcParams['figure.figsize'] = (12, 9)"
   ]
  },
  {
   "cell_type": "markdown",
   "metadata": {
    "nbgrader": {
     "grade": false,
     "grade_id": "q0a",
     "locked": true,
     "schema_version": 2,
     "solution": false
    }
   },
   "source": [
    "## Question 0\n",
    "### Question 0a\n",
    "We will reuse the `fetch_and_cache` utility.\n",
    "Import it from your `utils.py` (which should be in the `lab02` folder) or redefine it below."
   ]
  },
  {
   "cell_type": "code",
   "execution_count": null,
   "metadata": {
    "nbgrader": {
     "grade": false,
     "grade_id": "q0a-answer",
     "locked": false,
     "schema_version": 2,
     "solution": true
    }
   },
   "outputs": [],
   "source": [
    "# Import or redefine the function below\n",
    "\n",
    "### BEGIN SOLUTION\n",
    "import requests\n",
    "from pathlib import Path\n",
    "\n",
    "def fetch_and_cache(data_url, file, data_dir=\"data\", force=False):\n",
    "    \"\"\"\n",
    "    Download and cache a url and return the file object.\n",
    "    \n",
    "    data_url: the web address to download\n",
    "    file: the file in which to save the results.\n",
    "    data_dir: (default=\"data\") the location to save the data\n",
    "    force: if true the file is always re-downloaded \n",
    "    \n",
    "    return: The pathlib.Path object representing the file.\n",
    "    \"\"\"\n",
    "    data_dir = Path(data_dir)\n",
    "    data_dir.mkdir(exist_ok = True)\n",
    "    file_path = data_dir / Path(file)\n",
    "    # If the file already exists and we want to force a download then\n",
    "    # delete the file first so that the creation date is correct.\n",
    "    if force and file_path.exists():\n",
    "        file_path.unlink()\n",
    "    if force or not file_path.exists():\n",
    "        print('Downloading...', end=' ')\n",
    "        resp = requests.get(data_url)\n",
    "        with file_path.open('wb') as f:\n",
    "            f.write(resp.content)\n",
    "        print('Done!')\n",
    "    else:\n",
    "        import time \n",
    "        last_modified_time = time.ctime(file_path.stat().st_mtime)\n",
    "        print(\"Using cached version last modified (UTC):\", last_modified_time)\n",
    "    return file_path\n",
    "### END SOLUTION"
   ]
  },
  {
   "cell_type": "code",
   "execution_count": null,
   "metadata": {
    "nbgrader": {
     "grade": true,
     "grade_id": "q0a-tests",
     "locked": true,
     "points": 1,
     "schema_version": 2,
     "solution": false
    }
   },
   "outputs": [],
   "source": [
    "# This checks whether you imported/defined fetch_and_cache\n",
    "import types\n",
    "assert type(fetch_and_cache) == types.FunctionType"
   ]
  },
  {
   "cell_type": "code",
   "execution_count": null,
   "metadata": {
    "nbgrader": {
     "grade": false,
     "grade_id": "download-code-1",
     "locked": true,
     "schema_version": 2,
     "solution": false
    }
   },
   "outputs": [],
   "source": [
    "data_url = 'http://www.ds100.org/sp18/assets/datasets/lab03_data.zip'\n",
    "file_name = 'lab03_data.zip'\n",
    "\n",
    "dest_path = fetch_and_cache(data_url=data_url, file=file_name)\n",
    "print(f'Located at {dest_path}')"
   ]
  },
  {
   "cell_type": "markdown",
   "metadata": {
    "nbgrader": {
     "grade": false,
     "grade_id": "precision",
     "locked": true,
     "schema_version": 2,
     "solution": false
    }
   },
   "source": [
    "We will now directly unzip the ZIP archive and start working with the uncompressed files.\n",
    "\n",
    "There is no single right answer to whether to work with compressed files in their compressed state or whether to uncompress them on disk permanently. If you e.g. need to work with multiple tools on the same files, or write many notebooks to analyze them, and they are not too large, it may be more convenient to uncompress them once.  But you may also have situations where you find it preferable to work with the compressed data directly.  \n",
    "Python gives you tools for both approaches, and you should know how to perform both tasks in order to choose the one that best suits the problem at hand.\n",
    "\n",
    "---\n",
    "\n",
    "Here, the ZIP archive contains a `data` folder with a few files in it. Contrary to `hw2.ipynb`, it is the archive of a **folder**, not of a file.\n",
    "\n",
    "Therefore, we will not specify a destination folder to `extractall`, but directly extract the `data` folder in the zip archive in the current working directory, denoted by `.` in the cell below."
   ]
  },
  {
   "cell_type": "code",
   "execution_count": null,
   "metadata": {
    "nbgrader": {
     "grade": false,
     "grade_id": "download-code-2",
     "locked": true,
     "schema_version": 2,
     "solution": false
    }
   },
   "outputs": [],
   "source": [
    "my_zip = zipfile.ZipFile(dest_path, 'r')\n",
    "# Note the '.' argument\n",
    "my_zip.extractall('.')"
   ]
  },
  {
   "cell_type": "markdown",
   "metadata": {
    "nbgrader": {
     "grade": false,
     "grade_id": "q0b",
     "locked": true,
     "schema_version": 2,
     "solution": false
    }
   },
   "source": [
    "### Question 0b\n",
    "Let us use a pathlib functionality to list all files in the `data` directory. You may find useful information in pathlib [docs](https://docs.python.org/3/library/pathlib.html).\n",
    "\n",
    "\n",
    "Use pathlib's `glob` method to store in the variable `file_names` the list of all files' names in the `data_dir` directory.\n",
    "\n",
    "Use pathlib's `glob` method to store in the variable `python_files` the sublist of all python files' names in the `data_dir` directory."
   ]
  },
  {
   "cell_type": "code",
   "execution_count": null,
   "metadata": {
    "nbgrader": {
     "grade": false,
     "grade_id": "q0b-answer",
     "locked": false,
     "schema_version": 2,
     "solution": true
    }
   },
   "outputs": [],
   "source": [
    "data_dir = Path('data')\n",
    "file_names = ...\n",
    "python_files = ...\n",
    "\n",
    "### BEGIN SOLUTION\n",
    "# List all files in directory\n",
    "file_names = [x.name for x in data_dir.glob('*') if x.is_file()]\n",
    "python_files = [x.name for x in data_dir.glob('*.py') if x.is_file()]\n",
    "### END SOLUTION\n",
    "\n",
    "print(file_names)\n",
    "print(python_files)"
   ]
  },
  {
   "cell_type": "code",
   "execution_count": null,
   "metadata": {
    "nbgrader": {
     "grade": true,
     "grade_id": "q0b-tests",
     "locked": true,
     "points": 1,
     "schema_version": 2,
     "solution": false
    }
   },
   "outputs": [],
   "source": [
    "assert isinstance(file_names, list)\n",
    "assert all([isinstance(file, str) for file in file_names])\n",
    "\n",
    "### BEGIN HIDDEN TESTS\n",
    "assert set(file_names) >= {'do_not_readme.md', 'lab03_data.zip', 'dummy.txt', 'go_bears.py', 'hello_world.py', 'Berkeley_PD_-_Calls_for_Service.csv'}\n",
    "assert set(python_files) >= {'go_bears.py', 'hello_world.py'}\n",
    "### END HIDDEN TESTS"
   ]
  },
  {
   "cell_type": "markdown",
   "metadata": {
    "nbgrader": {
     "grade": false,
     "grade_id": "explo-0",
     "locked": true,
     "schema_version": 2,
     "solution": false
    }
   },
   "source": [
    "Let us load in a `pandas.DataFrame` objet the CSV file we have."
   ]
  },
  {
   "cell_type": "code",
   "execution_count": null,
   "metadata": {
    "nbgrader": {
     "grade": false,
     "grade_id": "download-code-4",
     "locked": true,
     "schema_version": 2,
     "solution": false
    }
   },
   "outputs": [],
   "source": [
    "calls = pd.read_csv(\"data/Berkeley_PD_-_Calls_for_Service.csv\")\n",
    "calls.head()"
   ]
  },
  {
   "cell_type": "markdown",
   "metadata": {
    "nbgrader": {
     "grade": false,
     "grade_id": "explo-1",
     "locked": true,
     "schema_version": 2,
     "solution": false
    }
   },
   "source": [
    "First let's check basic info. The following methods are very useful."
   ]
  },
  {
   "cell_type": "code",
   "execution_count": null,
   "metadata": {
    "nbgrader": {
     "grade": false,
     "grade_id": "explo-2",
     "locked": true,
     "schema_version": 2,
     "solution": false
    }
   },
   "outputs": [],
   "source": [
    "calls.info()\n",
    "calls.describe()"
   ]
  },
  {
   "cell_type": "markdown",
   "metadata": {
    "nbgrader": {
     "grade": false,
     "grade_id": "explo-3",
     "locked": true,
     "schema_version": 2,
     "solution": false
    }
   },
   "source": [
    "Then we can go over the fields to see what are their meanings. We can first check if all events happened in Berkeley."
   ]
  },
  {
   "cell_type": "code",
   "execution_count": null,
   "metadata": {
    "nbgrader": {
     "grade": false,
     "grade_id": "explo-4",
     "locked": true,
     "schema_version": 2,
     "solution": false
    }
   },
   "outputs": [],
   "source": [
    "calls.groupby([\"City\",\"State\"]).count()"
   ]
  },
  {
   "cell_type": "markdown",
   "metadata": {
    "nbgrader": {
     "grade": false,
     "grade_id": "q1",
     "locked": true,
     "schema_version": 2,
     "solution": false
    }
   },
   "source": [
    "### Question 1\n",
    "It seems OFFENSE and CVLEGEND are both about the type of event. What is the difference between the two? Try to use the `groupby` method to group the two keys.\n",
    "\n",
    "You should be able to see that CVLEGEND is a broader category of crime. For example, there are three sub-categories in OFFENSE that correspond to LARCENY in CVLEGEND. Find them and save the results in `answer1` (should be a list of strings, you may manually type in the answer)."
   ]
  },
  {
   "cell_type": "code",
   "execution_count": null,
   "metadata": {
    "nbgrader": {
     "grade": false,
     "grade_id": "q1-answer",
     "locked": false,
     "schema_version": 2,
     "solution": true
    },
    "tags": [
     "student"
    ]
   },
   "outputs": [],
   "source": [
    "# You may use this cell for your scratch work as long as you enter\n",
    "# in your final answers in the answer1 variable.\n",
    "answer1 = ...\n",
    "\n",
    "\n",
    "### BEGIN SOLUTION\n",
    "answer1 = [\"THEFT FELONY (OVER $950)\",\"THEFT FROM PERSON\",\"THEFT MISD. (UNDER $950)\"]\n",
    "calls.groupby([\"CVLEGEND\", \"OFFENSE\"]).count()\n",
    "### END SOLUTION"
   ]
  },
  {
   "cell_type": "code",
   "execution_count": null,
   "metadata": {
    "nbgrader": {
     "grade": true,
     "grade_id": "q1-tests",
     "locked": true,
     "points": 1,
     "schema_version": 2,
     "solution": false
    }
   },
   "outputs": [],
   "source": [
    "assert isinstance(answer1, list)\n",
    "assert all([isinstance(elt, str) for elt in answer1])\n",
    "assert len(answer1) == 3\n",
    "# This makes sure all the values you gave are indeed values of calls['OFFENSE'] (no typo)\n",
    "assert all([elt in calls['OFFENSE'].values for elt in answer1])\n",
    "\n",
    "\n",
    "### BEGIN HIDDEN TESTS\n",
    "# Helper for nbgrader tests\n",
    "def ascii_sum(ans):\n",
    "    return sum([sum(map(ord, s.strip())) for s in ans])\n",
    "\n",
    "#assert ascii_sum(answer1) == 4228  # too stringent\n",
    "assert set([a.strip().upper() for a in answer1]) == set(['THEFT FELONY (OVER $950)', 'THEFT FROM PERSON', 'THEFT MISD. (UNDER $950)'])\n",
    "### END HIDDEN TESTS"
   ]
  },
  {
   "cell_type": "markdown",
   "metadata": {
    "nbgrader": {
     "grade": false,
     "grade_id": "q2a",
     "locked": true,
     "schema_version": 2,
     "solution": false
    }
   },
   "source": [
    "### Question 2\n",
    "\n",
    "#### Question 2a\n",
    "\n",
    "What are the five crime types of CVLEGEND that have the most crime events? You may need to use `value_counts` to find the answer.\n",
    "Save your results into `answer2a` as a list of strings"
   ]
  },
  {
   "cell_type": "code",
   "execution_count": null,
   "metadata": {
    "nbgrader": {
     "grade": false,
     "grade_id": "q2a-answer",
     "locked": false,
     "schema_version": 2,
     "solution": true
    }
   },
   "outputs": [],
   "source": [
    "answer2a = ...\n",
    "\n",
    "### BEGIN SOLUTION\n",
    "answer2a = list(calls[\"CVLEGEND\"].value_counts().head(5).keys())\n",
    "### END SOLUTION"
   ]
  },
  {
   "cell_type": "code",
   "execution_count": null,
   "metadata": {
    "nbgrader": {
     "grade": true,
     "grade_id": "q2a-tests",
     "locked": true,
     "points": 1,
     "schema_version": 2,
     "solution": false
    }
   },
   "outputs": [],
   "source": [
    "assert isinstance(answer2a, list)\n",
    "assert all([isinstance(elt, str) for elt in answer2a])\n",
    "# This makes sure all the values you gave are indeed values of the DataFrame (no typo)\n",
    "assert all([elt in calls['CVLEGEND'].values for elt in answer2a])\n",
    "\n",
    "### BEGIN HIDDEN TESTS\n",
    "assert set(answer2a) == set(['LARCENY', 'BURGLARY - VEHICLE', 'VANDALISM', 'DISORDERLY CONDUCT', 'ASSAULT'])\n",
    "### END HIDDEN TESTS"
   ]
  },
  {
   "cell_type": "markdown",
   "metadata": {
    "nbgrader": {
     "grade": false,
     "grade_id": "Pandas-Plotting",
     "locked": true,
     "schema_version": 2,
     "solution": false
    }
   },
   "source": [
    "### Pandas Plotting\n",
    "\n",
    "Pandas offers basic functionality for plotting.  Take a look at the [documentation](https://pandas.pydata.org/pandas-docs/stable/generated/pandas.DataFrame.plot.html).\n",
    "\n",
    "In this lab we will use a few of the basic functions."
   ]
  },
  {
   "cell_type": "markdown",
   "metadata": {
    "nbgrader": {
     "grade": false,
     "grade_id": "q2b",
     "locked": true,
     "schema_version": 2,
     "solution": false
    }
   },
   "source": [
    "#### Question 2b\n",
    "\n",
    "In the following example we use the `barh` plot type to visually display the value counts for `CVLEGEND`."
   ]
  },
  {
   "cell_type": "code",
   "execution_count": null,
   "metadata": {
    "nbgrader": {
     "grade": false,
     "grade_id": "cell-10ce7b681b1bc99d",
     "locked": true,
     "schema_version": 2,
     "solution": false
    }
   },
   "outputs": [],
   "source": [
    "calls['CVLEGEND'].value_counts().plot(kind='barh', colormap='cubehelix');"
   ]
  },
  {
   "cell_type": "markdown",
   "metadata": {
    "nbgrader": {
     "grade": false,
     "grade_id": "q2b-suite",
     "locked": true,
     "schema_version": 2,
     "solution": false
    }
   },
   "source": [
    "Look at the documentation and try to construct a regular bar plot in which the bars are oriented vertically."
   ]
  },
  {
   "cell_type": "code",
   "execution_count": null,
   "metadata": {
    "nbgrader": {
     "grade": false,
     "grade_id": "q2b-answer",
     "locked": false,
     "schema_version": 2,
     "solution": true
    }
   },
   "outputs": [],
   "source": [
    "### BEGIN SOLUTION\n",
    "calls['CVLEGEND'].value_counts().plot(kind='bar', colormap='cubehelix')\n",
    "### END SOLUTION\n",
    "\n",
    "\n",
    "# Leave this for grading purposes\n",
    "ax_2b = plt.gca()"
   ]
  },
  {
   "cell_type": "code",
   "execution_count": null,
   "metadata": {
    "nbgrader": {
     "grade": true,
     "grade_id": "q2b-test",
     "locked": true,
     "points": 1,
     "schema_version": 2,
     "solution": false
    }
   },
   "outputs": [],
   "source": [
    "import matplotlib \n",
    "# Check ordering\n",
    "bars = [rect.get_height() for rect in ax_2b.patches \n",
    "        if isinstance(rect, matplotlib.patches.Rectangle) and rect.get_x() != 0.0\n",
    "       ]\n",
    "# Check values\n",
    "assert set(bars) == set(calls['CVLEGEND'].value_counts().data)"
   ]
  },
  {
   "cell_type": "markdown",
   "metadata": {
    "nbgrader": {
     "grade": false,
     "grade_id": "q3a",
     "locked": true,
     "schema_version": 2,
     "solution": false
    }
   },
   "source": [
    "### Question 3a\n",
    "\n",
    "The CVDOW field isn't named helpfully and it is hard to see the meaning from the data alone. According to the website, CVDOW is actually indicating the day that events happend. 0->Sunday, 1->Monday ... 6->Saturday. \n",
    "\n",
    "Add a new column `Day` into the `calls` dataframe that has the string weekday (eg. 'Sunday') for the corresponding value in CVDOW.\n",
    "\n",
    "**Hint:** *Try evaluating `days[calls[\"CVDOW\"]]`.  Can you assign this to the new column `calls[\"Day\"]`?*"
   ]
  },
  {
   "cell_type": "code",
   "execution_count": null,
   "metadata": {
    "nbgrader": {
     "grade": false,
     "grade_id": "q3a-answer",
     "locked": false,
     "schema_version": 2,
     "solution": true
    }
   },
   "outputs": [],
   "source": [
    "days = np.array([\"Sunday\", \"Monday\", \"Tuesday\", \n",
    "                 \"Wednesday\", \"Thursday\", \"Friday\",\n",
    "                 \"Saturday\"])\n",
    "\n",
    "### BEGIN SOLUTION\n",
    "calls[\"Day\"] = days[calls[\"CVDOW\"]]\n",
    "### END SOLUTION"
   ]
  },
  {
   "cell_type": "code",
   "execution_count": null,
   "metadata": {
    "nbgrader": {
     "grade": true,
     "grade_id": "q3a-tests",
     "locked": true,
     "points": 1,
     "schema_version": 2,
     "solution": false
    }
   },
   "outputs": [],
   "source": [
    "assert set(calls[\"Day\"]) == {'Friday', 'Monday', 'Saturday', 'Sunday', 'Thursday', 'Tuesday', 'Wednesday'}\n",
    "assert calls[\"Day\"][0] == 'Sunday'\n",
    "\n",
    "### BEGIN HIDDEN TESTS\n",
    "assert list(calls[\"Day\"][:5]) == ['Sunday', 'Thursday', 'Thursday', 'Thursday', 'Tuesday']\n",
    "### END HIDDEN TESTS"
   ]
  },
  {
   "cell_type": "markdown",
   "metadata": {
    "nbgrader": {
     "grade": false,
     "grade_id": "q3b",
     "locked": true,
     "schema_version": 2,
     "solution": false
    }
   },
   "source": [
    "### Question 3b\n",
    "\n",
    "\n",
    "Construct a vertical bar plot with the count of the number of entries in the table for each day of the week **ordered by the day of the week** (eg. `Sunday`, `Monday`, ...). \n",
    "\n",
    "**Hint:** *Try evaluating `value_counts()[days]` to order the days.*\n"
   ]
  },
  {
   "cell_type": "code",
   "execution_count": null,
   "metadata": {
    "nbgrader": {
     "grade": false,
     "grade_id": "make-day-plot",
     "locked": false,
     "schema_version": 2,
     "solution": true
    }
   },
   "outputs": [],
   "source": [
    "### BEGIN SOLUTION\n",
    "calls['Day'].value_counts()[days].plot(kind='bar', colormap='cubehelix')\n",
    "### END SOLUTION\n",
    "\n",
    "# Leave this for grading purposes\n",
    "ax_3b = plt.gca()"
   ]
  },
  {
   "cell_type": "code",
   "execution_count": null,
   "metadata": {
    "nbgrader": {
     "grade": true,
     "grade_id": "test-axis",
     "locked": true,
     "points": 1,
     "schema_version": 2,
     "solution": false
    }
   },
   "outputs": [],
   "source": [
    "import matplotlib \n",
    "# Check ordering\n",
    "assert np.alltrue(np.array([l.get_text() for l in ax_3b.xaxis.get_ticklabels()]) == days)\n",
    "bars = [rect.get_height() for rect in ax_3b.get_children() \n",
    "        if isinstance(rect, matplotlib.patches.Rectangle) and rect.get_x() != 0.0\n",
    "       ]\n",
    "# Check values\n",
    "assert np.alltrue(np.array(bars) == calls['Day'].value_counts()[days].data)"
   ]
  },
  {
   "cell_type": "markdown",
   "metadata": {
    "nbgrader": {
     "grade": false,
     "grade_id": "q3b-suite",
     "locked": true,
     "schema_version": 2,
     "solution": false
    }
   },
   "source": [
    "It seems Saturday and Friday have slightly more crimes than the others, while Sunday is the lowest. But the difference does not look significant.  \n",
    "We can break down into some particular types of events to see their distribution. For example, please make a `countplot` for the \"NOISE VIOLATION\". Which two days are the peak for \"NOISE VIOLATION\"?  \n",
    "Put your results into `answer3b` as a list of strings, manually if you prefer."
   ]
  },
  {
   "cell_type": "code",
   "execution_count": null,
   "metadata": {
    "nbgrader": {
     "grade": false,
     "grade_id": "q3b-answer",
     "locked": false,
     "schema_version": 2,
     "solution": true
    },
    "tags": [
     "student"
    ]
   },
   "outputs": [],
   "source": [
    "# TODO: make some plots here\n",
    "answer3b = ...\n",
    "\n",
    "### BEGIN SOLUTION\n",
    "answer3b = [\"Friday\", \"Saturday\"]\n",
    "calls[calls[\"CVLEGEND\"] == \"NOISE VIOLATION\"]['Day'].value_counts()[days].plot(kind='bar', colormap='cubehelix');\n",
    "### END SOLUTION"
   ]
  },
  {
   "cell_type": "code",
   "execution_count": null,
   "metadata": {
    "nbgrader": {
     "grade": true,
     "grade_id": "q3b-tests",
     "locked": true,
     "points": 1,
     "schema_version": 2,
     "solution": false
    }
   },
   "outputs": [],
   "source": [
    "assert isinstance(answer3b, list)\n",
    "assert all([isinstance(elt, str) for elt in answer3b])\n",
    "assert all([elt in calls['Day'].values for elt in answer3b])\n",
    "\n",
    "### BEGIN HIDDEN TESTS\n",
    "assert set([a.lower() for a in answer3b]) == {\"friday\", \"saturday\"}\n",
    "### END HIDDEN TESTS"
   ]
  },
  {
   "cell_type": "markdown",
   "metadata": {
    "nbgrader": {
     "grade": false,
     "grade_id": "q4a",
     "locked": true,
     "schema_version": 2,
     "solution": false
    }
   },
   "source": [
    "### Question 4a\n",
    "Now let's look at the EVENTTM column which indicates the time for events. Since it contains hour and minute information, let's extract the hour info and create a new column named `Hour` in the `calls` dataframe. You should save the hour as an `int`. Then plot the frequency of each hour in the table (i.e., `value_counts()`) sorted by the hour of the day (i.e., `sort_index()`).\n",
    "\n",
    "You will want to look into how to use:\n",
    "\n",
    "* [Series.str.slice](https://pandas.pydata.org/pandas-docs/stable/generated/pandas.Series.str.slice.html#pandas.Series.str.slice) to select the substring.\n",
    "* [Series.astype](https://pandas.pydata.org/pandas-docs/stable/generated/pandas.Series.astype.html) to change the type.\n",
    "\n",
    "**Hint:** *The `str` helper member of a series can be used to grab substrings.  For example, `calls[\"EVENTTM\"].str.slice(3,5)` returns the minute of each hour of the `EVENTTM`.*"
   ]
  },
  {
   "cell_type": "code",
   "execution_count": null,
   "metadata": {
    "nbgrader": {
     "grade": false,
     "grade_id": "q4a-answer",
     "locked": false,
     "schema_version": 2,
     "solution": true
    },
    "tags": [
     "solution"
    ]
   },
   "outputs": [],
   "source": [
    "### BEGIN SOLUTION\n",
    "calls[\"Hour\"] = calls[\"EVENTTM\"].str.slice(0,2).astype('int')\n",
    "calls[\"Hour\"].value_counts().sort_index().plot(kind='bar', colormap='cubehelix');\n",
    "### END SOLUTION"
   ]
  },
  {
   "cell_type": "code",
   "execution_count": null,
   "metadata": {
    "nbgrader": {
     "grade": true,
     "grade_id": "q4a-tests",
     "locked": true,
     "points": 1,
     "schema_version": 2,
     "solution": false
    }
   },
   "outputs": [],
   "source": [
    "assert 'Hour' in calls.columns\n",
    "assert set(calls[\"Hour\"]) == set(range(24))\n",
    "\n",
    "### BEGIN HIDDEN TESTS\n",
    "list(calls[\"Hour\"][:5]) == [6, 8, 18, 17, 18]\n",
    "assert np.allclose(calls['Hour'].mean(), 13.52451)\n",
    "### END HIDDEN TESTS"
   ]
  },
  {
   "cell_type": "markdown",
   "metadata": {
    "nbgrader": {
     "grade": false,
     "grade_id": "q4b",
     "locked": true,
     "schema_version": 2,
     "solution": false
    }
   },
   "source": [
    "### Question 4b\n",
    "\n",
    "Now let's construct a boxplot which examines the hour of day of each crime broken down by the `CVLEGEND` value.  To construct this plot you will want to read the [DataFrame.boxplot](https://pandas.pydata.org/pandas-docs/stable/generated/pandas.DataFrame.boxplot.html) documentation.\n",
    "\n",
    "Which crime type appears to have the largest interquartile range? Put your results into `answer4b` as a string.\n",
    "\n",
    "**Hint:** *To construct the box plot you will need to specify the `column` to summarize (e.g., `\"Hour\"`) as well as the criterion to group `by` (e.g., `\"CVLEGEND\"`).*\n",
    "\n",
    "**Hint:** *To rotate the labels so they are readable you migth want to set `rot` to `90`.*\n",
    "\n",
    "**Hint:** *To make the plot more readable you might want to set `figsize=(10,8)`.*"
   ]
  },
  {
   "cell_type": "code",
   "execution_count": null,
   "metadata": {
    "nbgrader": {
     "grade": false,
     "grade_id": "q4b-answer",
     "locked": false,
     "schema_version": 2,
     "solution": true
    },
    "tags": [
     "student"
    ]
   },
   "outputs": [],
   "source": [
    "answer4b = ...\n",
    "\n",
    "### BEGIN SOLUTION\n",
    "answer4b = \"NOISE VIOLATION\"\n",
    "calls.boxplot(column=\"Hour\", by='CVLEGEND', rot=90, figsize=(10,8));\n",
    "### END SOLUTION"
   ]
  },
  {
   "cell_type": "code",
   "execution_count": null,
   "metadata": {
    "nbgrader": {
     "grade": true,
     "grade_id": "q4b-tests",
     "locked": true,
     "points": 1,
     "schema_version": 2,
     "solution": false
    },
    "tags": [
     "solution"
    ]
   },
   "outputs": [],
   "source": [
    "assert isinstance(answer4b, str)\n",
    "### BEGIN HIDDEN TESTS\n",
    "assert answer4b.upper() == \"NOISE VIOLATION\"\n",
    "### END HIDDEN TESTS"
   ]
  },
  {
   "cell_type": "markdown",
   "metadata": {
    "nbgrader": {
     "grade": false,
     "grade_id": "finish",
     "locked": true,
     "schema_version": 2,
     "solution": false
    }
   },
   "source": [
    "## Congratulations\n",
    "\n",
    "Congrats! You are finished with this assignment."
   ]
  }
 ],
 "metadata": {
  "celltoolbar": "Create Assignment",
  "kernelspec": {
   "display_name": "Python 3",
   "language": "python",
   "name": "python3"
  },
  "language_info": {
   "codemirror_mode": {
    "name": "ipython",
    "version": 3
   },
   "file_extension": ".py",
   "mimetype": "text/x-python",
   "name": "python",
   "nbconvert_exporter": "python",
   "pygments_lexer": "ipython3",
   "version": "3.6.4"
  }
 },
 "nbformat": 4,
 "nbformat_minor": 2
}
