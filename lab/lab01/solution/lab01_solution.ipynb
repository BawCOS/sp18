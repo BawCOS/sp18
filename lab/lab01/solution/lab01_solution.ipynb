{
 "cells": [
  {
   "cell_type": "markdown",
   "metadata": {
    "nbgrader": {
     "grade": false,
     "grade_id": "cell-72b8b977664e17a3",
     "locked": true,
     "schema_version": 2,
     "solution": false
    }
   },
   "source": [
    "# Lab 1\n",
    "\n",
    "This is the first lab of Data 100 and is intended to ensure that you have your Jupyter Hub and/or local Notebook environments configured correctly.\n",
    "\n",
    "This assignment should be completed before Tuesday 23:00 at 1:00AM.\n"
   ]
  },
  {
   "cell_type": "markdown",
   "metadata": {
    "nbgrader": {
     "grade": false,
     "grade_id": "cell-c28e560df9dc2d15",
     "locked": true,
     "schema_version": 2,
     "solution": false
    }
   },
   "source": [
    "# Imports"
   ]
  },
  {
   "cell_type": "code",
   "execution_count": null,
   "metadata": {
    "ExecuteTime": {
     "end_time": "2018-01-18T23:21:43.841930Z",
     "start_time": "2018-01-18T23:21:43.193583Z"
    },
    "nbgrader": {
     "grade": false,
     "grade_id": "cell-75cd191fea675c93",
     "locked": true,
     "schema_version": 2,
     "solution": false
    }
   },
   "outputs": [],
   "source": [
    "import numpy as np\n",
    "import matplotlib.pyplot as plt\n",
    "import pandas as pd\n",
    "%matplotlib inline"
   ]
  },
  {
   "cell_type": "markdown",
   "metadata": {
    "nbgrader": {
     "grade": false,
     "grade_id": "cell-32ba5ce5b5f93e35",
     "locked": true,
     "schema_version": 2,
     "solution": false
    }
   },
   "source": [
    "# Exercices"
   ]
  },
  {
   "cell_type": "markdown",
   "metadata": {
    "nbgrader": {
     "grade": false,
     "grade_id": "cell-13e40a1399707439",
     "locked": true,
     "schema_version": 2,
     "solution": false
    }
   },
   "source": [
    "## Part A\n",
    "\n",
    "Write a function that returns a list of numbers, such that $ x_i=i^2 $,for $1\\leq i \\leq n$. Don't worry about the case where $n < 0$."
   ]
  },
  {
   "cell_type": "code",
   "execution_count": null,
   "metadata": {
    "ExecuteTime": {
     "end_time": "2018-01-18T23:32:44.865968Z",
     "start_time": "2018-01-18T23:32:44.861303Z"
    },
    "nbgrader": {
     "grade": false,
     "grade_id": "cell-9388c587d0e639ff",
     "locked": false,
     "schema_version": 2,
     "solution": true
    }
   },
   "outputs": [],
   "source": [
    "def squares(n):\n",
    "    \"\"\"\n",
    "    Compute the squares of numbers from 1 to n, such that the \n",
    "    ith element of the returned list equals i^2.\n",
    "    \"\"\"\n",
    "    ### BEGIN SOLUTION\n",
    "    if n < 1:\n",
    "        raise ValueError(\"n must be greater than or equal to 1\")\n",
    "    return [i ** 2 for i in range(1, n + 1)]\n",
    "    ### END SOLUTION"
   ]
  },
  {
   "cell_type": "markdown",
   "metadata": {
    "nbgrader": {
     "grade": false,
     "grade_id": "cell-b8e3b9b11b0f764c",
     "locked": true,
     "schema_version": 2,
     "solution": false
    }
   },
   "source": [
    "Your function should print `[1, 4, 9, 16, 25, 36, 49, 64, 81, 100]` for $n=10$.  \n",
    "Check that it does:"
   ]
  },
  {
   "cell_type": "code",
   "execution_count": null,
   "metadata": {
    "ExecuteTime": {
     "end_time": "2018-01-18T23:35:11.019139Z",
     "start_time": "2018-01-18T23:35:11.010168Z"
    }
   },
   "outputs": [],
   "source": [
    "squares(10)"
   ]
  },
  {
   "cell_type": "markdown",
   "metadata": {
    "nbgrader": {
     "grade": false,
     "grade_id": "cell-5beb02bc07017f6f",
     "locked": true,
     "schema_version": 2,
     "solution": false
    }
   },
   "source": [
    "Check that squares returns the correct output for several inputs."
   ]
  },
  {
   "cell_type": "code",
   "execution_count": null,
   "metadata": {
    "nbgrader": {
     "grade": true,
     "grade_id": "squares-tests",
     "locked": true,
     "points": 1,
     "schema_version": 2,
     "solution": false
    }
   },
   "outputs": [],
   "source": [
    "assert squares(1) == [1]\n",
    "assert squares(2) == [1, 4]\n",
    "assert squares(10) == [1, 4, 9, 16, 25, 36, 49, 64, 81, 100]\n",
    "### BEGIN HIDDEN TESTS\n",
    "assert squares(11) == [1, 4, 9, 16, 25, 36, 49, 64, 81, 100, 121]\n",
    "### END HIDDEN TESTS"
   ]
  },
  {
   "cell_type": "markdown",
   "metadata": {
    "nbgrader": {
     "grade": false,
     "grade_id": "cell-262690d3399a01a6",
     "locked": true,
     "schema_version": 2,
     "solution": false
    }
   },
   "source": [
    "## Part B\n",
    "Write a function which takes in a string and returns `True` if the string is a palindrome. (A string is a palindrome if it is the same forwards and backwards.)"
   ]
  },
  {
   "cell_type": "code",
   "execution_count": null,
   "metadata": {
    "nbgrader": {
     "grade": false,
     "grade_id": "cell-b1fa3ce3a6566fbc",
     "locked": false,
     "schema_version": 2,
     "solution": true
    }
   },
   "outputs": [],
   "source": [
    "def is_palindrome(word):\n",
    "    \"\"\"Return True if word is a palindrome\"\"\"\n",
    "    ### BEGIN SOLUTION\n",
    "    middle = int(len(word) / 2)\n",
    "    is_even = len(word) % 2 == 0\n",
    "    left = word[:middle]\n",
    "    right = word[:middle-is_even:-1]\n",
    "    return left == right\n",
    "    ### END SOLUTION"
   ]
  },
  {
   "cell_type": "markdown",
   "metadata": {
    "nbgrader": {
     "grade": false,
     "grade_id": "cell-8511ab6086312dfb",
     "locked": true,
     "schema_version": 2,
     "solution": false
    }
   },
   "source": [
    "Your function should return true for \"racecar\"."
   ]
  },
  {
   "cell_type": "code",
   "execution_count": null,
   "metadata": {},
   "outputs": [],
   "source": [
    "is_palindrome(\"racecar\")"
   ]
  },
  {
   "cell_type": "markdown",
   "metadata": {
    "nbgrader": {
     "grade": false,
     "grade_id": "cell-a8e600015df76fb8",
     "locked": true,
     "schema_version": 2,
     "solution": false
    }
   },
   "source": [
    "Check that the function works for several inputs."
   ]
  },
  {
   "cell_type": "code",
   "execution_count": null,
   "metadata": {
    "nbgrader": {
     "grade": true,
     "grade_id": "test-is-palindrome",
     "locked": true,
     "points": 1,
     "schema_version": 2,
     "solution": false
    }
   },
   "outputs": [],
   "source": [
    "assert is_palindrome(\"aviddiva\") == True\n",
    "assert is_palindrome(\"clearlynotapalindrome\") == False\n",
    "assert is_palindrome(\"kayak\") == True\n",
    "### BEGIN HIDDEN TESTS\n",
    "assert is_palindrome(\"ab\") == False\n",
    "assert is_palindrome(\"abb\") == False\n",
    "assert is_palindrome(\"a\") == True\n",
    "### END HIDDEN TESTS"
   ]
  },
  {
   "cell_type": "markdown",
   "metadata": {
    "nbgrader": {
     "grade": false,
     "grade_id": "cell-eb403641adc12b74",
     "locked": true,
     "schema_version": 2,
     "solution": false
    }
   },
   "source": [
    "## Part C\n",
    "\n",
    "Run the following code to see a pretty plot."
   ]
  },
  {
   "cell_type": "code",
   "execution_count": null,
   "metadata": {},
   "outputs": [],
   "source": [
    "from mpl_toolkits.mplot3d import axes3d\n",
    "import matplotlib.pyplot as plt\n",
    "\n",
    "\n",
    "# Create a plot\n",
    "u = np.linspace(1.5*np.pi, -1.5*np.pi, 100)\n",
    "[x,y] = np.meshgrid(u, u)\n",
    "z = np.cos( np.sqrt(x.flatten()**2 + y.flatten()**2) ).reshape(x.shape)\n",
    "\n",
    "\n",
    "fig = plt.figure()\n",
    "ax = fig.add_subplot(111, projection='3d')\n",
    "# Plot a basic wireframe.\n",
    "ax.plot_wireframe(x, y, z, rstride=10, cstride=10)\n",
    "ax.view_init(elev=50., azim=30)\n",
    "plt.savefig(\"figure1.pdf\")"
   ]
  },
  {
   "cell_type": "markdown",
   "metadata": {
    "nbgrader": {
     "grade": false,
     "grade_id": "cell-e6545eecd6be7e3d",
     "locked": true,
     "schema_version": 2,
     "solution": false
    }
   },
   "source": [
    "# Part D\n",
    "Do you think that eating french fries with mayonnaise is a crime?  \n",
    "Tell us what you think in the following Markdown cell :)"
   ]
  },
  {
   "cell_type": "markdown",
   "metadata": {
    "nbgrader": {
     "grade": true,
     "grade_id": "cell-ee0714a310fcdcf5",
     "locked": false,
     "points": 0,
     "schema_version": 2,
     "solution": true
    }
   },
   "source": []
  }
 ],
 "metadata": {
  "celltoolbar": "Create Assignment",
  "kernelspec": {
   "display_name": "Python 3",
   "language": "python",
   "name": "python3"
  },
  "language_info": {
   "codemirror_mode": {
    "name": "ipython",
    "version": 3
   },
   "file_extension": ".py",
   "mimetype": "text/x-python",
   "name": "python",
   "nbconvert_exporter": "python",
   "pygments_lexer": "ipython3",
   "version": "3.6.4"
  },
  "toc": {
   "colors": {
    "hover_highlight": "#DAA520",
    "running_highlight": "#FF0000",
    "selected_highlight": "#FFD700"
   },
   "moveMenuLeft": true,
   "nav_menu": {
    "height": "156px",
    "width": "252px"
   },
   "navigate_menu": true,
   "number_sections": true,
   "sideBar": true,
   "threshold": 4,
   "toc_cell": true,
   "toc_section_display": "block",
   "toc_window_display": true
  }
 },
 "nbformat": 4,
 "nbformat_minor": 2
}
