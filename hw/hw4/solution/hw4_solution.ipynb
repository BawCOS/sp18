{
 "cells": [
  {
   "cell_type": "markdown",
   "metadata": {
    "nbgrader": {
     "grade": false,
     "grade_id": "intro",
     "locked": true,
     "schema_version": 2,
     "solution": false
    }
   },
   "source": [
    "# Homework 4: SQL, FEC Data, and Small Donors\n",
    "\n",
    "## Due: 11:59pm Tuesday, March 6\n",
    "\n",
    "\n",
    "In this homework, we explore the money exchanged during the 2016 election using the [Federal Election\n",
    "Commission's public records](http://www.fec.gov/finance/disclosure/ftpdet.shtml). "
   ]
  },
  {
   "cell_type": "code",
   "execution_count": null,
   "metadata": {
    "nbgrader": {
     "grade": false,
     "grade_id": "imports",
     "locked": true,
     "schema_version": 2,
     "solution": false
    },
    "tags": [
     "solution"
    ]
   },
   "outputs": [],
   "source": [
    "import pandas as pd\n",
    "import numpy as np\n",
    "import re\n",
    "import sqlalchemy"
   ]
  },
  {
   "cell_type": "markdown",
   "metadata": {
    "nbgrader": {
     "grade": false,
     "grade_id": "start",
     "locked": true,
     "schema_version": 2,
     "solution": false
    }
   },
   "source": [
    "## Getting Started\n",
    "\n",
    "For this assignment, you're going to use a collection of Postgre SQL servers hosted on the Berkeley DataHub cluster.  These are shared resources so please try to avoid asking complex queries that might slow down the databases for other students. "
   ]
  },
  {
   "cell_type": "markdown",
   "metadata": {
    "nbgrader": {
     "grade": false,
     "grade_id": "start2",
     "locked": true,
     "schema_version": 2,
     "solution": false
    }
   },
   "source": [
    "### Connecting to the Shared Postgres Databases\n",
    "\n",
    "The following block of code will download the list of available database servers on the datahub cluster:\n",
    "\n",
    "To load balance everyone we will randomly select one of the above databases for this notebook. \n",
    "\n",
    "**Note:**  If you run into issues with your current database re-run the following cell until you get a different database."
   ]
  },
  {
   "cell_type": "code",
   "execution_count": null,
   "metadata": {
    "nbgrader": {
     "grade": false,
     "grade_id": "get_db_uri_list",
     "locked": true,
     "schema_version": 2,
     "solution": false
    }
   },
   "outputs": [],
   "source": [
    "def get_db_urls(password=\"dataisgreat\"):\n",
    "    # Download the (potentially changing) list of databases\n",
    "    db_list = pd.read_csv(\"http://ds100.org/sp18/assets/sql/db_list.csv\")\n",
    "    db_list['uri'] = (\n",
    "        \"postgres+psycopg2://\" +\n",
    "        db_list['username'] + \":\" +\n",
    "        password + \"@\" +\n",
    "        db_list['host'] + \"/\" +\n",
    "        db_list['dbname']\n",
    "    )\n",
    "    return db_list\n",
    "\n",
    "print(\"Datbase URIs:\")\n",
    "db_list = get_db_urls()\n",
    "for uri in db_list['uri']:\n",
    "    print(\"\\t\", uri)"
   ]
  },
  {
   "cell_type": "code",
   "execution_count": null,
   "metadata": {
    "nbgrader": {
     "grade": false,
     "grade_id": "get_db_uri",
     "locked": true,
     "schema_version": 2,
     "solution": false
    }
   },
   "outputs": [],
   "source": [
    "if 'db_url' in globals():\n",
    "    db_url = db_list[db_list['uri'] != db_url].sample(1).iloc[0]['uri']\n",
    "else:\n",
    "    db_url = db_list.sample(1).iloc[0]['uri']\n",
    "db_url"
   ]
  },
  {
   "cell_type": "markdown",
   "metadata": {
    "nbgrader": {
     "grade": false,
     "grade_id": "connect_to_db_inst",
     "locked": true,
     "schema_version": 2,
     "solution": false
    }
   },
   "source": [
    "The following cell will connect to the above database using the SQL Alchemy library."
   ]
  },
  {
   "cell_type": "code",
   "execution_count": null,
   "metadata": {
    "nbgrader": {
     "grade": false,
     "grade_id": "set_engine",
     "locked": true,
     "schema_version": 2,
     "solution": false
    }
   },
   "outputs": [],
   "source": [
    "engine = sqlalchemy.create_engine(db_url, connect_args={'sslmode':'require'})\n",
    "connection = engine.connect()"
   ]
  },
  {
   "cell_type": "markdown",
   "metadata": {
    "nbgrader": {
     "grade": false,
     "grade_id": "list-tables-inst",
     "locked": true,
     "schema_version": 2,
     "solution": false
    }
   },
   "source": [
    "To check that everything is working we will list the available tables."
   ]
  },
  {
   "cell_type": "code",
   "execution_count": null,
   "metadata": {
    "nbgrader": {
     "grade": false,
     "grade_id": "list-tables",
     "locked": true,
     "schema_version": 2,
     "solution": false
    }
   },
   "outputs": [],
   "source": [
    "engine.table_names()"
   ]
  },
  {
   "cell_type": "markdown",
   "metadata": {
    "nbgrader": {
     "grade": false,
     "grade_id": "indiv-sample-table-inst",
     "locked": true,
     "schema_version": 2,
     "solution": false
    }
   },
   "source": [
    "The following examines the schema of the `indiv_sample_berkeley` table. This table is constructed as SELECT * FROM individual WHERE city = 'BERKELEY'. It contains all the contributions from Berkeley."
   ]
  },
  {
   "cell_type": "code",
   "execution_count": null,
   "metadata": {
    "nbgrader": {
     "grade": false,
     "grade_id": "indiv-sample-table",
     "locked": true,
     "schema_version": 2,
     "solution": false
    }
   },
   "outputs": [],
   "source": [
    "inspector = sqlalchemy.inspect(engine)\n",
    "pd.DataFrame(inspector.get_columns(\"indiv_sample_berkeley\")).set_index('name')"
   ]
  },
  {
   "cell_type": "markdown",
   "metadata": {
    "nbgrader": {
     "grade": false,
     "grade_id": "advanced-start2",
     "locked": true,
     "schema_version": 2,
     "solution": false
    }
   },
   "source": [
    "### Running a Local Postgres Database (Advanced!)\n",
    "\n",
    "You can also try to setup your own local Postgres Database. You will need:\n",
    "\n",
    "1. The FEC (and lecture) [SQL data](https://drive.google.com/open?id=1EahF0Le_4Gk6JG0CWzmgkotrepHz0oPf)\n",
    "1. Install postres [mac](https://postgresapp.com/), [windows](https://www.postgresql.org/download/windows/), or [linux](http://lmgtfy.com/?q=Install+PostgreSQL+on+Linux).\n",
    "1. Install the FEC data into a Postgres database ([instructions](https://www.postgresql.org/docs/9.1/static/backup-dump.html)).  On mac and linux it looks like:\n",
    "\n",
    "```bash \n",
    "bunzip2 -c filename.gz | psql ds100\n",
    "```\n",
    "\n",
    "To connect to your local database you create an engine with the following command:\n",
    "\n",
    "```python\n",
    "engine = sqlalchemy.create_engine(\"postgres://postgres:@localhost:5432/ds100\")\n",
    "```\n",
    "\n",
    "**Warning:** *For grading purposes it is important that when you submit the notebook it runs correctly using our Postgres servers.\n"
   ]
  },
  {
   "cell_type": "code",
   "execution_count": null,
   "metadata": {},
   "outputs": [],
   "source": [
    "## Uncomment at your own risk!\n",
    "# import sqlalchemy\n",
    "# engine = sqlalchemy.create_engine(\"postgres://postgres:@localhost:5432/ds100\")"
   ]
  },
  {
   "cell_type": "markdown",
   "metadata": {
    "nbgrader": {
     "grade": false,
     "grade_id": "tables",
     "locked": true,
     "schema_version": 2,
     "solution": false
    }
   },
   "source": [
    "## Table Descriptions\n",
    "\n",
    "Here is a list of the tables in the database.  Each table links to the documentation on the [FEC page](http://www.fec.gov/finance/disclosure/ftpdet.shtml) for the dataset.\n",
    "\n",
    "Note that the table names here are slightly different from the ones in lecture. Consult the FEC page\n",
    "for the descriptions of the tables to find out what the correspondence is.\n",
    "\n",
    "- [`cand`](http://www.fec.gov/finance/disclosure/metadata/DataDictionaryCandidateMaster.shtml): Candidates table. Contains names and party affiliation.\n",
    "- [`comm`](http://www.fec.gov/finance/disclosure/metadata/DataDictionaryCommitteeMaster.shtml): Committees table. Contains committee names and types.\n",
    "- [`indiv_sample_berkeley`](http://www.fec.gov/finance/disclosure/metadata/DataDictionaryContributionsbyIndividuals.shtml): All individual contributions from Berkeley.\n"
   ]
  },
  {
   "cell_type": "code",
   "execution_count": null,
   "metadata": {
    "nbgrader": {
     "grade": false,
     "grade_id": "example-code",
     "locked": true,
     "schema_version": 2,
     "solution": false
    }
   },
   "outputs": [],
   "source": [
    "# We use `LIMIT 5` to avoid displaying a huge table.\n",
    "# Although our tables shouldn't get too large to display,\n",
    "# this is generally good practice when working in the\n",
    "# notebook environment.  Jupyter notebooks don't handle\n",
    "# very large outputs well. \n",
    "query = \"\"\"\n",
    "SELECT * from indiv_sample_berkeley LIMIT 5\n",
    "\"\"\"\n",
    "pd.read_sql(query, engine)"
   ]
  },
  {
   "cell_type": "code",
   "execution_count": null,
   "metadata": {
    "nbgrader": {
     "grade": false,
     "grade_id": "longer_query_code",
     "locked": true,
     "schema_version": 2,
     "solution": false
    }
   },
   "outputs": [],
   "source": [
    "query = '''\n",
    "SELECT cand_id, cand_name\n",
    "FROM cand\n",
    "WHERE cand_pty_affiliation = 'DEM'\n",
    "LIMIT 5\n",
    "'''\n",
    "pd.read_sql(query,engine)"
   ]
  },
  {
   "cell_type": "markdown",
   "metadata": {
    "nbgrader": {
     "grade": false,
     "grade_id": "assign",
     "locked": true,
     "schema_version": 2,
     "solution": false
    }
   },
   "source": [
    "### Notes on Grading \n",
    "\n",
    "1. For this homework, we will be grading your SQL expressions so be sure to do all computation in SQL (unless otherwise requested).  \n",
    "1. Use the query string variable we provide since we will be analyzing your SQL query strings."
   ]
  },
  {
   "cell_type": "markdown",
   "metadata": {
    "nbgrader": {
     "grade": false,
     "grade_id": "q1a",
     "locked": true,
     "schema_version": 2,
     "solution": false
    }
   },
   "source": [
    "### Question 1a\n",
    "\n",
    "We are interested in finding the individuals from Berkeley that donated large sums. To begin to answer this question, we will look at the `indiv_sample_berkeley` table. We'll find all the transactions that exceed \\$100,000. However, if there are a lot of transactions like that, it might not be useful to list them all.  So before actually finding the transactions, find out how many such transactions there are. Use only SQL to compute the answer.\n",
    "\n",
    "(It should be a table with a single column called **`count`** and a single entry, the number of transactions.)  \n",
    "\n",
    "We will be grading the query string `query_q1a`.  You may modify our template but the result should contain the same information with the same names.\n",
    "\n",
    "**In this question, and in the following ones, we will only be grading the output of** `pd.read_sql(query_qXX, engine)`.  \n",
    "**Make sure that the output of this query matches what you want (order, column names, etc...)**"
   ]
  },
  {
   "cell_type": "code",
   "execution_count": null,
   "metadata": {
    "for_assignment_type": "student",
    "nbgrader": {
     "grade": false,
     "grade_id": "q1a-answer",
     "locked": false,
     "schema_version": 2,
     "solution": true
    },
    "tags": [
     "student"
    ]
   },
   "outputs": [],
   "source": [
    "# complete the query string\n",
    "query_q1a = \"\"\"\n",
    "SELECT ...\n",
    "FROM ...\n",
    "WHERE ...\n",
    "\"\"\"\n",
    "\n",
    "### BEGIN SOLUTION\n",
    "query_q1a = '''\n",
    "SELECT count(*)\n",
    "FROM indiv_sample_berkeley\n",
    "WHERE transaction_amt > 100000\n",
    "'''\n",
    "\n",
    "### END SOLUTION\n",
    "pd.read_sql(query_q1a, engine)"
   ]
  },
  {
   "cell_type": "code",
   "execution_count": null,
   "metadata": {
    "nbgrader": {
     "grade": true,
     "grade_id": "q1a-tests",
     "locked": true,
     "points": 1,
     "schema_version": 2,
     "solution": false
    },
    "tags": [
     "q01a",
     "test"
    ]
   },
   "outputs": [],
   "source": [
    "res = pd.read_sql(query_q1a,engine)\n",
    "assert len(res) == 1\n",
    "assert res.columns == ['count']\n",
    "\n",
    "### BEGIN HIDDEN TESTS\n",
    "assert res[\"count\"][0] == 5\n",
    "### END HIDDEN TESTS"
   ]
  },
  {
   "cell_type": "markdown",
   "metadata": {
    "nbgrader": {
     "grade": false,
     "grade_id": "q1b",
     "locked": true,
     "schema_version": 2,
     "solution": false
    }
   },
   "source": [
    "### Question 1b\n",
    "Having seen that there aren't too many transactions that exceed \\$100,000, let's find them all.  Using only SQL, construct a table containing the committee ID, contributor's name, and the transaction amount, for transactions that exceed $100,000 dollars.  Sort the transactions in decreasing order by amount. If two contributors contain the same transaction amount, sort by alphabetical order of their names.\n",
    "\n",
    "We will be grading the query string `query_q1b`.  You may modify our template but the result should contain the same information with the same names.\n",
    "\n",
    "The output should similar to the following:\n",
    "\n",
    "<table border=\"1\" class=\"dataframe\">\n",
    "  <thead>\n",
    "    <tr style=\"text-align: right;\">\n",
    "      <th></th>\n",
    "      <th>committee_id</th>\n",
    "      <th>name</th>\n",
    "      <th>transaction_amt</th>\n",
    "    </tr>\n",
    "  </thead>\n",
    "  <tbody>\n",
    "    <tr>\n",
    "      <th>0</th>\n",
    "      <td>C00473918</td>\n",
    "      <td>SHENKER, SCOTT</td>\n",
    "      <td>500000</td>\n",
    "    </tr>\n",
    "    <tr>\n",
    "      <th>1</th>\n",
    "      <td>C00473918</td>\n",
    "      <td>SHENKER, SCOTT</td>\n",
    "      <td>200000</td>\n",
    "    </tr>\n",
    "    <tr>\n",
    "      <th>2</th>\n",
    "      <td>C00473918</td>\n",
    "      <td>SHENKER, SCOTT</td>\n",
    "      <td>200000</td>\n",
    "    </tr>\n",
    "    <tr>\n",
    "      <th>3</th>\n",
    "      <td>C00619411</td>\n",
    "      <td>SIMONS, NAT</td>\n",
    "      <td>136300</td>\n",
    "    </tr>\n",
    "    <tr>\n",
    "      <th>4</th>\n",
    "      <td>C00619411</td>\n",
    "      <td>SIMONS, NAT</td>\n",
    "      <td>100200</td>\n",
    "    </tr>\n",
    "  </tbody>\n",
    "</table>\n",
    "\n"
   ]
  },
  {
   "cell_type": "code",
   "execution_count": null,
   "metadata": {
    "for_assignment_type": "student",
    "nbgrader": {
     "grade": false,
     "grade_id": "q1b-answer",
     "locked": false,
     "schema_version": 2,
     "solution": true
    },
    "tags": [
     "student"
    ]
   },
   "outputs": [],
   "source": [
    "# complete the query string\n",
    "query_q1b = \"\"\"\n",
    "SELECT \n",
    "    ... AS committee_id,\n",
    "    ... AS name,\n",
    "    ... AS transaction_amt\n",
    "FROM ...\n",
    "WHERE ...\n",
    "ORDER BY ...\n",
    "\"\"\"\n",
    "\n",
    "### BEGIN SOLUTION\n",
    "query_q1b = '''\n",
    "SELECT \n",
    "    cmte_id AS committee_id, \n",
    "    name AS name,\n",
    "    transaction_amt AS transaction_amt\n",
    "FROM indiv_sample_berkeley\n",
    "WHERE transaction_amt > 100000\n",
    "ORDER BY transaction_amt DESC, name\n",
    "'''\n",
    "### END SOLUTION\n",
    "pd.read_sql(query_q1b, engine)"
   ]
  },
  {
   "cell_type": "code",
   "execution_count": null,
   "metadata": {
    "nbgrader": {
     "grade": true,
     "grade_id": "q1b-tests",
     "locked": true,
     "points": 1,
     "schema_version": 2,
     "solution": false
    },
    "tags": [
     "test",
     "q01b"
    ]
   },
   "outputs": [],
   "source": [
    "res = pd.read_sql(query_q1b, engine)\n",
    "assert res.shape == (5, 3)\n",
    "assert set(res.columns) == set(['committee_id', 'name', 'transaction_amt'])\n",
    "assert all(res == res.sort_values('transaction_amt', ascending=False))\n",
    "\n",
    "### BEGIN HIDDEN TESTS\n",
    "expected = [['C00473918', 'SHENKER, SCOTT', 500000],\n",
    "            ['C00473918', 'SHENKER, SCOTT', 200000],\n",
    "            ['C00473918', 'SHENKER, SCOTT', 200000],\n",
    "            ['C00619411', 'SIMONS, NAT', 136300],\n",
    "            ['C00619411', 'SIMONS, NAT', 100200]]\n",
    "assert set(res['name'].unique()) == set({'SHENKER, SCOTT', 'SIMONS, NAT'})\n",
    "### END HIDDEN TESTS"
   ]
  },
  {
   "cell_type": "markdown",
   "metadata": {
    "nbgrader": {
     "grade": false,
     "grade_id": "q1c",
     "locked": true,
     "schema_version": 2,
     "solution": false
    }
   },
   "source": [
    "### Question 1c\n",
    "\n",
    "Of course, only looking at individual transactions could be misleading, since each contributor can make several transactions. A more interesting question is: How much did each contributor give *in total*?  Find the total transaction amounts after grouping by the name.  This time, just use `LIMIT 20` to limit your results to the top 20 total donations. Sort the results in descending order by total contribution amount. Break ties by alphabetical order of name as in the previous question.\n",
    "\n",
    "We will be grading the query string `query_q1c`.  You may modify our template but the result should contain the same information with the same names.\n",
    "\n",
    "The output should look something like: \n",
    "\n",
    "\n",
    "<table border=\"1\" class=\"dataframe\">\n",
    "  <thead>\n",
    "    <tr style=\"text-align: right;\">\n",
    "      <th></th>\n",
    "      <th>name</th>\n",
    "      <th>total_transaction_amt</th>\n",
    "    </tr>\n",
    "  </thead>\n",
    "  <tbody>\n",
    "    <tr>\n",
    "      <th>0</th>\n",
    "      <td>SHENKER, SCOTT</td>\n",
    "      <td>1334600</td>\n",
    "    </tr>\n",
    "    <tr>\n",
    "      <th>1</th>\n",
    "      <td>SIMONS, NAT</td>\n",
    "      <td>363400</td>\n",
    "    </tr>\n",
    "    <tr>\n",
    "      <th>2</th>\n",
    "      <td>SIMONS, NATHANIEL</td>\n",
    "      <td>224700</td>\n",
    "    </tr>\n",
    "    <tr>\n",
    "      <th>3</th>\n",
    "      <td>WILKINS, MICHAEL IAN</td>\n",
    "      <td>186681</td>\n",
    "    </tr>\n",
    "    <tr>\n",
    "      <th>4</th>\n",
    "      <td>HEADLEY, MARK</td>\n",
    "      <td>161700</td>\n",
    "    </tr>\n",
    "    <tr>\n",
    "      <th>5</th>\n",
    "      <td>GUND, LOUISE LAIDLAW</td>\n",
    "      <td>148083</td>\n",
    "    </tr>\n",
    "    <tr>\n",
    "      <th>6</th>\n",
    "      <td>SLATER, AMY</td>\n",
    "      <td>126340</td>\n",
    "    </tr>\n",
    "    <tr>\n",
    "      <th>7</th>\n",
    "      <td>HEADLEY, MARK W.</td>\n",
    "      <td>115400</td>\n",
    "    </tr>\n",
    "    <tr>\n",
    "      <th>8</th>\n",
    "      <td>HEADLEY, MARK W</td>\n",
    "      <td>115200</td>\n",
    "    </tr>\n",
    "    <tr>\n",
    "      <th>9</th>\n",
    "      <td>BERLEKAMP, ELWYN</td>\n",
    "      <td>114900</td>\n",
    "    </tr>\n",
    "    <tr>\n",
    "      <th>10</th>\n",
    "      <td>BERNHARDT, ANTHONY</td>\n",
    "      <td>105350</td>\n",
    "    </tr>\n",
    "    <tr>\n",
    "      <th>11</th>\n",
    "      <td>SHENKER, SCOTT M</td>\n",
    "      <td>105000</td>\n",
    "    </tr>\n",
    "    <tr>\n",
    "      <th>12</th>\n",
    "      <td>LEVIEN, RAPHAEL LINUS</td>\n",
    "      <td>100000</td>\n",
    "    </tr>\n",
    "    <tr>\n",
    "      <th>13</th>\n",
    "      <td>SUTTIE, JILL</td>\n",
    "      <td>93565</td>\n",
    "    </tr>\n",
    "    <tr>\n",
    "      <th>14</th>\n",
    "      <td>DUIGNAN, SHEILA MARIE</td>\n",
    "      <td>85000</td>\n",
    "    </tr>\n",
    "    <tr>\n",
    "      <th>15</th>\n",
    "      <td>HOLTZMAN, STEVEN</td>\n",
    "      <td>77800</td>\n",
    "    </tr>\n",
    "    <tr>\n",
    "      <th>16</th>\n",
    "      <td>PARKER, MICHAEL L.</td>\n",
    "      <td>75500</td>\n",
    "    </tr>\n",
    "    <tr>\n",
    "      <th>17</th>\n",
    "      <td>FERGUSON, THEODOSIA</td>\n",
    "      <td>74055</td>\n",
    "    </tr>\n",
    "    <tr>\n",
    "      <th>18</th>\n",
    "      <td>PARKER, ANN</td>\n",
    "      <td>73700</td>\n",
    "    </tr>\n",
    "    <tr>\n",
    "      <th>19</th>\n",
    "      <td>FIDDLER, JERRY</td>\n",
    "      <td>70800</td>\n",
    "    </tr>\n",
    "  </tbody>\n",
    "</table>"
   ]
  },
  {
   "cell_type": "code",
   "execution_count": null,
   "metadata": {
    "for_assignment_type": "student",
    "nbgrader": {
     "grade": false,
     "grade_id": "q1c-answer",
     "locked": false,
     "schema_version": 2,
     "solution": true
    },
    "tags": [
     "student"
    ]
   },
   "outputs": [],
   "source": [
    "# complete the query string\n",
    "query_q1c = '''\n",
    "SELECT \n",
    "    ... AS name,\n",
    "    ... AS total_transaction_amt \n",
    "FROM indiv_sample_berkeley \n",
    "GROUP BY ... \n",
    "ORDER BY ... DESC\n",
    "LIMIT ...\n",
    "'''\n",
    "### BEGIN SOLUTION\n",
    "query_q1c = '''\n",
    "SELECT \n",
    "    name AS name, \n",
    "    sum(transaction_amt) AS total_transaction_amt \n",
    "FROM indiv_sample_berkeley \n",
    "GROUP BY name\n",
    "ORDER BY total_transaction_amt DESC, name\n",
    "LIMIT 20\n",
    "'''\n",
    "### END SOLUTION\n",
    "\n",
    "pd.read_sql(query_q1c, engine)"
   ]
  },
  {
   "cell_type": "code",
   "execution_count": null,
   "metadata": {
    "nbgrader": {
     "grade": true,
     "grade_id": "cell-079f99ab023b3cfa",
     "locked": true,
     "points": 1,
     "schema_version": 2,
     "solution": false
    }
   },
   "outputs": [],
   "source": [
    "res = pd.read_sql(query_q1c,engine)\n",
    "assert res.shape == (20, 2)\n",
    "assert all(res['total_transaction_amt'] == res['total_transaction_amt'].sort_values(ascending=False))\n",
    "\n",
    "## BEGIN HIDDEN TESTS\n",
    "assert set(res['name']) == set({'BERLEKAMP, ELWYN',\n",
    "                                'BERNHARDT, ANTHONY',\n",
    "                                'DUIGNAN, SHEILA MARIE',\n",
    "                                'FERGUSON, THEODOSIA',\n",
    "                                'FIDDLER, JERRY',\n",
    "                                'GUND, LOUISE LAIDLAW',\n",
    "                                'HEADLEY, MARK',\n",
    "                                'HEADLEY, MARK W',\n",
    "                                'HEADLEY, MARK W.',\n",
    "                                'HOLTZMAN, STEVEN',\n",
    "                                'LEVIEN, RAPHAEL LINUS',\n",
    "                                'PARKER, ANN',\n",
    "                                'PARKER, MICHAEL L.',\n",
    "                                'SHENKER, SCOTT',\n",
    "                                'SHENKER, SCOTT M',\n",
    "                                'SIMONS, NAT',\n",
    "                                'SIMONS, NATHANIEL',\n",
    "                                'SLATER, AMY',\n",
    "                                'SUTTIE, JILL',\n",
    "                                'WILKINS, MICHAEL IAN'})\n",
    "## END HIDDEN TESTS"
   ]
  },
  {
   "cell_type": "markdown",
   "metadata": {
    "nbgrader": {
     "grade": false,
     "grade_id": "q2a",
     "locked": true,
     "schema_version": 2,
     "solution": false
    }
   },
   "source": [
    "### Question 2a\n",
    "\n",
    "We might also be interested in examining the distribution of contributors by occupation. Let's first compute how many distinct occupations occur in the dataset. You may need to use the `DISTINCT` keyword to solve the problem."
   ]
  },
  {
   "cell_type": "code",
   "execution_count": null,
   "metadata": {
    "nbgrader": {
     "grade": false,
     "grade_id": "q2a-answer",
     "locked": false,
     "schema_version": 2,
     "solution": true
    },
    "tags": [
     "student"
    ]
   },
   "outputs": [],
   "source": [
    "query_q2a = '''\n",
    "SELECT \n",
    "    ...\n",
    "FROM indiv_sample_berkeley \n",
    "'''\n",
    "### BEGIN SOLUTION\n",
    "query_q2a = '''\n",
    "SELECT \n",
    "    COUNT(distinct occupation)\n",
    "FROM indiv_sample_berkeley \n",
    "'''\n",
    "### END SOLUTION\n",
    "\n",
    "pd.read_sql(query_q2a,engine)"
   ]
  },
  {
   "cell_type": "code",
   "execution_count": null,
   "metadata": {
    "nbgrader": {
     "grade": true,
     "grade_id": "q2a-tests",
     "locked": true,
     "points": 1,
     "schema_version": 2,
     "solution": false
    },
    "tags": [
     "q02a",
     "test"
    ]
   },
   "outputs": [],
   "source": [
    "res = pd.read_sql(query_q2a,engine)\n",
    "assert len(res) == 1\n",
    "assert res.columns == ['count']\n",
    "\n",
    "### BEGIN HIDDEN TESTS\n",
    "assert res[\"count\"][0] == 1656\n",
    "### END HIDDEN TESTS"
   ]
  },
  {
   "cell_type": "markdown",
   "metadata": {
    "nbgrader": {
     "grade": false,
     "grade_id": "q2b",
     "locked": true,
     "schema_version": 2,
     "solution": false
    }
   },
   "source": [
    "### Question 2b \n",
    " Write a SQL query which computes for each occupation the number of transactions in the indiv_sample table. Display the top 20 results in descending order by count. \n",
    "\n",
    "We will be grading the query string `query_q2b`.  You may modify our template but the result should contain the same information with the same names.\n",
    "\n",
    "The output should look something like: \n",
    "\n",
    "<table border=\"1\" class=\"dataframe\">\n",
    "  <thead>\n",
    "    <tr style=\"text-align: right;\">\n",
    "      <th></th>\n",
    "      <th>occupation</th>\n",
    "      <th>count</th>\n",
    "    </tr>\n",
    "  </thead>\n",
    "  <tbody>\n",
    "    <tr>\n",
    "      <th>0</th>\n",
    "      <td>NOT EMPLOYED</td>\n",
    "      <td>13105</td>\n",
    "    </tr>\n",
    "    <tr>\n",
    "      <th>1</th>\n",
    "      <td>RETIRED</td>\n",
    "      <td>10880</td>\n",
    "    </tr>\n",
    "    <tr>\n",
    "      <th>2</th>\n",
    "      <td>None</td>\n",
    "      <td>2651</td>\n",
    "    </tr>\n",
    "    <tr>\n",
    "      <th>3</th>\n",
    "      <td>PROFESSOR</td>\n",
    "      <td>2184</td>\n",
    "    </tr>\n",
    "    <tr>\n",
    "      <th>4</th>\n",
    "      <td>ATTORNEY</td>\n",
    "      <td>2116</td>\n",
    "    </tr>\n",
    "    <tr>\n",
    "      <th>5</th>\n",
    "      <td>UNEMPLOYED</td>\n",
    "      <td>1066</td>\n",
    "    </tr>\n",
    "    <tr>\n",
    "      <th>6</th>\n",
    "      <td>NONE</td>\n",
    "      <td>1010</td>\n",
    "    </tr>\n",
    "    <tr>\n",
    "      <th>7</th>\n",
    "      <td>TEACHER</td>\n",
    "      <td>891</td>\n",
    "    </tr>\n",
    "    <tr>\n",
    "      <th>8</th>\n",
    "      <td>SCIENTIST</td>\n",
    "      <td>854</td>\n",
    "    </tr>\n",
    "    <tr>\n",
    "      <th>9</th>\n",
    "      <td>ENGINEER</td>\n",
    "      <td>764</td>\n",
    "    </tr>\n",
    "    <tr>\n",
    "      <th>10</th>\n",
    "      <td>PHYSICIAN</td>\n",
    "      <td>753</td>\n",
    "    </tr>\n",
    "    <tr>\n",
    "      <th>11</th>\n",
    "      <td>PSYCHOLOGIST</td>\n",
    "      <td>749</td>\n",
    "    </tr>\n",
    "    <tr>\n",
    "      <th>12</th>\n",
    "      <td>WRITER</td>\n",
    "      <td>631</td>\n",
    "    </tr>\n",
    "    <tr>\n",
    "      <th>13</th>\n",
    "      <td>HOMEMAKER</td>\n",
    "      <td>619</td>\n",
    "    </tr>\n",
    "    <tr>\n",
    "      <th>14</th>\n",
    "      <td>RETIRED TEACHER</td>\n",
    "      <td>581</td>\n",
    "    </tr>\n",
    "    <tr>\n",
    "      <th>15</th>\n",
    "      <td>CONSULTANT</td>\n",
    "      <td>549</td>\n",
    "    </tr>\n",
    "    <tr>\n",
    "      <th>16</th>\n",
    "      <td>SOFTWARE ENGINEER</td>\n",
    "      <td>547</td>\n",
    "    </tr>\n",
    "    <tr>\n",
    "      <th>17</th>\n",
    "      <td>LAWYER</td>\n",
    "      <td>532</td>\n",
    "    </tr>\n",
    "    <tr>\n",
    "      <th>18</th>\n",
    "      <td>ARTIST</td>\n",
    "      <td>515</td>\n",
    "    </tr>\n",
    "    <tr>\n",
    "      <th>19</th>\n",
    "      <td>FACILITATOR, EDUCATOR</td>\n",
    "      <td>514</td>\n",
    "    </tr>\n",
    "  </tbody>\n",
    "</table>"
   ]
  },
  {
   "cell_type": "code",
   "execution_count": null,
   "metadata": {
    "for_assignment_type": "student",
    "nbgrader": {
     "grade": false,
     "grade_id": "q2b-answer",
     "locked": false,
     "schema_version": 2,
     "solution": true
    },
    "tags": [
     "student"
    ]
   },
   "outputs": [],
   "source": [
    "# complete the query string\n",
    "query_q2b = '''\n",
    "SELECT \n",
    "    ... AS occupation, \n",
    "    ... AS count\n",
    "FROM ...\n",
    "...\n",
    "...\n",
    "LIMIT ...\n",
    "'''\n",
    "### BEGIN SOLUTION\n",
    "query_q2b = '''\n",
    "SELECT \n",
    "    occupation AS occupation, \n",
    "    count(*) AS count\n",
    "FROM indiv_sample_berkeley \n",
    "GROUP BY occupation\n",
    "ORDER BY count DESC\n",
    "LIMIT 20\n",
    "'''\n",
    "### END SOLUTION\n",
    "pd.read_sql(query_q2b, engine)"
   ]
  },
  {
   "cell_type": "code",
   "execution_count": null,
   "metadata": {
    "nbgrader": {
     "grade": true,
     "grade_id": "q2b-tests",
     "locked": true,
     "points": 1,
     "schema_version": 2,
     "solution": false
    },
    "tags": [
     "q02b",
     "test"
    ]
   },
   "outputs": [],
   "source": [
    "res = pd.read_sql(query_q2b,engine)\n",
    "assert res.shape == (20, 2)\n",
    "assert set(res.columns) == set(['occupation', 'count'])\n",
    "assert all(res == res.sort_values('count', ascending=False))\n",
    "### BEGIN HIDDEN TESTS\n",
    "assert set(res['occupation']).issuperset(set({'ARTIST',\n",
    "                                'ATTORNEY',\n",
    "                                'CONSULTANT',\n",
    "                                'ENGINEER',\n",
    "                                'FACILITATOR, EDUCATOR',\n",
    "                                'HOMEMAKER',\n",
    "                                'LAWYER',\n",
    "                                'NONE',\n",
    "                                'NOT EMPLOYED',\n",
    "                                'PHYSICIAN',\n",
    "                                'PROFESSOR',\n",
    "                                'PSYCHOLOGIST',\n",
    "                                'RETIRED',\n",
    "                                'RETIRED TEACHER',\n",
    "                                'SCIENTIST',\n",
    "                                'SOFTWARE ENGINEER',\n",
    "                                'TEACHER',\n",
    "                                'UNEMPLOYED',\n",
    "                                'WRITER'}))\n",
    "### END HIDDEN TESTS"
   ]
  },
  {
   "cell_type": "markdown",
   "metadata": {
    "nbgrader": {
     "grade": false,
     "grade_id": "q2c",
     "locked": true,
     "schema_version": 2,
     "solution": false
    }
   },
   "source": [
    "### Questions 2c\n",
    "Compute the average transaction amount for each occupation, and sort them in descending order.  \n",
    "Display the top 10 results.\n",
    "\n",
    "The output should look something like: \n",
    "\n",
    "<table border=\"1\" class=\"dataframe\">\n",
    "  <thead>\n",
    "    <tr style=\"text-align: right;\">\n",
    "      <th></th>\n",
    "      <th>occupation</th>\n",
    "      <th>amount</th>\n",
    "      <th>count</th>\n",
    "    </tr>\n",
    "  </thead>\n",
    "  <tbody>\n",
    "    <tr>\n",
    "      <th>0</th>\n",
    "      <td>SOFTWARE OFFICER</td>\n",
    "      <td>51350.000000</td>\n",
    "      <td>2</td>\n",
    "    </tr>\n",
    "    <tr>\n",
    "      <th>1</th>\n",
    "      <td>CHAIRMAN</td>\n",
    "      <td>20921.428571</td>\n",
    "      <td>14</td>\n",
    "    </tr>\n",
    "    <tr>\n",
    "      <th>2</th>\n",
    "      <td>LOUISE GUND FOUNDATION</td>\n",
    "      <td>18561.000000</td>\n",
    "      <td>8</td>\n",
    "    </tr>\n",
    "    <tr>\n",
    "      <th>3</th>\n",
    "      <td>SCIENCE JOURNALIST</td>\n",
    "      <td>12933.333333</td>\n",
    "      <td>3</td>\n",
    "    </tr>\n",
    "    <tr>\n",
    "      <th>4</th>\n",
    "      <td>FINANCE</td>\n",
    "      <td>10115.947368</td>\n",
    "      <td>19</td>\n",
    "    </tr>\n",
    "    <tr>\n",
    "      <th>5</th>\n",
    "      <td>INVESTOR/BOARD MEMBER</td>\n",
    "      <td>10000.000000</td>\n",
    "      <td>1</td>\n",
    "    </tr>\n",
    "    <tr>\n",
    "      <th>6</th>\n",
    "      <td>INVESTMENT MANGER</td>\n",
    "      <td>10000.000000</td>\n",
    "      <td>2</td>\n",
    "    </tr>\n",
    "    <tr>\n",
    "      <th>7</th>\n",
    "      <td>INVESTMENT MANAGER</td>\n",
    "      <td>9838.297872</td>\n",
    "      <td>47</td>\n",
    "    </tr>\n",
    "    <tr>\n",
    "      <th>8</th>\n",
    "      <td>VENTURE CAPITALIST</td>\n",
    "      <td>8578.571429</td>\n",
    "      <td>7</td>\n",
    "    </tr>\n",
    "    <tr>\n",
    "      <th>9</th>\n",
    "      <td>PHILANTHROPIST</td>\n",
    "      <td>8566.666667</td>\n",
    "      <td>9</td>\n",
    "    </tr>\n",
    "  </tbody>\n",
    "</table>"
   ]
  },
  {
   "cell_type": "code",
   "execution_count": null,
   "metadata": {
    "nbgrader": {
     "grade": false,
     "grade_id": "q2c-answer",
     "locked": false,
     "schema_version": 2,
     "solution": true
    },
    "tags": [
     "student"
    ]
   },
   "outputs": [],
   "source": [
    "# complete the query string\n",
    "query_q2c = '''\n",
    "SELECT \n",
    "    ... AS occupation, \n",
    "    ... AS avg_amount,\n",
    "    ... AS count\n",
    "FROM indiv_sample_berkeley \n",
    "...\n",
    "...\n",
    "LIMIT ...\n",
    "'''\n",
    "\n",
    "### BEGIN SOLUTION\n",
    "query_q2c = '''\n",
    "SELECT \n",
    "    occupation AS occupation, \n",
    "    avg(transaction_amt) AS amount,\n",
    "    count(*) AS count\n",
    "FROM indiv_sample_berkeley \n",
    "GROUP BY occupation \n",
    "ORDER BY amount DESC\n",
    "LIMIT 10\n",
    "'''\n",
    "\n",
    "### END SOLUTION\n",
    "pd.read_sql(query_q2c, engine)"
   ]
  },
  {
   "cell_type": "code",
   "execution_count": null,
   "metadata": {
    "nbgrader": {
     "grade": true,
     "grade_id": "q2c-tests",
     "locked": true,
     "points": 1,
     "schema_version": 2,
     "solution": false
    },
    "tags": [
     "test",
     "q02c"
    ]
   },
   "outputs": [],
   "source": [
    "res = pd.read_sql(query_q2c,engine)\n",
    "assert res.shape == (10, 3)\n",
    "assert all(res == res.sort_values('amount', ascending=False))\n",
    "\n",
    "### BEGIN HIDDEN TESTS\n",
    "assert set(list(res[\"amount\"].astype(int))) == set([51350, 20921, 18561, 12933, 10115, 10000, 10000, 9838, 8578, 8566])\n",
    "assert set(list(res[\"occupation\"])) == set(['SOFTWARE OFFICER', 'CHAIRMAN', 'LOUISE GUND FOUNDATION', 'SCIENCE JOURNALIST', 'FINANCE', 'INVESTOR/BOARD MEMBER', 'INVESTMENT MANGER', 'INVESTMENT MANAGER', 'VENTURE CAPITALIST', 'PHILANTHROPIST'])\n",
    "### END HIDDEN TESTS"
   ]
  },
  {
   "cell_type": "markdown",
   "metadata": {
    "nbgrader": {
     "grade": false,
     "grade_id": "q2d",
     "locked": true,
     "schema_version": 2,
     "solution": false
    }
   },
   "source": [
    "### Questions 2d\n",
    "\n",
    "A few of the above occupations contain 1 or 2 transactions which could lead to unreliable conclusions.  Use a `HAVING` clause to keep only occupations for which we have more than 10 transactions. \n",
    "\n",
    "As before, display the top 10 occupations that have the largest average total transaction amount.\n",
    "\n",
    "Your output should look similar to: \n",
    "\n",
    "<table border=\"1\" class=\"dataframe\">\n",
    "  <thead>\n",
    "    <tr style=\"text-align: right;\">\n",
    "      <th></th>\n",
    "      <th>occupation</th>\n",
    "      <th>amount</th>\n",
    "      <th>count</th>\n",
    "    </tr>\n",
    "  </thead>\n",
    "  <tbody>\n",
    "    <tr>\n",
    "      <th>0</th>\n",
    "      <td>CHAIRMAN</td>\n",
    "      <td>20921.428571</td>\n",
    "      <td>14</td>\n",
    "    </tr>\n",
    "    <tr>\n",
    "      <th>1</th>\n",
    "      <td>FINANCE</td>\n",
    "      <td>10115.947368</td>\n",
    "      <td>19</td>\n",
    "    </tr>\n",
    "    <tr>\n",
    "      <th>2</th>\n",
    "      <td>INVESTMENT MANAGER</td>\n",
    "      <td>9838.297872</td>\n",
    "      <td>47</td>\n",
    "    </tr>\n",
    "    <tr>\n",
    "      <th>3</th>\n",
    "      <td>PRINCIPAL</td>\n",
    "      <td>7576.500000</td>\n",
    "      <td>20</td>\n",
    "    </tr>\n",
    "    <tr>\n",
    "      <th>4</th>\n",
    "      <td>INVESTMENT MANAGEMENT</td>\n",
    "      <td>3712.820513</td>\n",
    "      <td>39</td>\n",
    "    </tr>\n",
    "    <tr>\n",
    "      <th>5</th>\n",
    "      <td>INVESTOR</td>\n",
    "      <td>2606.171429</td>\n",
    "      <td>70</td>\n",
    "    </tr>\n",
    "    <tr>\n",
    "      <th>6</th>\n",
    "      <td>SCIENTIST</td>\n",
    "      <td>1819.542155</td>\n",
    "      <td>854</td>\n",
    "    </tr>\n",
    "    <tr>\n",
    "      <th>7</th>\n",
    "      <td>REAL ESTATE DEVELOPER</td>\n",
    "      <td>1522.727273</td>\n",
    "      <td>11</td>\n",
    "    </tr>\n",
    "    <tr>\n",
    "      <th>8</th>\n",
    "      <td>INVESTOR, BOARD DIRECTOR</td>\n",
    "      <td>1440.625000</td>\n",
    "      <td>16</td>\n",
    "    </tr>\n",
    "    <tr>\n",
    "      <th>9</th>\n",
    "      <td>MATH PROFESSOR</td>\n",
    "      <td>1387.000000</td>\n",
    "      <td>11</td>\n",
    "    </tr>\n",
    "  </tbody>\n",
    "</table>\n"
   ]
  },
  {
   "cell_type": "code",
   "execution_count": null,
   "metadata": {
    "nbgrader": {
     "grade": false,
     "grade_id": "q2d-answer",
     "locked": false,
     "schema_version": 2,
     "solution": true
    },
    "tags": [
     "student"
    ]
   },
   "outputs": [],
   "source": [
    "# complete the query string\n",
    "query_q2d = '''\n",
    "SELECT \n",
    "    ... AS occupation, \n",
    "    ... AS avg_amount,\n",
    "    ... AS count\n",
    "FROM indiv_sample_berkeley \n",
    "GROUP BY ...\n",
    "HAVING ...\n",
    "ORDER BY ...\n",
    "LIMIT ...\n",
    "'''\n",
    "\n",
    "### BEGIN SOLUTION\n",
    "query_q2d = '''\n",
    "SELECT \n",
    "    occupation AS occupation, \n",
    "    avg(transaction_amt) AS amount,\n",
    "    count(*) AS count\n",
    "FROM indiv_sample_berkeley \n",
    "GROUP BY occupation \n",
    "HAVING count(*) > 10\n",
    "ORDER BY amount DESC\n",
    "LIMIT 10\n",
    "'''\n",
    "### END SOLUTION\n",
    "pd.read_sql(query_q2d, engine)"
   ]
  },
  {
   "cell_type": "code",
   "execution_count": null,
   "metadata": {
    "nbgrader": {
     "grade": true,
     "grade_id": "q2d-tests",
     "locked": true,
     "points": 1,
     "schema_version": 2,
     "solution": false
    },
    "tags": [
     "test",
     "q02d"
    ]
   },
   "outputs": [],
   "source": [
    "res = pd.read_sql(query_q2d, engine)\n",
    "assert res.shape == (10, 3)\n",
    "assert all(res == res.sort_values('amount', ascending=False))\n",
    "\n",
    "### BEGIN HIDDEN TESTS\n",
    "assert set(list(res[\"amount\"].astype(int))) == set([20921, 10115, 9838, 7576, 3712, 2606, 1819, 1522, 1440, 1387])\n",
    "assert set(list(res[\"occupation\"])) == set(['CHAIRMAN', 'FINANCE', 'INVESTMENT MANAGER', 'PRINCIPAL', 'INVESTMENT MANAGEMENT', 'INVESTOR', 'SCIENTIST', 'REAL ESTATE DEVELOPER', 'INVESTOR, BOARD DIRECTOR', 'MATH PROFESSOR'])\n",
    "### END HIDDEN TESTS"
   ]
  },
  {
   "cell_type": "markdown",
   "metadata": {
    "nbgrader": {
     "grade": false,
     "grade_id": "q2e",
     "locked": true,
     "schema_version": 2,
     "solution": false
    }
   },
   "source": [
    "### Questions 2e\n",
    "\n",
    "Let's break the total contributions down by occupation and individual (grouping on both dimensions at once).  Display the `occupation`, `name`, and total contribution amount from the `indiv_sample_berkeley` table. Display the top 10 results order by the `total_amount`.\n",
    "\n",
    "The output should look something like: \n",
    "<table border=\"1\" class=\"dataframe\">\n",
    "  <thead>\n",
    "    <tr style=\"text-align: right;\">\n",
    "      <th></th>\n",
    "      <th>occupation</th>\n",
    "      <th>name</th>\n",
    "      <th>total_amount</th>\n",
    "    </tr>\n",
    "  </thead>\n",
    "  <tbody>\n",
    "    <tr>\n",
    "      <th>0</th>\n",
    "      <td>SCIENTIST</td>\n",
    "      <td>SHENKER, SCOTT</td>\n",
    "      <td>1326500</td>\n",
    "    </tr>\n",
    "    <tr>\n",
    "      <th>1</th>\n",
    "      <td>INVESTMENT MANAGER</td>\n",
    "      <td>SIMONS, NAT</td>\n",
    "      <td>363400</td>\n",
    "    </tr>\n",
    "    <tr>\n",
    "      <th>2</th>\n",
    "      <td>FINANCE</td>\n",
    "      <td>WILKINS, MICHAEL IAN</td>\n",
    "      <td>186681</td>\n",
    "    </tr>\n",
    "    <tr>\n",
    "      <th>3</th>\n",
    "      <td>LOUISE GUND FOUNDATION</td>\n",
    "      <td>GUND, LOUISE LAIDLAW</td>\n",
    "      <td>145788</td>\n",
    "    </tr>\n",
    "    <tr>\n",
    "      <th>4</th>\n",
    "      <td>PRINCIPAL</td>\n",
    "      <td>SIMONS, NATHANIEL</td>\n",
    "      <td>133600</td>\n",
    "    </tr>\n",
    "    <tr>\n",
    "      <th>5</th>\n",
    "      <td>INVESTMENT MANAGEMENT</td>\n",
    "      <td>HEADLEY, MARK</td>\n",
    "      <td>132800</td>\n",
    "    </tr>\n",
    "    <tr>\n",
    "      <th>6</th>\n",
    "      <td>ATTORNEY</td>\n",
    "      <td>SLATER, AMY</td>\n",
    "      <td>124340</td>\n",
    "    </tr>\n",
    "    <tr>\n",
    "      <th>7</th>\n",
    "      <td>CHAIRMAN</td>\n",
    "      <td>HEADLEY, MARK W</td>\n",
    "      <td>115200</td>\n",
    "    </tr>\n",
    "    <tr>\n",
    "      <th>8</th>\n",
    "      <td>SCIENTIST</td>\n",
    "      <td>SHENKER, SCOTT M</td>\n",
    "      <td>105000</td>\n",
    "    </tr>\n",
    "    <tr>\n",
    "      <th>9</th>\n",
    "      <td>CHAIRMAN</td>\n",
    "      <td>HEADLEY, MARK W.</td>\n",
    "      <td>100000</td>\n",
    "    </tr>\n",
    "  </tbody>\n",
    "</table>"
   ]
  },
  {
   "cell_type": "code",
   "execution_count": null,
   "metadata": {
    "nbgrader": {
     "grade": false,
     "grade_id": "q2e-answer",
     "locked": false,
     "schema_version": 2,
     "solution": true
    },
    "tags": [
     "student"
    ]
   },
   "outputs": [],
   "source": [
    "# complete the query string\n",
    "query_q2e = '''\n",
    "SELECT \n",
    "    ... AS occupation,\n",
    "    ... AS name,\n",
    "    ... AS total_amount\n",
    "FROM indiv_sample_berkeley \n",
    "...\n",
    "...\n",
    "...\n",
    "'''\n",
    "\n",
    "### BEGIN SOLUTION\n",
    "query_q2e = '''\n",
    "SELECT \n",
    "    occupation AS occupation,\n",
    "    name AS name,\n",
    "    sum(transaction_amt) AS total_amount\n",
    "FROM indiv_sample_berkeley\n",
    "GROUP BY occupation,name\n",
    "ORDER BY total_amount DESC\n",
    "LIMIT 10\n",
    "'''\n",
    "### END SOLUTION\n",
    "pd.read_sql(query_q2e, engine)"
   ]
  },
  {
   "cell_type": "code",
   "execution_count": null,
   "metadata": {
    "nbgrader": {
     "grade": true,
     "grade_id": "q2e-tests",
     "locked": true,
     "points": 1,
     "schema_version": 2,
     "solution": false
    },
    "tags": [
     "test",
     "q02e"
    ]
   },
   "outputs": [],
   "source": [
    "res = pd.read_sql(query_q2e, engine)\n",
    "assert res.shape == (10, 3)\n",
    "assert all(res == res.sort_values('total_amount', ascending=False))\n",
    "\n",
    "### BEGIN HIDDEN TESTS\n",
    "assert set(list(res[\"total_amount\"].astype(int))) == set([1326500, 363400, 186681, 145788, 133600, 132800, 124340, 115200, 105000, 100000])\n",
    "assert set(list(res[\"occupation\"])).issuperset(set(['SCIENTIST', 'INVESTMENT MANAGER', 'FINANCE', 'LOUISE GUND FOUNDATION', 'PRINCIPAL', 'INVESTMENT MANAGEMENT', 'ATTORNEY', 'CHAIRMAN', 'SCIENTIST']))\n",
    "### END HIDDEN TESTS"
   ]
  },
  {
   "cell_type": "markdown",
   "metadata": {
    "nbgrader": {
     "grade": false,
     "grade_id": "q2f",
     "locked": true,
     "schema_version": 2,
     "solution": false
    }
   },
   "source": [
    "### Question 2f\n",
    "\n",
    "Let's now examine the **average** of the **total contribution** for each person registered within an occupation. Note we will need to do this in two steps.  We will first need to compute the total contributions for each user and group and then average the totals across groups.  Use the following tested query template to answer this question. Restrict the final output to occupations that have more than 5 individuals.  Display the top 10 results order the results by the average amount in descending order and break ties with the occupation in ascending order. \n",
    "\n",
    "Your output should look similar to:\n",
    "\n",
    "<table border=\"1\" class=\"dataframe\">\n",
    "  <thead>\n",
    "    <tr style=\"text-align: right;\">\n",
    "      <th></th>\n",
    "      <th>occupation</th>\n",
    "      <th>amount</th>\n",
    "      <th>count</th>\n",
    "    </tr>\n",
    "  </thead>\n",
    "  <tbody>\n",
    "    <tr>\n",
    "      <th>0</th>\n",
    "      <td>CHAIRMAN</td>\n",
    "      <td>36612.500000</td>\n",
    "      <td>8</td>\n",
    "    </tr>\n",
    "    <tr>\n",
    "      <th>1</th>\n",
    "      <td>SCIENTIST</td>\n",
    "      <td>27261.210526</td>\n",
    "      <td>57</td>\n",
    "    </tr>\n",
    "    <tr>\n",
    "      <th>2</th>\n",
    "      <td>PRINCIPAL</td>\n",
    "      <td>25255.000000</td>\n",
    "      <td>6</td>\n",
    "    </tr>\n",
    "    <tr>\n",
    "      <th>3</th>\n",
    "      <td>FINANCE</td>\n",
    "      <td>24025.375000</td>\n",
    "      <td>8</td>\n",
    "    </tr>\n",
    "    <tr>\n",
    "      <th>4</th>\n",
    "      <td>INVESTOR</td>\n",
    "      <td>12162.133333</td>\n",
    "      <td>15</td>\n",
    "    </tr>\n",
    "    <tr>\n",
    "      <th>5</th>\n",
    "      <td>PSYCHOANALYST</td>\n",
    "      <td>5955.000000</td>\n",
    "      <td>12</td>\n",
    "    </tr>\n",
    "    <tr>\n",
    "      <th>6</th>\n",
    "      <td>INVESTMENT ADVISOR</td>\n",
    "      <td>5133.333333</td>\n",
    "      <td>6</td>\n",
    "    </tr>\n",
    "    <tr>\n",
    "      <th>7</th>\n",
    "      <td>DOCTOR</td>\n",
    "      <td>4125.909091</td>\n",
    "      <td>11</td>\n",
    "    </tr>\n",
    "    <tr>\n",
    "      <th>8</th>\n",
    "      <td>EDUCATION</td>\n",
    "      <td>3494.375000</td>\n",
    "      <td>8</td>\n",
    "    </tr>\n",
    "    <tr>\n",
    "      <th>9</th>\n",
    "      <td>REAL ESTATE</td>\n",
    "      <td>3426.050000</td>\n",
    "      <td>20</td>\n",
    "    </tr>\n",
    "  </tbody>\n",
    "</table>\n"
   ]
  },
  {
   "cell_type": "code",
   "execution_count": null,
   "metadata": {
    "nbgrader": {
     "grade": false,
     "grade_id": "q2f-answer",
     "locked": false,
     "schema_version": 2,
     "solution": true
    },
    "tags": [
     "student"
    ]
   },
   "outputs": [],
   "source": [
    "# complete the query string\n",
    "query_q2f = '''\n",
    "SELECT occupation, avg(total_amount) AS amount, count(*)\n",
    "FROM (\n",
    "    SELECT ..., ..., ... AS total_amount\n",
    "    FROM indiv_sample_berkeley \n",
    "    GROUP BY ...\n",
    ") AS total_contributions\n",
    "GROUP BY ...\n",
    "HAVING ...\n",
    "ORDER BY ...\n",
    "LIMIT ...\n",
    "'''\n",
    "### BEGIN SOLUTION\n",
    "query_q2f = '''\n",
    "SELECT occupation, avg(total_amount) AS amount, count(*)\n",
    "FROM (\n",
    "    SELECT name, occupation, sum(transaction_amt) AS total_amount\n",
    "    FROM indiv_sample_berkeley \n",
    "    GROUP BY name, occupation\n",
    ") AS total_contributions\n",
    "GROUP BY occupation\n",
    "HAVING count(*) > 5\n",
    "ORDER BY amount DESC, occupation\n",
    "LIMIT 10\n",
    "'''\n",
    "### END SOLUTION\n",
    "pd.read_sql(query_q2f, engine)"
   ]
  },
  {
   "cell_type": "code",
   "execution_count": null,
   "metadata": {
    "nbgrader": {
     "grade": true,
     "grade_id": "q2f-tests",
     "locked": true,
     "points": 1,
     "schema_version": 2,
     "solution": false
    },
    "tags": [
     "test",
     "q02f"
    ]
   },
   "outputs": [],
   "source": [
    "res = pd.read_sql(query_q2f,engine)\n",
    "assert res.shape == (10, 3)\n",
    "assert all(res == res.sort_values('amount', ascending=False))\n",
    "\n",
    "### BEGIN HIDDEN TESTS\n",
    "assert set(list(res[\"amount\"].astype(int))) == set([36612, 27261, 25255, 24025, 12162, 5955, 5133, 4125, 3494, 3426])\n",
    "assert set(list(res[\"occupation\"])) == set(['CHAIRMAN', 'SCIENTIST', 'PRINCIPAL', 'FINANCE', 'INVESTOR', 'PSYCHOANALYST', 'INVESTMENT ADVISOR', 'DOCTOR', 'EDUCATION', 'REAL ESTATE'])\n",
    "### END HIDDEN TESTS"
   ]
  },
  {
   "cell_type": "markdown",
   "metadata": {
    "nbgrader": {
     "grade": false,
     "grade_id": "q3",
     "locked": true,
     "schema_version": 2,
     "solution": false
    }
   },
   "source": [
    "### Question 3\n",
    "Now let's examine the committees that appear in the `indiv_sample_berkeley` table, with the information from the `comm` table. First let's take a look of the `comm` table."
   ]
  },
  {
   "cell_type": "code",
   "execution_count": null,
   "metadata": {
    "nbgrader": {
     "grade": false,
     "grade_id": "q3-code",
     "locked": true,
     "schema_version": 2,
     "solution": false
    }
   },
   "outputs": [],
   "source": [
    "pd.read_sql(\"select * from comm limit 5\", engine)"
   ]
  },
  {
   "cell_type": "markdown",
   "metadata": {
    "nbgrader": {
     "grade": false,
     "grade_id": "q3a",
     "locked": true,
     "schema_version": 2,
     "solution": false
    }
   },
   "source": [
    "### Questions 3a\n",
    "Let's first groupby the transactions in the `indiv_sample_berkeley` table with `cmte_id` column (committee id), then count how many transactions and how much total amount of contribution there are for each `cmte_id`. Select the top 5 committees order by the transactions count.\n",
    "\n",
    "Your output should look similar to:\n",
    "\n",
    "<table border=\"1\" class=\"dataframe\">\n",
    "  <thead>\n",
    "    <tr style=\"text-align: right;\">\n",
    "      <th></th>\n",
    "      <th>committee_id</th>\n",
    "      <th>total_amount</th>\n",
    "      <th>count</th>\n",
    "    </tr>\n",
    "  </thead>\n",
    "  <tbody>\n",
    "    <tr>\n",
    "      <th>0</th>\n",
    "      <td>C00401224</td>\n",
    "      <td>2302741</td>\n",
    "      <td>27327</td>\n",
    "    </tr>\n",
    "    <tr>\n",
    "      <th>1</th>\n",
    "      <td>C00575795</td>\n",
    "      <td>1418867</td>\n",
    "      <td>8807</td>\n",
    "    </tr>\n",
    "    <tr>\n",
    "      <th>2</th>\n",
    "      <td>C00577130</td>\n",
    "      <td>598675</td>\n",
    "      <td>8185</td>\n",
    "    </tr>\n",
    "    <tr>\n",
    "      <th>3</th>\n",
    "      <td>C00000935</td>\n",
    "      <td>851328</td>\n",
    "      <td>5589</td>\n",
    "    </tr>\n",
    "    <tr>\n",
    "      <th>4</th>\n",
    "      <td>C00042366</td>\n",
    "      <td>708910</td>\n",
    "      <td>2438</td>\n",
    "    </tr>\n",
    "  </tbody>\n",
    "</table>"
   ]
  },
  {
   "cell_type": "code",
   "execution_count": null,
   "metadata": {
    "nbgrader": {
     "grade": false,
     "grade_id": "q3a-answer",
     "locked": false,
     "schema_version": 2,
     "solution": true
    },
    "tags": [
     "student"
    ]
   },
   "outputs": [],
   "source": [
    "query_q3a='''\n",
    "SELECT\n",
    "    ... AS committee_id,\n",
    "    ... AS total_amount,\n",
    "    ... AS count\n",
    "FROM indiv_sample_berkeley\n",
    "...\n",
    "...\n",
    "...\n",
    "'''\n",
    "\n",
    "### BEGIN SOLUTION\n",
    "query_q3a='''\n",
    "SELECT\n",
    "    cmte_id AS committee_id,\n",
    "    sum(transaction_amt) AS total_amount,\n",
    "    count(*) AS count\n",
    "FROM indiv_sample_berkeley\n",
    "GROUP BY cmte_id\n",
    "ORDER BY count DESC\n",
    "LIMIT 5\n",
    "'''\n",
    "### END SOLUTION\n",
    "\n",
    "pd.read_sql(query_q3a, engine)"
   ]
  },
  {
   "cell_type": "code",
   "execution_count": null,
   "metadata": {
    "nbgrader": {
     "grade": true,
     "grade_id": "q3a-tests",
     "locked": true,
     "points": 1,
     "schema_version": 2,
     "solution": false
    },
    "tags": [
     "test",
     "q03a"
    ]
   },
   "outputs": [],
   "source": [
    "res = pd.read_sql(query_q3a,engine)\n",
    "assert res.shape == (5, 3)\n",
    "assert all(res == res.sort_values('count', ascending=False))\n",
    "\n",
    "### BEGIN HIDDEN TESTS\n",
    "assert set(res['total_amount'].unique()) == set({598675, 708910, 851328, 1418867, 2302741})\n",
    "### END HIDDEN TESTS"
   ]
  },
  {
   "cell_type": "markdown",
   "metadata": {
    "nbgrader": {
     "grade": false,
     "grade_id": "q3b",
     "locked": true,
     "schema_version": 2,
     "solution": false
    }
   },
   "source": [
    "### Questions 3b\n",
    "Only showing the committee id doesn't tell us much. Let's also select the committee information by joining with the `comm` table using the `cmite_id` field.\n",
    "\n",
    "You will extend the query we have from q3a and then perform a `JOIN` with the `comm` table. Select extra committee information such as committee name, party_affiliation, city and state from `comm`. Select the top 10 committees order by transaction count.\n",
    "\n",
    "Your output should look like the following:\n",
    "\n",
    "<table border=\"1\" class=\"dataframe\">\n",
    "  <thead>\n",
    "    <tr style=\"text-align: right;\">\n",
    "      <th></th>\n",
    "      <th>cmte_name</th>\n",
    "      <th>party_affiliation</th>\n",
    "      <th>city</th>\n",
    "      <th>state</th>\n",
    "      <th>total_amount</th>\n",
    "      <th>count</th>\n",
    "    </tr>\n",
    "  </thead>\n",
    "  <tbody>\n",
    "    <tr>\n",
    "      <th>0</th>\n",
    "      <td>ACTBLUE</td>\n",
    "      <td>None</td>\n",
    "      <td>SOMERVILLE</td>\n",
    "      <td>MA</td>\n",
    "      <td>2302741</td>\n",
    "      <td>27327</td>\n",
    "    </tr>\n",
    "    <tr>\n",
    "      <th>1</th>\n",
    "      <td>HILLARY FOR AMERICA</td>\n",
    "      <td>DEM</td>\n",
    "      <td>NEW YORK</td>\n",
    "      <td>NY</td>\n",
    "      <td>1418867</td>\n",
    "      <td>8807</td>\n",
    "    </tr>\n",
    "    <tr>\n",
    "      <th>2</th>\n",
    "      <td>BERNIE 2016</td>\n",
    "      <td>DEM</td>\n",
    "      <td>BURLINGTON</td>\n",
    "      <td>VT</td>\n",
    "      <td>598675</td>\n",
    "      <td>8185</td>\n",
    "    </tr>\n",
    "    <tr>\n",
    "      <th>3</th>\n",
    "      <td>DCCC</td>\n",
    "      <td>DEM</td>\n",
    "      <td>WASHINGTON</td>\n",
    "      <td>DC</td>\n",
    "      <td>851328</td>\n",
    "      <td>5589</td>\n",
    "    </tr>\n",
    "    <tr>\n",
    "      <th>4</th>\n",
    "      <td>DSCC</td>\n",
    "      <td>DEM</td>\n",
    "      <td>WASHINGTON</td>\n",
    "      <td>DC</td>\n",
    "      <td>708910</td>\n",
    "      <td>2438</td>\n",
    "    </tr>\n",
    "    <tr>\n",
    "      <th>5</th>\n",
    "      <td>END CITIZENS UNITED</td>\n",
    "      <td>None</td>\n",
    "      <td>WASHINGTON</td>\n",
    "      <td>DC</td>\n",
    "      <td>76742</td>\n",
    "      <td>2050</td>\n",
    "    </tr>\n",
    "    <tr>\n",
    "      <th>6</th>\n",
    "      <td>HILLARY VICTORY FUND</td>\n",
    "      <td>None</td>\n",
    "      <td>NEW YORK</td>\n",
    "      <td>NY</td>\n",
    "      <td>1530057</td>\n",
    "      <td>1659</td>\n",
    "    </tr>\n",
    "    <tr>\n",
    "      <th>7</th>\n",
    "      <td>MOVEON.ORG POLITICAL ACTION</td>\n",
    "      <td>None</td>\n",
    "      <td>WASHINGTON</td>\n",
    "      <td>DC</td>\n",
    "      <td>134619</td>\n",
    "      <td>1415</td>\n",
    "    </tr>\n",
    "    <tr>\n",
    "      <th>8</th>\n",
    "      <td>DNC SERVICES CORP./DEM. NAT'L COMMITTEE</td>\n",
    "      <td>DEM</td>\n",
    "      <td>WASHINGTON</td>\n",
    "      <td>DC</td>\n",
    "      <td>273294</td>\n",
    "      <td>954</td>\n",
    "    </tr>\n",
    "    <tr>\n",
    "      <th>9</th>\n",
    "      <td>CATHERINE CORTEZ MASTO FOR SENATE</td>\n",
    "      <td>DEM</td>\n",
    "      <td>LAS VEGAS</td>\n",
    "      <td>NV</td>\n",
    "      <td>159707</td>\n",
    "      <td>815</td>\n",
    "    </tr>\n",
    "  </tbody>\n",
    "</table>"
   ]
  },
  {
   "cell_type": "code",
   "execution_count": null,
   "metadata": {
    "nbgrader": {
     "grade": false,
     "grade_id": "q3b-answer",
     "locked": false,
     "schema_version": 2,
     "solution": true
    },
    "tags": [
     "student"
    ]
   },
   "outputs": [],
   "source": [
    "query_q3b = '''\n",
    "WITH cmte_count AS\n",
    "(\n",
    "  SELECT \n",
    "      ... AS cmte_id,\n",
    "      ... AS total_amount,\n",
    "      ... AS count\n",
    "  FROM indiv_sample_berkeley \n",
    "  ...\n",
    ")\n",
    "SELECT \n",
    "    ... AS cmte_name, \n",
    "    ... AS party_affiliation,\n",
    "    ... AS city,\n",
    "    ... AS state,\n",
    "    ... AS total_amount,\n",
    "    ... AS count\n",
    "FROM comm c ... JOIN cmte_count i ON ...\n",
    "...\n",
    "...\n",
    "'''\n",
    "### BEGIN SOLUTION\n",
    "query_q3b = '''\n",
    "WITH cmte_count AS\n",
    "(\n",
    "  SELECT \n",
    "      cmte_id AS cmte_id,\n",
    "      sum(transaction_amt) AS total_amount,\n",
    "      count(*) AS count\n",
    "  FROM indiv_sample_berkeley \n",
    "  GROUP BY cmte_id \n",
    ")\n",
    "SELECT \n",
    "    c.cmte_nm AS cmte_name, \n",
    "    c.cmte_pty_affiliation AS party_affiliation,\n",
    "    c.cmte_city AS city,\n",
    "    c.cmte_st AS state,\n",
    "    i.total_amount AS total_amount,\n",
    "    i.count AS count\n",
    "FROM comm c RIGHT OUTER JOIN cmte_count i ON c.cmte_id = i.cmte_id\n",
    "ORDER BY count DESC\n",
    "LIMIT 10\n",
    "'''\n",
    "### END SOLUTION\n",
    "\n",
    "pd.read_sql(query_q3b, engine)"
   ]
  },
  {
   "cell_type": "code",
   "execution_count": null,
   "metadata": {
    "nbgrader": {
     "grade": true,
     "grade_id": "q3b-tests",
     "locked": true,
     "points": 1,
     "schema_version": 2,
     "solution": false
    },
    "tags": [
     "test",
     "q03b"
    ]
   },
   "outputs": [],
   "source": [
    "res = pd.read_sql(query_q3b,engine)[[\"cmte_name\", \"count\"]]\n",
    "assert res.shape == (10, 2)\n",
    "assert all(res == res.sort_values('count', ascending=False))\n",
    "\n",
    "### BEGIN HIDDEN TESTS\n",
    "assert set(res['count'].unique()) == set({815, 954, 1415, 1659, 2050, 2438, 5589, 8185, 8807, 27327})\n",
    "### END HIDDEN TESTS"
   ]
  },
  {
   "cell_type": "markdown",
   "metadata": {
    "nbgrader": {
     "grade": false,
     "grade_id": "q3c",
     "locked": true,
     "schema_version": 2,
     "solution": false
    }
   },
   "source": [
    "### Question 3c\n",
    "From the results in q3b, it seems most of the party affiliation are DEM. So let's count the actual distribution of the party affiliation. Select all the different committee id from `indiv_sample_berkeley`, joining with the `comm` table. Then group the results by party_affiliation and count how many committees there are for each party_affiliation. Order the results by committee count.\n",
    "\n",
    "<table border=\"1\" class=\"dataframe\">\n",
    "  <thead>\n",
    "    <tr style=\"text-align: right;\">\n",
    "      <th></th>\n",
    "      <th>party_affiliation</th>\n",
    "      <th>count</th>\n",
    "    </tr>\n",
    "  </thead>\n",
    "  <tbody>\n",
    "    <tr>\n",
    "      <th>0</th>\n",
    "      <td>None</td>\n",
    "      <td>386</td>\n",
    "    </tr>\n",
    "    <tr>\n",
    "      <th>1</th>\n",
    "      <td>DEM</td>\n",
    "      <td>58</td>\n",
    "    </tr>\n",
    "    <tr>\n",
    "      <th>2</th>\n",
    "      <td>REP</td>\n",
    "      <td>8</td>\n",
    "    </tr>\n",
    "    <tr>\n",
    "      <th>3</th>\n",
    "      <td>UNK</td>\n",
    "      <td>4</td>\n",
    "    </tr>\n",
    "    <tr>\n",
    "      <th>4</th>\n",
    "      <td>NNE</td>\n",
    "      <td>2</td>\n",
    "    </tr>\n",
    "    <tr>\n",
    "      <th>5</th>\n",
    "      <td>GRE</td>\n",
    "      <td>1</td>\n",
    "    </tr>\n",
    "  </tbody>\n",
    "</table>"
   ]
  },
  {
   "cell_type": "code",
   "execution_count": null,
   "metadata": {
    "nbgrader": {
     "grade": false,
     "grade_id": "q3c-answer",
     "locked": false,
     "schema_version": 2,
     "solution": true
    },
    "tags": [
     "student"
    ]
   },
   "outputs": [],
   "source": [
    "query_q3c = '''\n",
    "WITH cmte AS\n",
    "(\n",
    "  SELECT \n",
    "      ... AS cmte_id\n",
    "  FROM indiv_sample_berkeley \n",
    ")\n",
    "SELECT \n",
    "    ... AS party_affiliation,\n",
    "    ... AS count\n",
    "FROM ...\n",
    "...\n",
    "...\n",
    "'''\n",
    "### BEGIN SOLUTION\n",
    "query_q3c = '''\n",
    "WITH cmte AS\n",
    "(\n",
    "  SELECT \n",
    "      DISTINCT cmte_id AS cmte_id\n",
    "  FROM indiv_sample_berkeley \n",
    ")\n",
    "SELECT \n",
    "    c.cmte_pty_affiliation AS party_affiliation,\n",
    "    count(*) AS count\n",
    "FROM comm c  RIGHT OUTER JOIN cmte i ON c.cmte_id = i.cmte_id\n",
    "GROUP BY c.cmte_pty_affiliation\n",
    "ORDER BY count DESC\n",
    "'''\n",
    "### END SOLUTION\n",
    "pd.read_sql(query_q3c, engine)"
   ]
  },
  {
   "cell_type": "code",
   "execution_count": null,
   "metadata": {
    "nbgrader": {
     "grade": true,
     "grade_id": "q3c-tests",
     "locked": true,
     "points": 1,
     "schema_version": 2,
     "solution": false
    },
    "tags": [
     "test",
     "q03c"
    ]
   },
   "outputs": [],
   "source": [
    "res = pd.read_sql(query_q3c, engine)\n",
    "assert res.shape == (6, 2)\n",
    "assert all(res == res.sort_values('count', ascending=False))\n",
    "\n",
    "### BEGIN HIDDEN TESTS\n",
    "assert set(res['count'].unique()) == set({1, 2, 4, 8, 58, 386})\n",
    "### END HIDDEN TESTS"
   ]
  }
 ],
 "metadata": {
  "anaconda-cloud": {},
  "celltoolbar": "Create Assignment",
  "kernelspec": {
   "display_name": "Python 3",
   "language": "python",
   "name": "python3"
  },
  "language_info": {
   "codemirror_mode": {
    "name": "ipython",
    "version": 3
   },
   "file_extension": ".py",
   "mimetype": "text/x-python",
   "name": "python",
   "nbconvert_exporter": "python",
   "pygments_lexer": "ipython3",
   "version": "3.6.4"
  },
  "timetravel": {
   "allowedContentTypes": [
    "text/plain"
   ],
   "enabled": false,
   "version": "1.0"
  }
 },
 "nbformat": 4,
 "nbformat_minor": 1
}
