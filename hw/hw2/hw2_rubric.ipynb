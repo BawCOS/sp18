{
 "cells": [
  {
   "cell_type": "code",
   "execution_count": null,
   "metadata": {
    "nbgrader": {
     "grade": true,
     "grade_id": "q1d-answer",
     "locked": false,
     "points": 1,
     "schema_version": 2,
     "solution": true
    },
    "tags": [
     "student",
     "written"
    ]
   },
   "outputs": [],
   "source": [
    "q1d_answer = r\"\"\"\n",
    "\n",
    "Put your answer here, replacing this text. Do not take into account the ### YOUR CODE HERE below\n",
    "\n",
    "\"\"\"\n",
    "\n",
    "### BEGIN SOLUTION\n",
    "q1d_answer = r\"\"\"\n",
    "\n",
    "(1 pt) There appears to be a missing phone number for NORMAN'S ICE CREAM AND FREEZES.\n",
    "\n",
    "\"\"\"\n",
    "### END SOLUTION\n",
    "\n",
    "print(q1d_answer)"
   ]
  },
  {
   "cell_type": "code",
   "execution_count": null,
   "metadata": {
    "nbgrader": {
     "grade": true,
     "grade_id": "q2b-answer",
     "locked": false,
     "points": 1,
     "schema_version": 2,
     "solution": true
    },
    "tags": [
     "student",
     "written"
    ]
   },
   "outputs": [],
   "source": [
    "q2b_answer = r\"\"\"\n",
    "\n",
    "Put your answer here, replacing this text. Do not take into account the ### YOUR CODE HERE below\n",
    "\n",
    "\"\"\"\n",
    "\n",
    "### BEGIN SOLUTION\n",
    "q2b_answer = r\"\"\"\n",
    "\n",
    "(1 pt) There are 6406 rows in `bus`, and each row has a unique `business_id`. \n",
    "This implies that each row represents a single business. If we then groupby name\n",
    "we see that there are many rows/records with the same name at different locations\n",
    "indicating that each record represents a store.\n",
    "\n",
    "\"\"\"\n",
    "### END SOLUTION\n",
    "\n",
    "print(q2b_answer)"
   ]
  },
  {
   "cell_type": "code",
   "execution_count": null,
   "metadata": {
    "nbgrader": {
     "grade": true,
     "grade_id": "q3a-answer",
     "locked": false,
     "points": 1,
     "schema_version": 2,
     "solution": true
    },
    "tags": [
     "student",
     "written"
    ]
   },
   "outputs": [],
   "source": [
    "# Use this cell for your explorations.\n",
    "q3a_answer = r\"\"\"\n",
    "\n",
    "Put your answer here, replacing this text. Do not take into account the ### YOUR CODE HERE below\n",
    "\n",
    "\"\"\"\n",
    "\n",
    "### BEGIN SOLUTION\n",
    "q3a_answer = r\"\"\"\n",
    "\n",
    "(0.5 pt) The zip codes are largely nominal fields with little meaning to differences or ratios.  \n",
    "While in some regions of the country similar numbers correspond to similar locations \n",
    "this is not a strict guarantee.\n",
    "\n",
    "(0.5 pt) The zip codes are currently stored as strings.\n",
    "\n",
    "\"\"\"\n",
    "### END SOLUTION\n",
    "\n",
    "print(q3a_answer)"
   ]
  },
  {
   "cell_type": "code",
   "execution_count": null,
   "metadata": {
    "nbgrader": {
     "grade": true,
     "grade_id": "q3c-answer",
     "locked": false,
     "points": 1,
     "schema_version": 2,
     "solution": true
    },
    "tags": [
     "student",
     "written"
    ]
   },
   "outputs": [],
   "source": [
    "# Use this cell for your explorations.\n",
    "q3c_answer = r\"\"\"\n",
    "\n",
    "Put your answer here, replacing this text. Do not take into account the ### YOUR CODE HERE below\n",
    "\n",
    "\"\"\"\n",
    "\n",
    "### BEGIN SOLUTION\n",
    "q3c_answer = r\"\"\"\n",
    "\n",
    "(1 pt) Many of the restuarants without zipcodes are \"off the grid\" indicating that they are moving restaurants.\n",
    "Therefore a missing zipcode might actually make sense and dropping these from analysis could bias our conclusions.\n",
    "\n",
    "\"\"\"\n",
    "### END SOLUTION\n",
    "\n",
    "print(q3c_answer)"
   ]
  },
  {
   "cell_type": "code",
   "execution_count": null,
   "metadata": {
    "nbgrader": {
     "grade": true,
     "grade_id": "q3d-answer",
     "locked": false,
     "points": 1,
     "schema_version": 2,
     "solution": true
    },
    "tags": [
     "student",
     "written"
    ]
   },
   "outputs": [],
   "source": [
    "# Use this cell for your explorations.\n",
    "q3d_answer = r\"\"\"\n",
    "\n",
    "Put your answer here, replacing this text.  Do not take into account the ### YOUR CODE HERE below\n",
    "\n",
    "94545 - ...\n",
    "\n",
    "94602 - ...\n",
    "\n",
    "94609 - ...\n",
    "\n",
    "\"\"\"\n",
    "\n",
    "\n",
    "### BEGIN SOLUTION HERE\n",
    "\n",
    "bus.set_index('zip_code').loc[[\"94545\", \"94602\", \"94609\"]]\n",
    "\n",
    "q3d_answer = r\"\"\"\n",
    "\n",
    "(1 pt - all correct, 0.5 pt if partially correct)\n",
    "\n",
    "94545 - Hayward, look at record and see it's vending machine company with many locations \n",
    "\n",
    "94602 - Oakland, look at the record and see it's probably a typo and should be 94102\n",
    "\n",
    "94609 - Oakland, Food truck based in oakland but probably travles around.\n",
    "\n",
    "\"\"\"\n",
    "\n",
    "### END SOLUTION HERE\n",
    "\n",
    "print(q3d_answer)"
   ]
  },
  {
   "cell_type": "code",
   "execution_count": null,
   "metadata": {
    "nbgrader": {
     "grade": true,
     "grade_id": "q5b-answer",
     "locked": false,
     "points": 1,
     "schema_version": 2,
     "solution": true
    },
    "tags": [
     "student",
     "written"
    ]
   },
   "outputs": [],
   "source": [
    "q5b_answer = r\"\"\"\n",
    "\n",
    "Put your answer here, replacing this text. Do not take into account the ### YOUR CODE HERE below\n",
    "\n",
    "\"\"\"\n",
    "\n",
    "### BEGIN SOLUTION\n",
    "print(pd.value_counts(ins['type']))\n",
    "\n",
    "q5b_answer = r\"\"\"\n",
    "\n",
    "(0.5 pt) All the records have the same value, \"routine\", except for one. \n",
    "(0.5 pt) This variable will not be useful in any analysis because it provides no information.\n",
    "\n",
    "\"\"\"\n",
    "### END SOLUTION\n",
    "\n",
    "print(q5b_answer)"
   ]
  },
  {
   "cell_type": "code",
   "execution_count": null,
   "metadata": {
    "nbgrader": {
     "grade": true,
     "grade_id": "q5d-answer",
     "locked": false,
     "points": 1,
     "schema_version": 2,
     "solution": true
    },
    "tags": [
     "student",
     "written"
    ]
   },
   "outputs": [],
   "source": [
    "q5d_answer = r\"\"\"\n",
    "\n",
    "Put your answer here, replacing this text. Do not take into account the ### YOUR CODE HERE below\n",
    "\n",
    "\"\"\"\n",
    "\n",
    "### BEGIN SOLUTION\n",
    "print(pd.value_counts(ins['year']))\n",
    "\n",
    "q5d_answer = r\"\"\"\n",
    "\n",
    "(1 pt) Answer: No, 2018 only has a few. Also 2015 has far fewer inspections than 2016 or 2017.\n",
    "\n",
    "\"\"\"\n",
    "### END SOLUTION\n",
    "\n",
    "print(q5d_answer)"
   ]
  },
  {
   "cell_type": "code",
   "execution_count": null,
   "metadata": {
    "nbgrader": {
     "grade": true,
     "grade_id": "q6a-answer",
     "locked": false,
     "points": 1,
     "schema_version": 2,
     "solution": true
    },
    "tags": [
     "student"
    ]
   },
   "outputs": [],
   "source": [
    "q6a_answer = r\"\"\"\n",
    "\n",
    "(1 pt) For producing a plot that appears as below. Note that the y-axis has counts and the\n",
    "the x-axis has separated bars for a bar plot, not bars for a histogram.\n",
    "\n",
    "\"\"\"\n",
    "\n",
    "scoreCts = ...\n",
    "\n",
    "### BEGIN SOLUTION\n",
    "scoreCts = pd.value_counts(ins2016['score'], sort=True)\n",
    "plt.bar(scoreCts.keys(), scoreCts.values)\n",
    "### END SOLUTION\n",
    "\n",
    "plt.show()"
   ]
  },
  {
   "cell_type": "markdown",
   "metadata": {},
   "source": [
    "<img src='rubric/ins-plot.png'/>"
   ]
  },
  {
   "cell_type": "code",
   "execution_count": null,
   "metadata": {
    "nbgrader": {
     "grade": true,
     "grade_id": "q6b-answer",
     "locked": false,
     "points": 1,
     "schema_version": 2,
     "solution": true
    },
    "tags": [
     "student",
     "written"
    ]
   },
   "outputs": [],
   "source": [
    "q6b_answer = r\"\"\"\n",
    "\n",
    "Put your answer here, replacing this text. Do not take into account the ### YOUR CODE HERE below\n",
    "\n",
    "\"\"\"\n",
    "\n",
    "### BEGIN SOLUTION\n",
    "q6b_answer = r\"\"\"\n",
    "\n",
    "(1 pt - all correct, 0.5 partially correct)\n",
    "\n",
    "The distribution is unimodal with a peak at 100. \n",
    "It is skewed left (as expected with a variable bounded on the right). \n",
    "The distribution has a long left tail with some restaurants receiving scores \n",
    "that are in the 50s, 60s, and 70s. One unusal feature of the distribution is the \n",
    "bumpiness with even numbers having higher counts than odd. This may be because\n",
    "the violations result in penalties of 2, 4, 10, etc. points.\n",
    "\n",
    "\"\"\"\n",
    "### END SOLUTION\n",
    "\n",
    "print(q6b_answer)"
   ]
  },
  {
   "cell_type": "code",
   "execution_count": null,
   "metadata": {
    "nbgrader": {
     "grade": true,
     "grade_id": "q7a-plot-answer",
     "locked": false,
     "points": 1,
     "schema_version": 2,
     "solution": true
    },
    "tags": [
     "student",
     "written"
    ]
   },
   "outputs": [],
   "source": [
    "# Create scatter plot here.\n",
    "\n",
    "q7a_answer = r\"\"\"\n",
    "\n",
    "(0.5 pt) Make a scatter plot to display these pairs of scores. \n",
    "\n",
    "(0.5 pt) Include on the plot a reference line with slope 1.\n",
    "\n",
    "\"\"\"\n",
    "\n",
    "### BEGIN SOLUTION\n",
    "[first_score,second_score] = list(zip(*map(lambda l: tuple(l[0]),scores_pairs_by_business.values)))\n",
    "plt.scatter(first_score,second_score,s=20,facecolors='none',edgecolors='b')\n",
    "plt.plot([55,100],[55,100],'r-')\n",
    "plt.xlabel('first score')\n",
    "plt.ylabel('second score')\n",
    "plt.axis([55,100,55,100]);\n",
    "### END SOLUTION"
   ]
  },
  {
   "cell_type": "markdown",
   "metadata": {},
   "source": [
    "<img src='rubric/score-pair-scatter.png'/>"
   ]
  },
  {
   "cell_type": "code",
   "execution_count": null,
   "metadata": {
    "nbgrader": {
     "grade": true,
     "grade_id": "q7b-answer",
     "locked": false,
     "points": 1,
     "schema_version": 2,
     "solution": true
    },
    "tags": [
     "student",
     "written"
    ]
   },
   "outputs": [],
   "source": [
    "q7b_answer = r\"\"\"\n",
    "\n",
    "(1 pt) Make a histogram of differences. \n",
    "\n",
    "\"\"\"\n",
    "\n",
    "# Create histogram here\n",
    "### BEGIN SOLUTION\n",
    "diffs = [score_pair[1] - score_pair[0] for t in scores_pairs_by_business.values for score_pair in t]\n",
    "plt.hist(diffs,bins=30);\n",
    "### END SOLUTION"
   ]
  },
  {
   "cell_type": "markdown",
   "metadata": {},
   "source": [
    "<img src='rubric/score-pair-hist.png'/>"
   ]
  },
  {
   "cell_type": "code",
   "execution_count": null,
   "metadata": {
    "nbgrader": {
     "grade": true,
     "grade_id": "q7c-answer",
     "locked": false,
     "points": 1,
     "schema_version": 2,
     "solution": true
    },
    "tags": [
     "student",
     "written"
    ]
   },
   "outputs": [],
   "source": [
    "q7c_answer = r\"\"\"\n",
    "\n",
    "Put your answer here, replacing this text. Do not take into account the ###YOUR CODE HERE below.\n",
    "\n",
    "\"\"\"\n",
    "\n",
    "### BEGIN SOLUTION\n",
    "q7c_answer = r\"\"\"\n",
    "\n",
    "(1 pt - all correct, 0.5 pt partially correct)\n",
    "\n",
    "If the restaurants tend to improve from the first to the second inspection, \n",
    "we would expect to see the points in the scatter plot fall above the line of slope 1. \n",
    "We would also expet to see the histogram of the difference in scores to be shifted toward\n",
    "positive values. Interestingly, we don't see this. The second inspection often is worse than first. \n",
    "The histogram of differences shows a unimodal distribution with a peak below 0. \n",
    "This distribution has long tails with some scores being as low as -20 and others as high as 20-30.\n",
    "\n",
    "\"\"\"\n",
    "### END SOLUTION\n",
    "\n",
    "print(q7c_answer)"
   ]
  }
 ],
 "metadata": {
  "anaconda-cloud": {},
  "celltoolbar": "Create Assignment",
  "kernelspec": {
   "display_name": "Python 3",
   "language": "python",
   "name": "python3"
  },
  "language_info": {
   "codemirror_mode": {
    "name": "ipython",
    "version": 3
   },
   "file_extension": ".py",
   "mimetype": "text/x-python",
   "name": "python",
   "nbconvert_exporter": "python",
   "pygments_lexer": "ipython3",
   "version": "3.6.4"
  }
 },
 "nbformat": 4,
 "nbformat_minor": 2
}
